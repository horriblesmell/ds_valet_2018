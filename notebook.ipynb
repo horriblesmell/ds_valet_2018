{
 "cells": [
  {
   "cell_type": "markdown",
   "metadata": {
    "toc": true
   },
   "source": [
    "<h1>Table of Contents<span class=\"tocSkip\"></span></h1>\n",
    "<div class=\"toc\"><ul class=\"toc-item\"><li><span><a href=\"#1.-Skapande-av-mappar\" data-toc-modified-id=\"1.-Skapande-av-mappar-1\">1. Skapande av mappar</a></span></li><li><span><a href=\"#2.-Grunddata\" data-toc-modified-id=\"2.-Grunddata-2\">2. Grunddata</a></span><ul class=\"toc-item\"><li><span><a href=\"#2.1-Hämta-grunddata-från-Valmyndigheten\" data-toc-modified-id=\"2.1-Hämta-grunddata-från-Valmyndigheten-2.1\">2.1 Hämta grunddata från Valmyndigheten</a></span></li><li><span><a href=\"#2.2-Extrahera-grunddata-från-xml-filerna\" data-toc-modified-id=\"2.2-Extrahera-grunddata-från-xml-filerna-2.2\">2.2 Extrahera grunddata från xml-filerna</a></span></li></ul></li><li><span><a href=\"#3.-Tidningsarbetet\" data-toc-modified-id=\"3.-Tidningsarbetet-3\">3. Tidningsarbetet</a></span><ul class=\"toc-item\"><li><span><a href=\"#3.1-Förstauppslaget---Lönade-det-sig-att-styra-över-blockgränsen?\" data-toc-modified-id=\"3.1-Förstauppslaget---Lönade-det-sig-att-styra-över-blockgränsen?-3.1\">3.1 Förstauppslaget - Lönade det sig att styra över blockgränsen?</a></span><ul class=\"toc-item\"><li><ul class=\"toc-item\"><li><span><a href=\"#3.1.1-Intro\" data-toc-modified-id=\"3.1.1-Intro-3.1.0.1\">3.1.1 Intro</a></span></li><li><span><a href=\"#3.1.2-Bearbetning\" data-toc-modified-id=\"3.1.2-Bearbetning-3.1.0.2\">3.1.2 Bearbetning</a></span></li><li><span><a href=\"#3.1.3-Kompletterande-grafik\" data-toc-modified-id=\"3.1.3-Kompletterande-grafik-3.1.0.3\">3.1.3 Kompletterande grafik</a></span></li><li><span><a href=\"#3.1.4-README\" data-toc-modified-id=\"3.1.4-README-3.1.0.4\">3.1.4 README</a></span></li></ul></li></ul></li><li><span><a href=\"#3.2-Så-gick-det-för-partierna-i-kommunvalen\" data-toc-modified-id=\"3.2-Så-gick-det-för-partierna-i-kommunvalen-3.2\">3.2 Så gick det för partierna i kommunvalen</a></span><ul class=\"toc-item\"><li><ul class=\"toc-item\"><li><span><a href=\"#3.2.1-Intro\" data-toc-modified-id=\"3.2.1-Intro-3.2.0.1\">3.2.1 Intro</a></span></li><li><span><a href=\"#3.2.2-Partiernas-resultat-(röstandelar-totalt?)-i-kommunvalet,-2006,-2010,-2014-och-2018.\" data-toc-modified-id=\"3.2.2-Partiernas-resultat-(röstandelar-totalt?)-i-kommunvalet,-2006,-2010,-2014-och-2018.-3.2.0.2\">3.2.2 Partiernas resultat (röstandelar totalt?) i kommunvalet, 2006, 2010, 2014 och 2018.</a></span></li><li><span><a href=\"#3.2.3-Antalet-kommuner-där-partierna-ökar/backar,-per-parti,-på-valresultatet-2018.\" data-toc-modified-id=\"3.2.3-Antalet-kommuner-där-partierna-ökar/backar,-per-parti,-på-valresultatet-2018.-3.2.0.3\">3.2.3 Antalet kommuner där partierna ökar/backar, per parti, på valresultatet 2018.</a></span></li><li><span><a href=\"#3.2.4-Största-lokala-framgångarna---andel-röster-i-en-kommun-jämfört-med-partiets-andel-i-riket\" data-toc-modified-id=\"3.2.4-Största-lokala-framgångarna---andel-röster-i-en-kommun-jämfört-med-partiets-andel-i-riket-3.2.0.4\">3.2.4 Största lokala framgångarna - andel röster i en kommun jämfört med partiets andel i riket</a></span></li><li><span><a href=\"#3.2.5-Starkaste-fästena-(de-kommuner-där-det-gick-bäst/sämst,-per-parti)\" data-toc-modified-id=\"3.2.5-Starkaste-fästena-(de-kommuner-där-det-gick-bäst/sämst,-per-parti)-3.2.0.5\">3.2.5 Starkaste fästena (de kommuner där det gick bäst/sämst, per parti)</a></span></li><li><span><a href=\"#3.2.6-Mandatfördelningen-i-kommunerna-(antal-och-förändring-jämfört-valet-2014)\" data-toc-modified-id=\"3.2.6-Mandatfördelningen-i-kommunerna-(antal-och-förändring-jämfört-valet-2014)-3.2.0.6\">3.2.6 Mandatfördelningen i kommunerna (antal och förändring jämfört valet 2014)</a></span></li><li><span><a href=\"#3.2.7-README\" data-toc-modified-id=\"3.2.7-README-3.2.0.7\">3.2.7 README</a></span></li></ul></li></ul></li><li><span><a href=\"#3.3-Så-gick-det-i-landstingen\" data-toc-modified-id=\"3.3-Så-gick-det-i-landstingen-3.3\">3.3 Så gick det i landstingen</a></span><ul class=\"toc-item\"><li><ul class=\"toc-item\"><li><span><a href=\"#3.3.1-Intro\" data-toc-modified-id=\"3.3.1-Intro-3.3.0.1\">3.3.1 Intro</a></span></li><li><span><a href=\"#3.3.2-Mandatfördelningen-per-parti-i-landstingen-2014-och-2018\" data-toc-modified-id=\"3.3.2-Mandatfördelningen-per-parti-i-landstingen-2014-och-2018-3.3.0.2\">3.3.2 Mandatfördelningen per parti i landstingen 2014 och 2018</a></span></li><li><span><a href=\"#3.3.3-Landstingen-där-respektive-parti-får-starkast-stöd\" data-toc-modified-id=\"3.3.3-Landstingen-där-respektive-parti-får-starkast-stöd-3.3.0.3\">3.3.3 Landstingen där respektive parti får starkast stöd</a></span></li><li><span><a href=\"#3.3.4-Största-lokala-framgångarna---andel-röster-lokalt-jämfört-med-riks\" data-toc-modified-id=\"3.3.4-Största-lokala-framgångarna---andel-röster-lokalt-jämfört-med-riks-3.3.0.4\">3.3.4 Största lokala framgångarna - andel röster lokalt jämfört med riks</a></span></li><li><span><a href=\"#3.3.5-Antal-mandat-för-alla-sjukvårdspartier\" data-toc-modified-id=\"3.3.5-Antal-mandat-för-alla-sjukvårdspartier-3.3.0.5\">3.3.5 Antal mandat för alla sjukvårdspartier</a></span></li><li><span><a href=\"#3.3.6-Så-fördelades-landstingsrösterna-(per-parti)-2010,-2014,-2018\" data-toc-modified-id=\"3.3.6-Så-fördelades-landstingsrösterna-(per-parti)-2010,-2014,-2018-3.3.0.6\">3.3.6 Så fördelades landstingsrösterna (per parti) 2010, 2014, 2018</a></span></li><li><span><a href=\"#3.3.7-README\" data-toc-modified-id=\"3.3.7-README-3.3.0.7\">3.3.7 README</a></span></li></ul></li></ul></li><li><span><a href=\"#3.4-Intervju:-Wannholt-i-Göteborg\" data-toc-modified-id=\"3.4-Intervju:-Wannholt-i-Göteborg-3.4\">3.4 Intervju: Wannholt i Göteborg</a></span><ul class=\"toc-item\"><li><ul class=\"toc-item\"><li><span><a href=\"#3.4.1-Intro\" data-toc-modified-id=\"3.4.1-Intro-3.4.0.1\">3.4.1 Intro</a></span></li><li><span><a href=\"#3.4.2-Bearbetning\" data-toc-modified-id=\"3.4.2-Bearbetning-3.4.0.2\">3.4.2 Bearbetning</a></span></li></ul></li></ul></li><li><span><a href=\"#3.5-KD---förlorare-riks,-men-starkt-lokalt?\" data-toc-modified-id=\"3.5-KD---förlorare-riks,-men-starkt-lokalt?-3.5\">3.5 KD - förlorare riks, men starkt lokalt?</a></span><ul class=\"toc-item\"><li><ul class=\"toc-item\"><li><span><a href=\"#3.5.1-Intro\" data-toc-modified-id=\"3.5.1-Intro-3.5.0.1\">3.5.1 Intro</a></span></li><li><span><a href=\"#3.5.2-Tio-kommuner-där-KD-fick-störst-röstandel\" data-toc-modified-id=\"3.5.2-Tio-kommuner-där-KD-fick-störst-röstandel-3.5.0.2\">3.5.2 Tio kommuner där KD fick störst röstandel</a></span></li><li><span><a href=\"#3.5.3-Tio-kommuner-där-KD-ökade/minskade-mest-(2018-jämf-2014)\" data-toc-modified-id=\"3.5.3-Tio-kommuner-där-KD-ökade/minskade-mest-(2018-jämf-2014)-3.5.0.3\">3.5.3 Tio kommuner där KD ökade/minskade mest (2018 jämf 2014)</a></span></li><li><span><a href=\"#3.5.4-README\" data-toc-modified-id=\"3.5.4-README-3.5.0.4\">3.5.4 README</a></span></li></ul></li></ul></li><li><span><a href=\"#3.6-SD---så-gick-det-över-landet\" data-toc-modified-id=\"3.6-SD---så-gick-det-över-landet-3.6\">3.6 SD - så gick det över landet</a></span><ul class=\"toc-item\"><li><ul class=\"toc-item\"><li><span><a href=\"#3.6.1-Intro\" data-toc-modified-id=\"3.6.1-Intro-3.6.0.1\">3.6.1 Intro</a></span></li><li><span><a href=\"#3.6.2-Kommuner-där-SD-blev-största-parti\" data-toc-modified-id=\"3.6.2-Kommuner-där-SD-blev-största-parti-3.6.0.2\">3.6.2 Kommuner där SD blev största parti</a></span></li><li><span><a href=\"#3.6.3-SD:s-andel-av-alla-röster-i-samtliga-kommunval\" data-toc-modified-id=\"3.6.3-SD:s-andel-av-alla-röster-i-samtliga-kommunval-3.6.0.3\">3.6.3 SD:s andel av alla röster i samtliga kommunval</a></span></li><li><span><a href=\"#3.6.4-Antal-mandat-och-antal-mandat-till-SD-i-samtliga-kommuner\" data-toc-modified-id=\"3.6.4-Antal-mandat-och-antal-mandat-till-SD-i-samtliga-kommuner-3.6.0.4\">3.6.4 Antal mandat och antal mandat till SD i samtliga kommuner</a></span></li><li><span><a href=\"#3.6.5-De-tio-kommuner-där-SD-ökade/tappade-mest-(jämf-2014)\" data-toc-modified-id=\"3.6.5-De-tio-kommuner-där-SD-ökade/tappade-mest-(jämf-2014)-3.6.0.5\">3.6.5 De tio kommuner där SD ökade/tappade mest (jämf 2014)</a></span></li><li><span><a href=\"#3.6.6-README\" data-toc-modified-id=\"3.6.6-README-3.6.0.6\">3.6.6 README</a></span></li></ul></li></ul></li><li><span><a href=\"#3.7-De-sista-majoritetskommuner?\" data-toc-modified-id=\"3.7-De-sista-majoritetskommuner?-3.7\">3.7 De sista majoritetskommuner?</a></span><ul class=\"toc-item\"><li><ul class=\"toc-item\"><li><span><a href=\"#3.7.1-Intro\" data-toc-modified-id=\"3.7.1-Intro-3.7.0.1\">3.7.1 Intro</a></span></li><li><span><a href=\"#3.7.2-Bearbetning\" data-toc-modified-id=\"3.7.2-Bearbetning-3.7.0.2\">3.7.2 Bearbetning</a></span></li><li><span><a href=\"#3.7.3-README\" data-toc-modified-id=\"3.7.3-README-3.7.0.3\">3.7.3 README</a></span></li></ul></li></ul></li><li><span><a href=\"#3.8-Fi---kom-de-in/åkte-ut?\" data-toc-modified-id=\"3.8-Fi---kom-de-in/åkte-ut?-3.8\">3.8 Fi - kom de in/åkte ut?</a></span><ul class=\"toc-item\"><li><ul class=\"toc-item\"><li><span><a href=\"#3.8.1-Intro\" data-toc-modified-id=\"3.8.1-Intro-3.8.0.1\">3.8.1 Intro</a></span></li><li><span><a href=\"#3.8.2-Antal-mandat-för-Fi-i-kommunvalet-2018-jämfört-2014.\" data-toc-modified-id=\"3.8.2-Antal-mandat-för-Fi-i-kommunvalet-2018-jämfört-2014.-3.8.0.2\">3.8.2 Antal mandat för Fi i kommunvalet 2018 jämfört 2014.</a></span></li><li><span><a href=\"#3.8.3-Antal-kommuner-där-FI-finns-representerade-valet-2018,-jämfört-2014.\" data-toc-modified-id=\"3.8.3-Antal-kommuner-där-FI-finns-representerade-valet-2018,-jämfört-2014.-3.8.0.3\">3.8.3 Antal kommuner där FI finns representerade valet 2018, jämfört 2014.</a></span></li><li><span><a href=\"#3.8.4-Kommuner-där-de-kommit-in/åkt-ut-i-valet-2018.\" data-toc-modified-id=\"3.8.4-Kommuner-där-de-kommit-in/åkt-ut-i-valet-2018.-3.8.0.4\">3.8.4 Kommuner där de kommit in/åkt ut i valet 2018.</a></span></li><li><span><a href=\"#3.8.5-Fi:s-andel-av-rösterna-i-alla-kommuner-2018,-jämfört-2014.\" data-toc-modified-id=\"3.8.5-Fi:s-andel-av-rösterna-i-alla-kommuner-2018,-jämfört-2014.-3.8.0.5\">3.8.5 Fi:s andel av rösterna i alla kommuner 2018, jämfört 2014.</a></span></li><li><span><a href=\"#3.8.6-Antal-mandat-för-Fi-i-landstingsvalet-2018-jämfört-2014.\" data-toc-modified-id=\"3.8.6-Antal-mandat-för-Fi-i-landstingsvalet-2018-jämfört-2014.-3.8.0.6\">3.8.6 Antal mandat för Fi i landstingsvalet 2018 jämfört 2014.</a></span></li><li><span><a href=\"#3.8.7-Antal-landsting-där-de-finns-representerade-valet-2018,-jämfört-2014.\" data-toc-modified-id=\"3.8.7-Antal-landsting-där-de-finns-representerade-valet-2018,-jämfört-2014.-3.8.0.7\">3.8.7 Antal landsting där de finns representerade valet 2018, jämfört 2014.</a></span></li><li><span><a href=\"#3.8.8-Landsting-där-de-kommit-in/åkt-ut-i-valet-2018.\" data-toc-modified-id=\"3.8.8-Landsting-där-de-kommit-in/åkt-ut-i-valet-2018.-3.8.0.8\">3.8.8 Landsting där de kommit in/åkt ut i valet 2018.</a></span></li><li><span><a href=\"#3.8.9-Fi:s-andel-av-rösterna-i-alla-landsting-2018,-jämfört-2014.\" data-toc-modified-id=\"3.8.9-Fi:s-andel-av-rösterna-i-alla-landsting-2018,-jämfört-2014.-3.8.0.9\">3.8.9 Fi:s andel av rösterna i alla landsting 2018, jämfört 2014.</a></span></li><li><span><a href=\"#3.8.10-README\" data-toc-modified-id=\"3.8.10-README-3.8.0.10\">3.8.10 README</a></span></li></ul></li></ul></li><li><span><a href=\"#3.9-De-lokala-partierna\" data-toc-modified-id=\"3.9-De-lokala-partierna-3.9\">3.9 De lokala partierna</a></span><ul class=\"toc-item\"><li><ul class=\"toc-item\"><li><span><a href=\"#3.9.1-Intro\" data-toc-modified-id=\"3.9.1-Intro-3.9.0.1\">3.9.1 Intro</a></span></li><li><span><a href=\"#3.9.2-Bearbetning\" data-toc-modified-id=\"3.9.2-Bearbetning-3.9.0.2\">3.9.2 Bearbetning</a></span></li><li><span><a href=\"#3.9.3-README\" data-toc-modified-id=\"3.9.3-README-3.9.0.3\">3.9.3 README</a></span></li></ul></li></ul></li><li><span><a href=\"#3.10-Här-lockades-flest-till-valbåsen\" data-toc-modified-id=\"3.10-Här-lockades-flest-till-valbåsen-3.10\">3.10 Här lockades flest till valbåsen</a></span><ul class=\"toc-item\"><li><ul class=\"toc-item\"><li><span><a href=\"#3.10.1-Intro\" data-toc-modified-id=\"3.10.1-Intro-3.10.0.1\">3.10.1 Intro</a></span></li><li><span><a href=\"#3.10.2-Bearbetning\" data-toc-modified-id=\"3.10.2-Bearbetning-3.10.0.2\">3.10.2 Bearbetning</a></span></li><li><span><a href=\"#3.10.3-README\" data-toc-modified-id=\"3.10.3-README-3.10.0.3\">3.10.3 README</a></span></li></ul></li></ul></li><li><span><a href=\"#3.11-Så-gick-valet-i-storstäderna\" data-toc-modified-id=\"3.11-Så-gick-valet-i-storstäderna-3.11\">3.11 Så gick valet i storstäderna</a></span><ul class=\"toc-item\"><li><ul class=\"toc-item\"><li><span><a href=\"#3.11.1-Intro\" data-toc-modified-id=\"3.11.1-Intro-3.11.0.1\">3.11.1 Intro</a></span></li><li><span><a href=\"#3.11.2-Bearbetning\" data-toc-modified-id=\"3.11.2-Bearbetning-3.11.0.2\">3.11.2 Bearbetning</a></span></li><li><span><a href=\"#3.11.3-README\" data-toc-modified-id=\"3.11.3-README-3.11.0.3\">3.11.3 README</a></span></li></ul></li></ul></li><li><span><a href=\"#3.12-Valets-förlorare\" data-toc-modified-id=\"3.12-Valets-förlorare-3.12\">3.12 Valets förlorare</a></span><ul class=\"toc-item\"><li><ul class=\"toc-item\"><li><span><a href=\"#3.12.1-Intro\" data-toc-modified-id=\"3.12.1-Intro-3.12.0.1\">3.12.1 Intro</a></span></li><li><span><a href=\"#3.12.2-Bearbetning\" data-toc-modified-id=\"3.12.2-Bearbetning-3.12.0.2\">3.12.2 Bearbetning</a></span></li><li><span><a href=\"#3.12.3-README\" data-toc-modified-id=\"3.12.3-README-3.12.0.3\">3.12.3 README</a></span></li></ul></li></ul></li><li><span><a href=\"#3.13-Lokala-röstmagneter\" data-toc-modified-id=\"3.13-Lokala-röstmagneter-3.13\">3.13 Lokala röstmagneter</a></span><ul class=\"toc-item\"><li><ul class=\"toc-item\"><li><span><a href=\"#3.13.1-Intro\" data-toc-modified-id=\"3.13.1-Intro-3.13.0.1\">3.13.1 Intro</a></span></li><li><span><a href=\"#3.13.2-Bearbetning\" data-toc-modified-id=\"3.13.2-Bearbetning-3.13.0.2\">3.13.2 Bearbetning</a></span></li><li><span><a href=\"#3.13.3-README\" data-toc-modified-id=\"3.13.3-README-3.13.0.3\">3.13.3 README</a></span></li></ul></li></ul></li><li><span><a href=\"#3.14-Webbtabeller-till-Datawrapper\" data-toc-modified-id=\"3.14-Webbtabeller-till-Datawrapper-3.14\">3.14 Webbtabeller till Datawrapper</a></span><ul class=\"toc-item\"><li><ul class=\"toc-item\"><li><span><a href=\"#3.14.1-Intro\" data-toc-modified-id=\"3.14.1-Intro-3.14.0.1\">3.14.1 Intro</a></span></li><li><span><a href=\"#3.14.2-Bearbetning\" data-toc-modified-id=\"3.14.2-Bearbetning-3.14.0.2\">3.14.2 Bearbetning</a></span></li></ul></li></ul></li><li><span><a href=\"#3.15-Övrigt\" data-toc-modified-id=\"3.15-Övrigt-3.15\">3.15 Övrigt</a></span></li></ul></li></ul></div>"
   ]
  },
  {
   "cell_type": "code",
   "execution_count": 1,
   "metadata": {},
   "outputs": [],
   "source": [
    "import pandas as pd\n",
    "import os\n",
    "import warnings\n",
    "warnings.filterwarnings(\"ignore\")\n",
    "#from util import *"
   ]
  },
  {
   "cell_type": "code",
   "execution_count": 2,
   "metadata": {},
   "outputs": [],
   "source": [
    "%matplotlib inline\n",
    "import matplotlib as plt"
   ]
  },
  {
   "cell_type": "markdown",
   "metadata": {},
   "source": [
    "# 1. Skapande av mappar"
   ]
  },
  {
   "cell_type": "code",
   "execution_count": 3,
   "metadata": {},
   "outputs": [],
   "source": [
    "from startup_tools import folder_maker"
   ]
  },
  {
   "cell_type": "code",
   "execution_count": 4,
   "metadata": {},
   "outputs": [],
   "source": [
    "folder_maker(years=['2010','2014','2018'])"
   ]
  },
  {
   "cell_type": "markdown",
   "metadata": {},
   "source": [
    "Utöver en korrekt mappstruktur för alla filer som hämtas från Valmyndigheten, samt den extraherade datan som plockas från dessa, så skapas också mappen 'redaktionsmaterial' med två mappar. Den ena är alla filer som är ämnade för redigeringen (tabeller som ska bli grafik i tidningen). Den andra heter 'valdata' och innehåller en mapp per reporter som ska skriva artiklar i valnumret."
   ]
  },
  {
   "cell_type": "markdown",
   "metadata": {},
   "source": [
    "# 2. Grunddata"
   ]
  },
  {
   "cell_type": "markdown",
   "metadata": {},
   "source": [
    "## 2.1 Hämta grunddata från Valmyndigheten"
   ]
  },
  {
   "cell_type": "markdown",
   "metadata": {},
   "source": [
    "Följande funktion hämtar alla xml-filer för valåren 2006-2018 och sparar dem i mappen 'xml_filer' under 'data'. Parametern \"prelresultat\" kan ändras till \"valnatt\" eller \"slutresultat\" för att hämta det som önskas för 2018. Åren 2010 och 2014 är alltid slutresultatet. Slutresultatet för 2018 är inte färdigt i skrivande stund. Det funktionen faktiskt gör är att hämta zipfilerna från Valmyndighetens URL, packa upp dem och spara ned dem i rätt mapp.\n",
    "\n",
    "Viktigt att ha koll på är att all valdata är att data från 2006 hämtas från 2010:s valdata (där finns information om föregående val). Bortsett 2006 så kan detta innebära att vissa extraval som skett i landsting/kommuner inte kan kommit med för åren 2010-2018."
   ]
  },
  {
   "cell_type": "code",
   "execution_count": 5,
   "metadata": {
    "scrolled": true
   },
   "outputs": [],
   "source": [
    "from startup_tools import xml_data_fetcher"
   ]
  },
  {
   "cell_type": "code",
   "execution_count": 6,
   "metadata": {},
   "outputs": [
    {
     "name": "stdout",
     "output_type": "stream",
     "text": [
      "CPU times: user 5.25 s, sys: 2.23 s, total: 7.48 s\n",
      "Wall time: 40.5 s\n"
     ]
    }
   ],
   "source": [
    "%%time\n",
    "xml_data_fetcher(count_type='slutresultat')"
   ]
  },
  {
   "cell_type": "markdown",
   "metadata": {},
   "source": [
    "## 2.2 Extrahera grunddata från xml-filerna"
   ]
  },
  {
   "cell_type": "markdown",
   "metadata": {},
   "source": [
    "XML-filerna kan sägas bestå av två olika filtyper. Dels tre stycken större filer som ger resultatet i varje val (kommun-, landstings- och riksdagsval) för nation/län/kommun. Det är dessa som modulen 'ExtractData' hämtar data från.\n",
    "\n",
    "Utöver dessa finns tre filer per kommun -- en för varje val. Det är i kommunfilerna man hittar data på valkrets-/distriktsnivå. Dessa filer bearbetas inte av denna modul."
   ]
  },
  {
   "cell_type": "code",
   "execution_count": 7,
   "metadata": {},
   "outputs": [],
   "source": [
    "from startup_tools import ExtractData\n",
    "E = ExtractData()"
   ]
  },
  {
   "cell_type": "markdown",
   "metadata": {},
   "source": [
    "Nu en genomgång av de funktioner som används från modulen 'ExtractData':"
   ]
  },
  {
   "cell_type": "markdown",
   "metadata": {},
   "source": [
    "- Metoden **fast_elec_calc()** bakar ihop valresultatet och sparar det i en excelfil enligt önskat upplägg. \n",
    "\n",
    "- Metoden **fast_particip_calc()** hämtar metadata från xml-filerna. Mer specifikt: valdeltagande i varje kommun, hur många som röstat totalt sett (exklusive blanka och ogilitiga röster) samt summan av hur många mandat som finns i respektive kommuns kommunfullmäktige/landstingsfullmäktige.\n",
    "\n",
    "- **muni_elec_meta_data()** hämtar antalet valkretsar i varje kommun. Anledningen till varför detta är relevant är att för alla kommuner med endast en valkrets så är valspärren 2 procent, alla med fler än en valkrets har en valspärr på 3 procent för partier att få ett mandat. Alla partier som har ett valresultat under valspärren stryks från mandatfördelningsprocessen. (Denna är avkommenterad då den tar rätt lång tid och används sedan inte i resten av programmet)\n",
    "\n",
    "- Metoden **all_parties()** hämtar metadata om alla partier som ställt upp i alla val 2006-2018.\n",
    "\n",
    "- Slutligen, **macro_results** hämtar det samlade valresultatet för alla partier över hela riket i alla de tre valen åren 2006-2018. Resultatet sparas i filen 'alla_valresultat_2006_2018.xlsx' i mappen 'resultat'."
   ]
  },
  {
   "cell_type": "code",
   "execution_count": 8,
   "metadata": {},
   "outputs": [
    {
     "name": "stdout",
     "output_type": "stream",
     "text": [
      "CPU times: user 21.4 s, sys: 690 ms, total: 22.1 s\n",
      "Wall time: 22.2 s\n"
     ]
    }
   ],
   "source": [
    "%%time\n",
    "\n",
    "years = ['2010','2014','2018']\n",
    "\n",
    "for year in years:\n",
    "    E.fast_elec_calc(year=year,count_type=\"slutresultat\")\n",
    "    E.fast_particip_calc(year=year,count_type=\"slutresultat\")\n",
    "    #E.muni_elec_meta_data(year=year)\n",
    "\n",
    "E.all_parties(count_type=\"slutresultat\")\n",
    "E.macro_results(count_type=\"slutresultat\") "
   ]
  },
  {
   "cell_type": "markdown",
   "metadata": {},
   "source": [
    "Här är kan man se hur resultatet av ovan fast_elec_calc() ser ut:"
   ]
  },
  {
   "cell_type": "code",
   "execution_count": 9,
   "metadata": {},
   "outputs": [
    {
     "data": {
      "text/html": [
       "<div>\n",
       "<style scoped>\n",
       "    .dataframe tbody tr th:only-of-type {\n",
       "        vertical-align: middle;\n",
       "    }\n",
       "\n",
       "    .dataframe tbody tr th {\n",
       "        vertical-align: top;\n",
       "    }\n",
       "\n",
       "    .dataframe thead th {\n",
       "        text-align: right;\n",
       "    }\n",
       "</style>\n",
       "<table border=\"1\" class=\"dataframe\">\n",
       "  <thead>\n",
       "    <tr style=\"text-align: right;\">\n",
       "      <th></th>\n",
       "      <th>kommun</th>\n",
       "      <th>kommunkod</th>\n",
       "      <th>mandat</th>\n",
       "      <th>mandat_fgval</th>\n",
       "      <th>parti</th>\n",
       "      <th>procent</th>\n",
       "      <th>procent_fgval</th>\n",
       "      <th>röster</th>\n",
       "      <th>röster_fgval</th>\n",
       "    </tr>\n",
       "  </thead>\n",
       "  <tbody>\n",
       "    <tr>\n",
       "      <th>0</th>\n",
       "      <td>Karlshamn</td>\n",
       "      <td>1082</td>\n",
       "      <td>11.0</td>\n",
       "      <td>11.0</td>\n",
       "      <td>M</td>\n",
       "      <td>21,15</td>\n",
       "      <td>19,59</td>\n",
       "      <td>4542</td>\n",
       "      <td>4079.0</td>\n",
       "    </tr>\n",
       "  </tbody>\n",
       "</table>\n",
       "</div>"
      ],
      "text/plain": [
       "      kommun  kommunkod  mandat  mandat_fgval parti procent procent_fgval  \\\n",
       "0  Karlshamn       1082    11.0          11.0     M   21,15         19,59   \n",
       "\n",
       "   röster  röster_fgval  \n",
       "0    4542        4079.0  "
      ]
     },
     "execution_count": 9,
     "metadata": {},
     "output_type": "execute_result"
    }
   ],
   "source": [
    "pd.read_excel('data/resultat/resultat_2018/valresultat_2018K.xlsx').head(1)"
   ]
  },
  {
   "cell_type": "markdown",
   "metadata": {},
   "source": [
    "Såhär ser resultatet av fast_particip_calc() ut:"
   ]
  },
  {
   "cell_type": "code",
   "execution_count": 10,
   "metadata": {},
   "outputs": [
    {
     "data": {
      "text/html": [
       "<div>\n",
       "<style scoped>\n",
       "    .dataframe tbody tr th:only-of-type {\n",
       "        vertical-align: middle;\n",
       "    }\n",
       "\n",
       "    .dataframe tbody tr th {\n",
       "        vertical-align: top;\n",
       "    }\n",
       "\n",
       "    .dataframe thead th {\n",
       "        text-align: right;\n",
       "    }\n",
       "</style>\n",
       "<table border=\"1\" class=\"dataframe\">\n",
       "  <thead>\n",
       "    <tr style=\"text-align: right;\">\n",
       "      <th></th>\n",
       "      <th>kommun</th>\n",
       "      <th>kommunkod</th>\n",
       "      <th>summa_mandat</th>\n",
       "      <th>summa_röstberättigade</th>\n",
       "      <th>summa_röstberättigade_fgval</th>\n",
       "      <th>summa_röster</th>\n",
       "      <th>summa_röster_fgval</th>\n",
       "      <th>valdeltagande</th>\n",
       "      <th>valdeltagande_fgval</th>\n",
       "    </tr>\n",
       "  </thead>\n",
       "  <tbody>\n",
       "    <tr>\n",
       "      <th>0</th>\n",
       "      <td>Karlshamn</td>\n",
       "      <td>1082</td>\n",
       "      <td>51</td>\n",
       "      <td>25518</td>\n",
       "      <td>25295</td>\n",
       "      <td>21832</td>\n",
       "      <td>21142</td>\n",
       "      <td>85.56</td>\n",
       "      <td>83.58</td>\n",
       "    </tr>\n",
       "  </tbody>\n",
       "</table>\n",
       "</div>"
      ],
      "text/plain": [
       "      kommun  kommunkod  summa_mandat  summa_röstberättigade  \\\n",
       "0  Karlshamn       1082            51                  25518   \n",
       "\n",
       "   summa_röstberättigade_fgval  summa_röster  summa_röster_fgval  \\\n",
       "0                        25295         21832               21142   \n",
       "\n",
       "   valdeltagande  valdeltagande_fgval  \n",
       "0          85.56                83.58  "
      ]
     },
     "execution_count": 10,
     "metadata": {},
     "output_type": "execute_result"
    }
   ],
   "source": [
    "pd.read_excel('data/meta_filer/valdeltagande/valdeltagande_2018K.xlsx').head(1)"
   ]
  },
  {
   "cell_type": "markdown",
   "metadata": {},
   "source": [
    "# 3. Tidningsarbetet"
   ]
  },
  {
   "cell_type": "markdown",
   "metadata": {},
   "source": [
    "Upplägget i följande kapitel är att varje artikelidé får ett eget underkapitel. Artikelidéerna består i många fall av flera frågeställningar och dessa har å sin tur fått egna underkapitel. Dessutom så följs artikelidéerna av ett underkapitel med underlag för redigeringen till tidningen (som sedan hamnar i mappen 'till_grafiken' i mappen 'redaktionsmaterial'). Alla artiklar har dock inte tilltänkt material till redigeringen.\n",
    "\n",
    "Varje kapitel börjar med det som bestämdes under redaktionens valplaneringsmöte och emellanåt en kommentar på hur utfallet sedan blev under valveckans arbete."
   ]
  },
  {
   "cell_type": "markdown",
   "metadata": {},
   "source": [
    "## 3.1 Förstauppslaget - Lönade det sig att styra över blockgränsen?"
   ]
  },
  {
   "cell_type": "markdown",
   "metadata": {},
   "source": [
    "#### 3.1.1 Intro"
   ]
  },
  {
   "cell_type": "markdown",
   "metadata": {},
   "source": [
    "Reporter: Johan D"
   ]
  },
  {
   "cell_type": "markdown",
   "metadata": {},
   "source": [
    "Färre kommuner kan majoritetsstyras av blocken. Hur har det gått för de kommuner som haft blocköverskridande styren?\n",
    "\n",
    "Vad som behövs för huvudvinkel\n",
    "\n",
    "Data:\n",
    "- Procent/mandat för alla partier i alla kommuner, 2006, 2010, 2014 och 2018.\n",
    "- Styren i kommunerna, 2006, 2010, 2014 och 2018.\n",
    "\n",
    "Beräkningar:\n",
    "1. klassa alla styren som Borgerliga, vänster eller blocköverskridande (MP:s medverkan i alliansstyre leder inte till blocköverskridande)\n",
    "2. Räkna samman totala röstandelar, och mandat för alla partier som inkluderas i styrena\n",
    "3. Summera på totalen, per parti, och per typ av styre\n",
    "4. jämför med tidigare val (dvs samma körningar på tidigare års data)\n",
    "\n",
    "För kompletterande grafik\n",
    "\n",
    "- De klassiska höger-/vänsterblockens möjligheter till majoriteter i alla kommuner. Samma som i förra valnumret.\n",
    "\n",
    "Data:\n",
    "- Sammanräknade röstandelar och mandat för höger-/vänsterblocken i alla kommuner (höger: allianspartierna, vänster: S+V)\n",
    "\n",
    "Beräkningar:\n",
    "1. Blockens röstandelar/mandat jämfört med totalen röster/mandat per kommun valen, 2006, 2010, 2014 och 2018.\n",
    "2. Summering av antalet kommuner där högerblocket får majoritet för alla val\n",
    "3. Summering av antalet kommuner där vänsterblocket får majoritet för alla val\n",
    "4. Antalet kommuner där inget block får majoritet\n"
   ]
  },
  {
   "cell_type": "markdown",
   "metadata": {},
   "source": [
    "#### 3.1.2 Bearbetning"
   ]
  },
  {
   "cell_type": "code",
   "execution_count": 11,
   "metadata": {},
   "outputs": [],
   "source": [
    "from util import gov_mandates,block_gov_count"
   ]
  },
  {
   "cell_type": "code",
   "execution_count": 12,
   "metadata": {},
   "outputs": [],
   "source": [
    "compare_year=2014"
   ]
  },
  {
   "cell_type": "code",
   "execution_count": 13,
   "metadata": {},
   "outputs": [],
   "source": [
    "elec_year=2018"
   ]
  },
  {
   "cell_type": "code",
   "execution_count": 14,
   "metadata": {},
   "outputs": [],
   "source": [
    "govs=gov_mandates(compare_year)"
   ]
  },
  {
   "cell_type": "code",
   "execution_count": 15,
   "metadata": {},
   "outputs": [],
   "source": [
    "block=block_gov_count(govs,value='mandat',elec_year=elec_year,compare_year=compare_year)"
   ]
  },
  {
   "cell_type": "markdown",
   "metadata": {},
   "source": [
    "block_gov_count() återger en lista med två items. Det första är en sammanfattade tabell med den infon vi tänkt dra på i tidningens förstauppslag. Det andra är en rak list apå alla kommuner. Kom ihåg att koden sorterar bort de kommuner som inte har partisammarbeten. Exempelvis är inte Munkfors med för 2018 då S där fick egen majoritet."
   ]
  },
  {
   "cell_type": "code",
   "execution_count": 16,
   "metadata": {},
   "outputs": [
    {
     "data": {
      "text/html": [
       "<div>\n",
       "<style scoped>\n",
       "    .dataframe tbody tr th:only-of-type {\n",
       "        vertical-align: middle;\n",
       "    }\n",
       "\n",
       "    .dataframe tbody tr th {\n",
       "        vertical-align: top;\n",
       "    }\n",
       "\n",
       "    .dataframe thead th {\n",
       "        text-align: right;\n",
       "    }\n",
       "</style>\n",
       "<table border=\"1\" class=\"dataframe\">\n",
       "  <thead>\n",
       "    <tr style=\"text-align: right;\">\n",
       "      <th>block</th>\n",
       "      <th>BL</th>\n",
       "      <th>A</th>\n",
       "      <th>V</th>\n",
       "    </tr>\n",
       "  </thead>\n",
       "  <tbody>\n",
       "    <tr>\n",
       "      <th>antal styren mandatperioden 2014-2018</th>\n",
       "      <td>102.0</td>\n",
       "      <td>93.0</td>\n",
       "      <td>78.0</td>\n",
       "    </tr>\n",
       "    <tr>\n",
       "      <th>antal styren som minskat sitt stöd i valet 2018</th>\n",
       "      <td>86.0</td>\n",
       "      <td>42.0</td>\n",
       "      <td>71.0</td>\n",
       "    </tr>\n",
       "    <tr>\n",
       "      <th>andelen av styren som minskat</th>\n",
       "      <td>84.3</td>\n",
       "      <td>45.2</td>\n",
       "      <td>91.0</td>\n",
       "    </tr>\n",
       "    <tr>\n",
       "      <th>total mandatminskning i procent, 2018 jämfört 2014</th>\n",
       "      <td>-12.8</td>\n",
       "      <td>-1.0</td>\n",
       "      <td>-15.8</td>\n",
       "    </tr>\n",
       "    <tr>\n",
       "      <th>antal_majoritetsstyren_2014</th>\n",
       "      <td>84.0</td>\n",
       "      <td>48.0</td>\n",
       "      <td>49.0</td>\n",
       "    </tr>\n",
       "    <tr>\n",
       "      <th>antal_majoritetsstyren_2018</th>\n",
       "      <td>30.0</td>\n",
       "      <td>44.0</td>\n",
       "      <td>16.0</td>\n",
       "    </tr>\n",
       "  </tbody>\n",
       "</table>\n",
       "</div>"
      ],
      "text/plain": [
       "block                                                  BL     A     V\n",
       "antal styren mandatperioden 2014-2018               102.0  93.0  78.0\n",
       "antal styren som minskat sitt stöd i valet 2018      86.0  42.0  71.0\n",
       "andelen av styren som minskat                        84.3  45.2  91.0\n",
       "total mandatminskning i procent, 2018 jämfört 2014  -12.8  -1.0 -15.8\n",
       "antal_majoritetsstyren_2014                          84.0  48.0  49.0\n",
       "antal_majoritetsstyren_2018                          30.0  44.0  16.0"
      ]
     },
     "execution_count": 16,
     "metadata": {},
     "output_type": "execute_result"
    }
   ],
   "source": [
    "block[1]"
   ]
  },
  {
   "cell_type": "code",
   "execution_count": 17,
   "metadata": {},
   "outputs": [],
   "source": [
    "block[1].to_excel('redaktionsmaterial/valdata/JOHAN_blockstyren/väljarnas_dom_på_blocken_TOTALT.xlsx')"
   ]
  },
  {
   "cell_type": "markdown",
   "metadata": {},
   "source": [
    "Följande är en grundtabell för mig och Gustav att jobba med i excel inför publicering ifall så behövs. Eller ifall vi vill kontrollera saker:"
   ]
  },
  {
   "cell_type": "code",
   "execution_count": 18,
   "metadata": {},
   "outputs": [],
   "source": [
    "block[0].to_excel(\"redaktionsmaterial/valdata/JOHAN_blockstyren/grunddata/tabell_blocken.xlsx\",index=False)\n",
    "block_gov_count(govs,value='mandat',elec_year=elec_year,compare_year=compare_year,research_data=True)\\\n",
    "    .to_excel(\"redaktionsmaterial/valdata/JOHAN_blockstyren/grunddata/tabell_partierna.xlsx\",index=False)"
   ]
  },
  {
   "cell_type": "markdown",
   "metadata": {},
   "source": [
    "#### 3.1.3 Kompletterande grafik"
   ]
  },
  {
   "cell_type": "markdown",
   "metadata": {},
   "source": [
    "Sara P vill ha en jämförelse liknande den som gjordes i förra valnumret. I denna så jämfördes de klassiska blockens möjligheter till att få en majoritet.\n",
    "\n",
    "Följande beräkningar ska alltså svara på frågan: får något av de klassiska blocken en majoritet. Med klassiska block menas antingen S+V, eller allianspartierna. MP räknas inte in.\n",
    "\n",
    "Vi börjar med S+V. Data blir resultatsfilerna med valresultaten."
   ]
  },
  {
   "cell_type": "code",
   "execution_count": 19,
   "metadata": {},
   "outputs": [],
   "source": [
    "from util import all_elec_years,majority_calc"
   ]
  },
  {
   "cell_type": "code",
   "execution_count": 20,
   "metadata": {},
   "outputs": [],
   "source": [
    "df = all_elec_years('K')"
   ]
  },
  {
   "cell_type": "code",
   "execution_count": 21,
   "metadata": {},
   "outputs": [
    {
     "data": {
      "text/html": [
       "<div>\n",
       "<style scoped>\n",
       "    .dataframe tbody tr th:only-of-type {\n",
       "        vertical-align: middle;\n",
       "    }\n",
       "\n",
       "    .dataframe tbody tr th {\n",
       "        vertical-align: top;\n",
       "    }\n",
       "\n",
       "    .dataframe thead th {\n",
       "        text-align: right;\n",
       "    }\n",
       "</style>\n",
       "<table border=\"1\" class=\"dataframe\">\n",
       "  <thead>\n",
       "    <tr style=\"text-align: right;\">\n",
       "      <th></th>\n",
       "      <th>alliansen</th>\n",
       "      <th>vänstern</th>\n",
       "      <th>övriga</th>\n",
       "    </tr>\n",
       "    <tr>\n",
       "      <th>valår</th>\n",
       "      <th></th>\n",
       "      <th></th>\n",
       "      <th></th>\n",
       "    </tr>\n",
       "  </thead>\n",
       "  <tbody>\n",
       "    <tr>\n",
       "      <th>2006</th>\n",
       "      <td>118</td>\n",
       "      <td>70</td>\n",
       "      <td>102</td>\n",
       "    </tr>\n",
       "    <tr>\n",
       "      <th>2010</th>\n",
       "      <td>93</td>\n",
       "      <td>69</td>\n",
       "      <td>128</td>\n",
       "    </tr>\n",
       "    <tr>\n",
       "      <th>2014</th>\n",
       "      <td>36</td>\n",
       "      <td>57</td>\n",
       "      <td>197</td>\n",
       "    </tr>\n",
       "    <tr>\n",
       "      <th>2018</th>\n",
       "      <td>53</td>\n",
       "      <td>27</td>\n",
       "      <td>210</td>\n",
       "    </tr>\n",
       "  </tbody>\n",
       "</table>\n",
       "</div>"
      ],
      "text/plain": [
       "       alliansen  vänstern  övriga\n",
       "valår                             \n",
       "2006         118        70     102\n",
       "2010          93        69     128\n",
       "2014          36        57     197\n",
       "2018          53        27     210"
      ]
     },
     "execution_count": 21,
     "metadata": {},
     "output_type": "execute_result"
    }
   ],
   "source": [
    "majority_calc(df,operator='mandat')"
   ]
  },
  {
   "cell_type": "markdown",
   "metadata": {},
   "source": [
    "Ovan ser vi alltså i hur många kommuner alliansen (M+C+L+KD) hade tillsammans egen majoritet, samma för vänstern (S+V). Övriga är endast alla 290 kommuner minus allians- och vänstermajoriteter."
   ]
  },
  {
   "cell_type": "markdown",
   "metadata": {},
   "source": [
    "Ovanstående är kontrollräknat och stämmer. Det enda man bör ha i åtanke är att det i valdata kan vara enstaka kommuner som har haft omval tidigare år. T ex så hade Båstad ett sådant i juni 2015, där t ex M tappade två mandat. Men på det stora hela så spelar det ingen roll. Ovanstående beräkning skiljer sig från beräkningen i förra valtidningen där allianspartierna styrde två fler kommuner."
   ]
  },
  {
   "cell_type": "markdown",
   "metadata": {
    "heading_collapsed": true
   },
   "source": [
    "##### 3.1.3.1 till grafik"
   ]
  },
  {
   "cell_type": "code",
   "execution_count": 22,
   "metadata": {
    "hidden": true
   },
   "outputs": [],
   "source": [
    "majority_calc(df,operator='mandat').to_excel(\"redaktionsmaterial/tabeller_till_grafik/2_3an_blockstyren_JOHAN_D/\\\n",
    "kompletterande_grafik_blockmajoriteter.xlsx\")"
   ]
  },
  {
   "cell_type": "code",
   "execution_count": 23,
   "metadata": {
    "hidden": true
   },
   "outputs": [],
   "source": [
    "majority_calc(df,operator='mandat').to_excel(\"redaktionsmaterial/valdata/JOHAN_blockstyren/antalet_kommuner_med_blockmajoritet_i_mandat.xlsx\")"
   ]
  },
  {
   "cell_type": "markdown",
   "metadata": {
    "heading_collapsed": true
   },
   "source": [
    "#### 3.1.4 README"
   ]
  },
  {
   "cell_type": "markdown",
   "metadata": {
    "hidden": true
   },
   "source": [
    "Varje reporter får också en README-fil med info om vad deras respektive mapp innehåller:"
   ]
  },
  {
   "cell_type": "code",
   "execution_count": 24,
   "metadata": {
    "hidden": true
   },
   "outputs": [],
   "source": [
    "with open(\"redaktionsmaterial/valdata/JOHAN_blockstyren/README.txt\",\"w\") as f:\n",
    "    f.write(\"\"\"\\\n",
    "Denna mapps innehåll är tänkt till valnumrets 2-3:a. Filerna häri \\\n",
    "ger svar på hur blocken som styrde kommunerna 2014-2018 straffats \\\n",
    "av väljarna i om valet 2018. Här är en kortare genomgång av \\\n",
    "filerna som finns i mappen:\n",
    "\n",
    "1. väljarnas_dom_på_blocken_TOTALT.xlsx\n",
    "Denna fil innehåller en övergripande sammanställning som visar i \\\n",
    "hur många kommuner de olika blocken straffades av väljarna och \\\n",
    "fick minskat mandat. Blocken definieras såhär: A för Alliansstyre \\\n",
    "(M, C, L och KD) och V för Vänsterstyre (S och V). BL, dvs \\\n",
    "blocköverskridande styre, är där något av partierna i block A \\\n",
    "respektive V styrde tillsammans under mandatperioden. \n",
    "\n",
    "Eftersom målsättningen här är att se hur olika partiSAMARBETEN \\\n",
    "ansvarsutkrävs av väljarna är partier där endast ett parti styr \\\n",
    "bortsorterade (så även när något av de enskilda riksdagspartierna \\\n",
    "styr tillsammans med något lokalt parti).\n",
    "\n",
    "2. väljarnas_dom_på_blocken_PER_KOMMUN.xlsx\n",
    "Här hittar man den data som ovanstående sammanställning bygger på. \\\n",
    "I denna fil kollar man ifall man vill se hur det gått för någon \\\n",
    "särskild kommun.\n",
    "\n",
    "3. antalet_kommuner_med_blockmajoritet_i_mandat.xlsx\n",
    "**TÄNKT SOM POTENTIELL FÖRDJUPANDE GRAFIK**\n",
    "Denna fil innehåller siffror på i hur många kommuner respektive \\\n",
    "traditionellt block fick egen majoritet (i mandat) i alla val \\\n",
    "sedan 2006. Det här är samma siffror som huvudgrafiken på 2-3:an \\\n",
    "i förra valnumret byggde på.\n",
    "\"\"\")\n",
    "    f.close"
   ]
  },
  {
   "cell_type": "markdown",
   "metadata": {
    "heading_collapsed": true
   },
   "source": [
    "## 3.2 Så gick det för partierna i kommunvalen"
   ]
  },
  {
   "cell_type": "markdown",
   "metadata": {
    "heading_collapsed": true,
    "hidden": true
   },
   "source": [
    "#### 3.2.1 Intro"
   ]
  },
  {
   "cell_type": "markdown",
   "metadata": {
    "hidden": true
   },
   "source": [
    "***Reporter: Samuel***"
   ]
  },
  {
   "cell_type": "markdown",
   "metadata": {
    "hidden": true
   },
   "source": [
    "Att ta fram:\n",
    "1. Partiernas resultat (röstandelar totalt?) i kommunvalet, 2006, 2010, 2014 och 2018.\n",
    "2. Antalet kommuner där partierna ökar/backar, per parti, på valresultatet 2018.\n",
    "3. Största lokala framgångarna/motgångarna - andel röster i en kommun jämfört med partiets andel i riket.\n",
    "4. Starkaste fästena (de kommuner där det gick bäst/sämst, per parti)\n",
    "5. Mandatfördelningen i kommunerna (antal och förändring jämfört valet 2014)\n",
    "6. **I vilken kommun gör respektive riksdagsparti sin största ökning respektive sin största minskning jämfört med kommunvalet 2014? NY!!!**\n"
   ]
  },
  {
   "cell_type": "code",
   "execution_count": 25,
   "metadata": {
    "hidden": true
   },
   "outputs": [],
   "source": [
    "from util import all_elec_years,valanalys,bästa_kommunen\n",
    "import pandas as pd"
   ]
  },
  {
   "cell_type": "code",
   "execution_count": 26,
   "metadata": {
    "hidden": true
   },
   "outputs": [],
   "source": [
    "elec_year = 2018\n",
    "year_compare = 2014\n",
    "elec_type = 'K'"
   ]
  },
  {
   "cell_type": "markdown",
   "metadata": {
    "heading_collapsed": true,
    "hidden": true
   },
   "source": [
    "#### 3.2.2 Partiernas resultat (röstandelar totalt?) i kommunvalet, 2006, 2010, 2014 och 2018."
   ]
  },
  {
   "cell_type": "markdown",
   "metadata": {
    "hidden": true
   },
   "source": [
    "För att se ett samlat resultat för alla partier i kommunerna. Funktionen återger en lista där det första är listan av alla partiers valresultat i riket. Det andra används för fråga 3:"
   ]
  },
  {
   "cell_type": "markdown",
   "metadata": {
    "hidden": true
   },
   "source": [
    "'K' för kommunval:"
   ]
  },
  {
   "cell_type": "code",
   "execution_count": 27,
   "metadata": {
    "hidden": true
   },
   "outputs": [],
   "source": [
    "df = all_elec_years('K')"
   ]
  },
  {
   "cell_type": "code",
   "execution_count": 28,
   "metadata": {
    "hidden": true
   },
   "outputs": [],
   "source": [
    "for year in [2006,2010,2014,2018]:\n",
    "    valanalys(df,query='valresultat',elec_type='K',year=year)[0]\\\n",
    "    .to_excel(f'redaktionsmaterial/valdata/SAMUEL_kommunvalet/1_partiresultat_kommunvalet_2006_till_2018/\\\n",
    "valresultat_{year}K_TOTALT.xlsx',index=False)"
   ]
  },
  {
   "cell_type": "markdown",
   "metadata": {
    "hidden": true
   },
   "source": [
    "valanalys() gör flera olika saker. Men med parametern query='valresultat' så hämtas en lista med två items. Det första är en sammanfattning på riksnivå med valresultatet summerat för varje parti. Parametern 'elec_type' tar vilket val man vill få summerat. Det andra item i listan är en dictionary med ett key-value-pari för varje parti."
   ]
  },
  {
   "cell_type": "code",
   "execution_count": 29,
   "metadata": {
    "hidden": true
   },
   "outputs": [
    {
     "data": {
      "text/html": [
       "<div>\n",
       "<style scoped>\n",
       "    .dataframe tbody tr th:only-of-type {\n",
       "        vertical-align: middle;\n",
       "    }\n",
       "\n",
       "    .dataframe tbody tr th {\n",
       "        vertical-align: top;\n",
       "    }\n",
       "\n",
       "    .dataframe thead th {\n",
       "        text-align: right;\n",
       "    }\n",
       "</style>\n",
       "<table border=\"1\" class=\"dataframe\">\n",
       "  <thead>\n",
       "    <tr style=\"text-align: right;\">\n",
       "      <th></th>\n",
       "      <th>parti</th>\n",
       "      <th>procent</th>\n",
       "      <th>röster</th>\n",
       "    </tr>\n",
       "  </thead>\n",
       "  <tbody>\n",
       "    <tr>\n",
       "      <th>0</th>\n",
       "      <td>C</td>\n",
       "      <td>9.6</td>\n",
       "      <td>631812</td>\n",
       "    </tr>\n",
       "    <tr>\n",
       "      <th>1</th>\n",
       "      <td>FI</td>\n",
       "      <td>0.9</td>\n",
       "      <td>61907</td>\n",
       "    </tr>\n",
       "    <tr>\n",
       "      <th>2</th>\n",
       "      <td>KD</td>\n",
       "      <td>5.1</td>\n",
       "      <td>339375</td>\n",
       "    </tr>\n",
       "    <tr>\n",
       "      <th>3</th>\n",
       "      <td>L</td>\n",
       "      <td>6.7</td>\n",
       "      <td>444674</td>\n",
       "    </tr>\n",
       "    <tr>\n",
       "      <th>4</th>\n",
       "      <td>M</td>\n",
       "      <td>19.8</td>\n",
       "      <td>1310182</td>\n",
       "    </tr>\n",
       "    <tr>\n",
       "      <th>5</th>\n",
       "      <td>MP</td>\n",
       "      <td>4.6</td>\n",
       "      <td>301825</td>\n",
       "    </tr>\n",
       "    <tr>\n",
       "      <th>6</th>\n",
       "      <td>S</td>\n",
       "      <td>27.2</td>\n",
       "      <td>1801843</td>\n",
       "    </tr>\n",
       "    <tr>\n",
       "      <th>7</th>\n",
       "      <td>SD</td>\n",
       "      <td>12.6</td>\n",
       "      <td>832083</td>\n",
       "    </tr>\n",
       "    <tr>\n",
       "      <th>8</th>\n",
       "      <td>V</td>\n",
       "      <td>7.6</td>\n",
       "      <td>502147</td>\n",
       "    </tr>\n",
       "    <tr>\n",
       "      <th>9</th>\n",
       "      <td>Övr</td>\n",
       "      <td>4.6</td>\n",
       "      <td>306287</td>\n",
       "    </tr>\n",
       "  </tbody>\n",
       "</table>\n",
       "</div>"
      ],
      "text/plain": [
       "  parti  procent   röster\n",
       "0     C      9.6   631812\n",
       "1    FI      0.9    61907\n",
       "2    KD      5.1   339375\n",
       "3     L      6.7   444674\n",
       "4     M     19.8  1310182\n",
       "5    MP      4.6   301825\n",
       "6     S     27.2  1801843\n",
       "7    SD     12.6   832083\n",
       "8     V      7.6   502147\n",
       "9   Övr      4.6   306287"
      ]
     },
     "execution_count": 29,
     "metadata": {},
     "output_type": "execute_result"
    }
   ],
   "source": [
    "valanalys(df,query='valresultat',elec_type='K',year=2018)[0]"
   ]
  },
  {
   "cell_type": "markdown",
   "metadata": {
    "hidden": true
   },
   "source": [
    "Här är ett exempel på vad dictionaryn innehåller, här med C:s valresultat i kommunvalet:"
   ]
  },
  {
   "cell_type": "code",
   "execution_count": 30,
   "metadata": {
    "hidden": true
   },
   "outputs": [
    {
     "data": {
      "text/html": [
       "<div>\n",
       "<style scoped>\n",
       "    .dataframe tbody tr th:only-of-type {\n",
       "        vertical-align: middle;\n",
       "    }\n",
       "\n",
       "    .dataframe tbody tr th {\n",
       "        vertical-align: top;\n",
       "    }\n",
       "\n",
       "    .dataframe thead th {\n",
       "        text-align: right;\n",
       "    }\n",
       "</style>\n",
       "<table border=\"1\" class=\"dataframe\">\n",
       "  <thead>\n",
       "    <tr style=\"text-align: right;\">\n",
       "      <th></th>\n",
       "      <th>kommun</th>\n",
       "      <th>skillnad_jämf_riket</th>\n",
       "      <th>parti</th>\n",
       "      <th>valresultat_2018</th>\n",
       "      <th>andelar_riket</th>\n",
       "    </tr>\n",
       "  </thead>\n",
       "  <tbody>\n",
       "    <tr>\n",
       "      <th>0</th>\n",
       "      <td>Jokkmokk</td>\n",
       "      <td>-9.09</td>\n",
       "      <td>C</td>\n",
       "      <td>0.51</td>\n",
       "      <td>9.6</td>\n",
       "    </tr>\n",
       "    <tr>\n",
       "      <th>1</th>\n",
       "      <td>Gällivare</td>\n",
       "      <td>-8.76</td>\n",
       "      <td>C</td>\n",
       "      <td>0.84</td>\n",
       "      <td>9.6</td>\n",
       "    </tr>\n",
       "    <tr>\n",
       "      <th>2</th>\n",
       "      <td>Fagersta</td>\n",
       "      <td>-8.07</td>\n",
       "      <td>C</td>\n",
       "      <td>1.53</td>\n",
       "      <td>9.6</td>\n",
       "    </tr>\n",
       "    <tr>\n",
       "      <th>3</th>\n",
       "      <td>Öckerö</td>\n",
       "      <td>-7.64</td>\n",
       "      <td>C</td>\n",
       "      <td>1.96</td>\n",
       "      <td>9.6</td>\n",
       "    </tr>\n",
       "    <tr>\n",
       "      <th>4</th>\n",
       "      <td>Landskrona</td>\n",
       "      <td>-7.42</td>\n",
       "      <td>C</td>\n",
       "      <td>2.18</td>\n",
       "      <td>9.6</td>\n",
       "    </tr>\n",
       "  </tbody>\n",
       "</table>\n",
       "</div>"
      ],
      "text/plain": [
       "       kommun  skillnad_jämf_riket parti  valresultat_2018  andelar_riket\n",
       "0    Jokkmokk                -9.09     C              0.51            9.6\n",
       "1   Gällivare                -8.76     C              0.84            9.6\n",
       "2    Fagersta                -8.07     C              1.53            9.6\n",
       "3      Öckerö                -7.64     C              1.96            9.6\n",
       "4  Landskrona                -7.42     C              2.18            9.6"
      ]
     },
     "execution_count": 30,
     "metadata": {},
     "output_type": "execute_result"
    }
   ],
   "source": [
    "valanalys(df,query='valresultat',elec_type='K',year=2018)[1]['C'].head()"
   ]
  },
  {
   "cell_type": "markdown",
   "metadata": {
    "heading_collapsed": true,
    "hidden": true
   },
   "source": [
    "##### 3.2.2.1 Till grafik"
   ]
  },
  {
   "cell_type": "code",
   "execution_count": 31,
   "metadata": {
    "hidden": true
   },
   "outputs": [],
   "source": [
    "year=2018\n",
    "year_compare=2014"
   ]
  },
  {
   "cell_type": "code",
   "execution_count": 32,
   "metadata": {
    "hidden": true
   },
   "outputs": [],
   "source": [
    "grafik=pd.DataFrame()\n",
    "grafik['parti']=valanalys(df,query='valresultat',elec_type='K',year=year)[0].loc[:,'parti']"
   ]
  },
  {
   "cell_type": "code",
   "execution_count": 33,
   "metadata": {
    "hidden": true
   },
   "outputs": [],
   "source": [
    "for year in [2006,2010,2014,2018]:\n",
    "    grafik=grafik.merge(valanalys(df,query='valresultat',elec_type='K',year=year)[0]\\\n",
    "                                  .rename(columns={\n",
    "                                        'procent':f'procent_{year}K'\n",
    "                                    }).loc[:,['parti',f'procent_{year}K']],on='parti',how='left')"
   ]
  },
  {
   "cell_type": "code",
   "execution_count": 34,
   "metadata": {
    "hidden": true
   },
   "outputs": [],
   "source": [
    "grafik=grafik.loc[grafik['parti']!='FI']"
   ]
  },
  {
   "cell_type": "code",
   "execution_count": 35,
   "metadata": {
    "hidden": true
   },
   "outputs": [],
   "source": [
    "grafik.to_excel('redaktionsmaterial/tabeller_till_grafik/så_gick_det_i_kommunerna_SAMUEL/\\\n",
    "resultat_kommunval_2006_2018.xlsx',index=False)"
   ]
  },
  {
   "cell_type": "markdown",
   "metadata": {
    "heading_collapsed": true,
    "hidden": true
   },
   "source": [
    "#### 3.2.3 Antalet kommuner där partierna ökar/backar, per parti, på valresultatet 2018."
   ]
  },
  {
   "cell_type": "markdown",
   "metadata": {
    "hidden": true
   },
   "source": [
    "För att se i hur många kommuner där partierna ökat/minskat i stöd:"
   ]
  },
  {
   "cell_type": "code",
   "execution_count": 36,
   "metadata": {
    "hidden": true
   },
   "outputs": [
    {
     "data": {
      "text/html": [
       "<div>\n",
       "<style scoped>\n",
       "    .dataframe tbody tr th:only-of-type {\n",
       "        vertical-align: middle;\n",
       "    }\n",
       "\n",
       "    .dataframe tbody tr th {\n",
       "        vertical-align: top;\n",
       "    }\n",
       "\n",
       "    .dataframe thead th {\n",
       "        text-align: right;\n",
       "    }\n",
       "</style>\n",
       "<table border=\"1\" class=\"dataframe\">\n",
       "  <thead>\n",
       "    <tr style=\"text-align: right;\">\n",
       "      <th></th>\n",
       "      <th>party</th>\n",
       "      <th>antal_ökat_stöd</th>\n",
       "      <th>antal_minskat_stöd</th>\n",
       "    </tr>\n",
       "  </thead>\n",
       "  <tbody>\n",
       "    <tr>\n",
       "      <th>0</th>\n",
       "      <td>C</td>\n",
       "      <td>207</td>\n",
       "      <td>83</td>\n",
       "    </tr>\n",
       "    <tr>\n",
       "      <th>1</th>\n",
       "      <td>KD</td>\n",
       "      <td>239</td>\n",
       "      <td>51</td>\n",
       "    </tr>\n",
       "    <tr>\n",
       "      <th>2</th>\n",
       "      <td>L</td>\n",
       "      <td>127</td>\n",
       "      <td>162</td>\n",
       "    </tr>\n",
       "    <tr>\n",
       "      <th>3</th>\n",
       "      <td>M</td>\n",
       "      <td>146</td>\n",
       "      <td>144</td>\n",
       "    </tr>\n",
       "    <tr>\n",
       "      <th>4</th>\n",
       "      <td>MP</td>\n",
       "      <td>1</td>\n",
       "      <td>288</td>\n",
       "    </tr>\n",
       "    <tr>\n",
       "      <th>5</th>\n",
       "      <td>S</td>\n",
       "      <td>40</td>\n",
       "      <td>250</td>\n",
       "    </tr>\n",
       "    <tr>\n",
       "      <th>6</th>\n",
       "      <td>SD</td>\n",
       "      <td>265</td>\n",
       "      <td>25</td>\n",
       "    </tr>\n",
       "    <tr>\n",
       "      <th>7</th>\n",
       "      <td>V</td>\n",
       "      <td>186</td>\n",
       "      <td>103</td>\n",
       "    </tr>\n",
       "    <tr>\n",
       "      <th>8</th>\n",
       "      <td>övriga</td>\n",
       "      <td>153</td>\n",
       "      <td>133</td>\n",
       "    </tr>\n",
       "  </tbody>\n",
       "</table>\n",
       "</div>"
      ],
      "text/plain": [
       "    party  antal_ökat_stöd  antal_minskat_stöd\n",
       "0       C              207                  83\n",
       "1      KD              239                  51\n",
       "2       L              127                 162\n",
       "3       M              146                 144\n",
       "4      MP                1                 288\n",
       "5       S               40                 250\n",
       "6      SD              265                  25\n",
       "7       V              186                 103\n",
       "8  övriga              153                 133"
      ]
     },
     "execution_count": 36,
     "metadata": {},
     "output_type": "execute_result"
    }
   ],
   "source": [
    "valanalys(df,'jämför',year=year,year_compare=year_compare,elec_type='K',comp_type='ökat',sorter=False)"
   ]
  },
  {
   "cell_type": "code",
   "execution_count": 37,
   "metadata": {
    "hidden": true
   },
   "outputs": [],
   "source": [
    "valanalys(df,'jämför',year=2014,elec_type='K',year_compare=2010,comp_type='ökat',sorter=False)\\\n",
    "    .to_excel(f'redaktionsmaterial/valdata/SAMUEL_kommunvalet/2_partiernas_stöd_i_kommunerna/\\\n",
    "stödet_i_kommunerna_SAMMANFATTNING.xlsx',index=False)"
   ]
  },
  {
   "cell_type": "markdown",
   "metadata": {
    "hidden": true
   },
   "source": [
    "För att se i vilka kommuner där det gick bäst/sämst för ett visst parti. Denna kod triggas ifall man bestämmer parametern 'party'. I annat fall triggas partiernas framgångar/motgångar i kommunerna ovan."
   ]
  },
  {
   "cell_type": "code",
   "execution_count": 38,
   "metadata": {
    "hidden": true
   },
   "outputs": [],
   "source": [
    "for party in ['M','C','L','KD','S','V','MP','SD']:\n",
    "    \n",
    "    valanalys(df,'jämför',year=year,elec_type='K',year_compare=year_compare,party=party,sorter=True).reset_index()\\\n",
    "        .rename(columns={f'{party}':f'förändring {year_compare}-{year}'})\\\n",
    "        .to_excel(f\"redaktionsmaterial/valdata/SAMUEL_kommunvalet/2_partiernas_stöd_i_kommunerna/resultat_per_parti/\\\n",
    "resultat_{party}.xlsx\",index=False)"
   ]
  },
  {
   "cell_type": "markdown",
   "metadata": {
    "heading_collapsed": true,
    "hidden": true
   },
   "source": [
    "##### 3.2.3.1 Till grafik"
   ]
  },
  {
   "cell_type": "code",
   "execution_count": 39,
   "metadata": {
    "hidden": true
   },
   "outputs": [],
   "source": [
    "grafik=valanalys(df,'jämför',year=year,elec_type='K',year_compare=year_compare,comp_type='ökat',sorter=False)\n",
    "    "
   ]
  },
  {
   "cell_type": "code",
   "execution_count": 40,
   "metadata": {
    "hidden": true
   },
   "outputs": [],
   "source": [
    "grafik.rename(columns={\n",
    "    'party':'Parti',\n",
    "    'antal_ökat_stöd':'Antal kommuner med ökat stöd',\n",
    "    'antal_minskat_stöd':'Antal kommuner med minskat stöd'\n",
    "},inplace=True)"
   ]
  },
  {
   "cell_type": "code",
   "execution_count": 41,
   "metadata": {
    "hidden": true
   },
   "outputs": [],
   "source": [
    "grafik.to_excel('redaktionsmaterial/tabeller_till_grafik/så_gick_det_i_kommunerna_SAMUEL/\\\n",
    "så_backar_och_ökar_partierna.xlsx',index=False)"
   ]
  },
  {
   "cell_type": "markdown",
   "metadata": {
    "heading_collapsed": true,
    "hidden": true
   },
   "source": [
    "#### 3.2.4 Största lokala framgångarna - andel röster i en kommun jämfört med partiets andel i riket"
   ]
  },
  {
   "cell_type": "markdown",
   "metadata": {
    "hidden": true
   },
   "source": [
    "Ovanstående funktion (fråga_3() i cellen ovan) används i valanalys(). För att få fram rätt resultat använder man 'valresultat' som query. Denna återger en lista där det andra i listan är en dictionary med varje partis 25 starkaste/svagaste fästen. 'sorter' avgör ifall de starkaste (False) eller svagaste (True) plockas fram:"
   ]
  },
  {
   "cell_type": "code",
   "execution_count": 42,
   "metadata": {
    "hidden": true
   },
   "outputs": [],
   "source": [
    "df=all_elec_years(elec_type)"
   ]
  },
  {
   "cell_type": "code",
   "execution_count": 43,
   "metadata": {
    "hidden": true
   },
   "outputs": [
    {
     "data": {
      "text/html": [
       "<div>\n",
       "<style scoped>\n",
       "    .dataframe tbody tr th:only-of-type {\n",
       "        vertical-align: middle;\n",
       "    }\n",
       "\n",
       "    .dataframe tbody tr th {\n",
       "        vertical-align: top;\n",
       "    }\n",
       "\n",
       "    .dataframe thead th {\n",
       "        text-align: right;\n",
       "    }\n",
       "</style>\n",
       "<table border=\"1\" class=\"dataframe\">\n",
       "  <thead>\n",
       "    <tr style=\"text-align: right;\">\n",
       "      <th></th>\n",
       "      <th>parti</th>\n",
       "      <th>procent</th>\n",
       "      <th>röster</th>\n",
       "    </tr>\n",
       "  </thead>\n",
       "  <tbody>\n",
       "    <tr>\n",
       "      <th>0</th>\n",
       "      <td>C</td>\n",
       "      <td>9.6</td>\n",
       "      <td>631812</td>\n",
       "    </tr>\n",
       "    <tr>\n",
       "      <th>1</th>\n",
       "      <td>FI</td>\n",
       "      <td>0.9</td>\n",
       "      <td>61907</td>\n",
       "    </tr>\n",
       "    <tr>\n",
       "      <th>2</th>\n",
       "      <td>KD</td>\n",
       "      <td>5.1</td>\n",
       "      <td>339375</td>\n",
       "    </tr>\n",
       "    <tr>\n",
       "      <th>3</th>\n",
       "      <td>L</td>\n",
       "      <td>6.7</td>\n",
       "      <td>444674</td>\n",
       "    </tr>\n",
       "    <tr>\n",
       "      <th>4</th>\n",
       "      <td>M</td>\n",
       "      <td>19.8</td>\n",
       "      <td>1310182</td>\n",
       "    </tr>\n",
       "    <tr>\n",
       "      <th>5</th>\n",
       "      <td>MP</td>\n",
       "      <td>4.6</td>\n",
       "      <td>301825</td>\n",
       "    </tr>\n",
       "    <tr>\n",
       "      <th>6</th>\n",
       "      <td>S</td>\n",
       "      <td>27.2</td>\n",
       "      <td>1801843</td>\n",
       "    </tr>\n",
       "    <tr>\n",
       "      <th>7</th>\n",
       "      <td>SD</td>\n",
       "      <td>12.6</td>\n",
       "      <td>832083</td>\n",
       "    </tr>\n",
       "    <tr>\n",
       "      <th>8</th>\n",
       "      <td>V</td>\n",
       "      <td>7.6</td>\n",
       "      <td>502147</td>\n",
       "    </tr>\n",
       "    <tr>\n",
       "      <th>9</th>\n",
       "      <td>Övr</td>\n",
       "      <td>4.6</td>\n",
       "      <td>306287</td>\n",
       "    </tr>\n",
       "  </tbody>\n",
       "</table>\n",
       "</div>"
      ],
      "text/plain": [
       "  parti  procent   röster\n",
       "0     C      9.6   631812\n",
       "1    FI      0.9    61907\n",
       "2    KD      5.1   339375\n",
       "3     L      6.7   444674\n",
       "4     M     19.8  1310182\n",
       "5    MP      4.6   301825\n",
       "6     S     27.2  1801843\n",
       "7    SD     12.6   832083\n",
       "8     V      7.6   502147\n",
       "9   Övr      4.6   306287"
      ]
     },
     "execution_count": 43,
     "metadata": {},
     "output_type": "execute_result"
    }
   ],
   "source": [
    "valanalys(df,query='valresultat',year=elec_year,elec_type=elec_type,sorter=False)[0]"
   ]
  },
  {
   "cell_type": "code",
   "execution_count": 44,
   "metadata": {
    "hidden": true
   },
   "outputs": [],
   "source": [
    "a_dict=valanalys(df,query='valresultat',year=elec_year,elec_type=elec_type,sorter=False)[1]"
   ]
  },
  {
   "cell_type": "code",
   "execution_count": 45,
   "metadata": {
    "hidden": true
   },
   "outputs": [],
   "source": [
    "for party in ['M','C','L','KD','S','V','MP','SD']:\n",
    "    \n",
    "    valanalys(df,query='valresultat',year=elec_year,elec_type=elec_type,sorter=False)[1][party]\\\n",
    "        .to_excel(f\"redaktionsmaterial/valdata/SAMUEL_kommunvalet/3_största_lokala_framgångarna/\\\n",
    "resultat_{party}.xlsx\",index=False)"
   ]
  },
  {
   "cell_type": "markdown",
   "metadata": {
    "heading_collapsed": true,
    "hidden": true
   },
   "source": [
    "##### 3.2.4.1 Detta är en komplettering till grafiken, ska till Påhls SD-artikel"
   ]
  },
  {
   "cell_type": "code",
   "execution_count": 49,
   "metadata": {
    "hidden": true
   },
   "outputs": [],
   "source": [
    "df1=valanalys(df,year=elec_year,\n",
    "                    elec_type=elec_type,\n",
    "                    query='strong_holds',\n",
    "                    sorter=False)['SD']\n",
    "            #.to_excel(f\"../valdata/SAMUEL_kommunvalet/\\\n",
    "#4_starkaste_fästena/resultat_{party}.xlsx\",index=False)"
   ]
  },
  {
   "cell_type": "code",
   "execution_count": 50,
   "metadata": {
    "hidden": true
   },
   "outputs": [],
   "source": [
    "df2=valanalys(df,year=elec_year,\n",
    "                    elec_type=elec_type,\n",
    "                    query='strong_holds',\n",
    "                    sorter=True)['SD']"
   ]
  },
  {
   "cell_type": "code",
   "execution_count": 51,
   "metadata": {
    "hidden": true
   },
   "outputs": [],
   "source": [
    "df2['parti'] = 'SD'\n",
    "df1['parti'] = 'SD'"
   ]
  },
  {
   "cell_type": "code",
   "execution_count": 52,
   "metadata": {
    "hidden": true
   },
   "outputs": [],
   "source": [
    "df1.to_excel('redaktionsmaterial/tabeller_till_grafik/SD_så_gick_det_PÅHL/31_SD_största_stöd.xlsx',index=False)"
   ]
  },
  {
   "cell_type": "code",
   "execution_count": 53,
   "metadata": {
    "hidden": true
   },
   "outputs": [],
   "source": [
    "df2.to_excel('redaktionsmaterial/tabeller_till_grafik/SD_så_gick_det_PÅHL/31_SD_största_stöd.xlsx',index=False)"
   ]
  },
  {
   "cell_type": "markdown",
   "metadata": {
    "heading_collapsed": true,
    "hidden": true
   },
   "source": [
    "##### 3.2.4.2 Till grafik"
   ]
  },
  {
   "cell_type": "code",
   "execution_count": 54,
   "metadata": {
    "hidden": true
   },
   "outputs": [],
   "source": [
    "from util import all_elec_years,riks_mot_kommun"
   ]
  },
  {
   "cell_type": "code",
   "execution_count": 55,
   "metadata": {
    "hidden": true
   },
   "outputs": [],
   "source": [
    "elec_year=2018"
   ]
  },
  {
   "cell_type": "code",
   "execution_count": 56,
   "metadata": {
    "hidden": true
   },
   "outputs": [],
   "source": [
    "df_riks = all_elec_years('R')\n",
    "\n",
    "df_kommun = all_elec_years('K')"
   ]
  },
  {
   "cell_type": "code",
   "execution_count": 57,
   "metadata": {
    "hidden": true
   },
   "outputs": [
    {
     "name": "stdout",
     "output_type": "stream",
     "text": [
      "CPU times: user 7.59 s, sys: 44.9 ms, total: 7.64 s\n",
      "Wall time: 7.64 s\n"
     ]
    }
   ],
   "source": [
    "%%time\n",
    "framgångar = riks_mot_kommun(df_riks,df_kommun,elec_year=elec_year,sorter=False)\n",
    "motgångar = riks_mot_kommun(df_riks,df_kommun,elec_year=elec_year,sorter=True)"
   ]
  },
  {
   "cell_type": "code",
   "execution_count": 58,
   "metadata": {
    "hidden": true
   },
   "outputs": [
    {
     "data": {
      "text/html": [
       "<div>\n",
       "<style scoped>\n",
       "    .dataframe tbody tr th:only-of-type {\n",
       "        vertical-align: middle;\n",
       "    }\n",
       "\n",
       "    .dataframe tbody tr th {\n",
       "        vertical-align: top;\n",
       "    }\n",
       "\n",
       "    .dataframe thead th {\n",
       "        text-align: right;\n",
       "    }\n",
       "</style>\n",
       "<table border=\"1\" class=\"dataframe\">\n",
       "  <thead>\n",
       "    <tr style=\"text-align: right;\">\n",
       "      <th></th>\n",
       "      <th>Parti</th>\n",
       "      <th>Kommun</th>\n",
       "      <th>Riksdagsvalet, %</th>\n",
       "      <th>Kommunvalet, %</th>\n",
       "      <th>Differens</th>\n",
       "    </tr>\n",
       "  </thead>\n",
       "  <tbody>\n",
       "    <tr>\n",
       "      <th>0</th>\n",
       "      <td>M</td>\n",
       "      <td>Östra Göinge</td>\n",
       "      <td>18.1</td>\n",
       "      <td>42.1</td>\n",
       "      <td>23.98</td>\n",
       "    </tr>\n",
       "    <tr>\n",
       "      <th>1</th>\n",
       "      <td>L</td>\n",
       "      <td>Landskrona</td>\n",
       "      <td>6.7</td>\n",
       "      <td>34.2</td>\n",
       "      <td>27.51</td>\n",
       "    </tr>\n",
       "    <tr>\n",
       "      <th>2</th>\n",
       "      <td>C</td>\n",
       "      <td>Orsa</td>\n",
       "      <td>11.0</td>\n",
       "      <td>41.8</td>\n",
       "      <td>30.82</td>\n",
       "    </tr>\n",
       "    <tr>\n",
       "      <th>3</th>\n",
       "      <td>KD</td>\n",
       "      <td>Laxå</td>\n",
       "      <td>9.4</td>\n",
       "      <td>39.0</td>\n",
       "      <td>29.51</td>\n",
       "    </tr>\n",
       "    <tr>\n",
       "      <th>4</th>\n",
       "      <td>S</td>\n",
       "      <td>Grums</td>\n",
       "      <td>41.2</td>\n",
       "      <td>56.0</td>\n",
       "      <td>14.77</td>\n",
       "    </tr>\n",
       "    <tr>\n",
       "      <th>5</th>\n",
       "      <td>V</td>\n",
       "      <td>Degerfors</td>\n",
       "      <td>10.2</td>\n",
       "      <td>35.7</td>\n",
       "      <td>25.50</td>\n",
       "    </tr>\n",
       "    <tr>\n",
       "      <th>6</th>\n",
       "      <td>MP</td>\n",
       "      <td>Gällivare</td>\n",
       "      <td>2.5</td>\n",
       "      <td>11.9</td>\n",
       "      <td>9.46</td>\n",
       "    </tr>\n",
       "    <tr>\n",
       "      <th>7</th>\n",
       "      <td>SD</td>\n",
       "      <td>Tranås</td>\n",
       "      <td>19.5</td>\n",
       "      <td>19.6</td>\n",
       "      <td>0.09</td>\n",
       "    </tr>\n",
       "  </tbody>\n",
       "</table>\n",
       "</div>"
      ],
      "text/plain": [
       "  Parti        Kommun  Riksdagsvalet, %  Kommunvalet, %  Differens\n",
       "0     M  Östra Göinge              18.1            42.1      23.98\n",
       "1     L    Landskrona               6.7            34.2      27.51\n",
       "2     C          Orsa              11.0            41.8      30.82\n",
       "3    KD          Laxå               9.4            39.0      29.51\n",
       "4     S         Grums              41.2            56.0      14.77\n",
       "5     V     Degerfors              10.2            35.7      25.50\n",
       "6    MP     Gällivare               2.5            11.9       9.46\n",
       "7    SD        Tranås              19.5            19.6       0.09"
      ]
     },
     "execution_count": 58,
     "metadata": {},
     "output_type": "execute_result"
    }
   ],
   "source": [
    "framgångar"
   ]
  },
  {
   "cell_type": "code",
   "execution_count": 59,
   "metadata": {
    "hidden": true
   },
   "outputs": [],
   "source": [
    "framgångar.to_excel('redaktionsmaterial/tabeller_till_grafik/så_gick_det_i_kommunerna_SAMUEL/\\\n",
    "partiernas_största_lokala_framgångar.xlsx',index=False)\n",
    "motgångar.to_excel('redaktionsmaterial/tabeller_till_grafik/så_gick_det_i_kommunerna_SAMUEL/\\\n",
    "partiernas_största_lokala_motgångar.xlsx',index=False)"
   ]
  },
  {
   "cell_type": "markdown",
   "metadata": {
    "heading_collapsed": true,
    "hidden": true
   },
   "source": [
    "#### 3.2.5 Starkaste fästena (de kommuner där det gick bäst/sämst, per parti)"
   ]
  },
  {
   "cell_type": "code",
   "execution_count": 60,
   "metadata": {
    "hidden": true
   },
   "outputs": [],
   "source": [
    "df=all_elec_years('K')"
   ]
  },
  {
   "cell_type": "markdown",
   "metadata": {
    "hidden": true
   },
   "source": [
    "Funktionen valanalys() tar argumentet 'strong_holds' för att räkna fram en dictionary med alla de 25 starkaste/svagaste kommunera per parti:"
   ]
  },
  {
   "cell_type": "code",
   "execution_count": 61,
   "metadata": {
    "hidden": true
   },
   "outputs": [],
   "source": [
    "parties = valanalys(df,year=elec_year,elec_type=elec_type,query='strong_holds',sorter=False)"
   ]
  },
  {
   "cell_type": "code",
   "execution_count": 62,
   "metadata": {
    "hidden": true
   },
   "outputs": [
    {
     "data": {
      "text/html": [
       "<div>\n",
       "<style scoped>\n",
       "    .dataframe tbody tr th:only-of-type {\n",
       "        vertical-align: middle;\n",
       "    }\n",
       "\n",
       "    .dataframe tbody tr th {\n",
       "        vertical-align: top;\n",
       "    }\n",
       "\n",
       "    .dataframe thead th {\n",
       "        text-align: right;\n",
       "    }\n",
       "</style>\n",
       "<table border=\"1\" class=\"dataframe\">\n",
       "  <thead>\n",
       "    <tr style=\"text-align: right;\">\n",
       "      <th></th>\n",
       "      <th>kommun</th>\n",
       "      <th>procent</th>\n",
       "    </tr>\n",
       "  </thead>\n",
       "  <tbody>\n",
       "    <tr>\n",
       "      <th>11829</th>\n",
       "      <td>Vellinge</td>\n",
       "      <td>50.42</td>\n",
       "    </tr>\n",
       "    <tr>\n",
       "      <th>13676</th>\n",
       "      <td>Essunga</td>\n",
       "      <td>42.86</td>\n",
       "    </tr>\n",
       "    <tr>\n",
       "      <th>11782</th>\n",
       "      <td>Staffanstorp</td>\n",
       "      <td>42.70</td>\n",
       "    </tr>\n",
       "    <tr>\n",
       "      <th>11682</th>\n",
       "      <td>Östra Göinge</td>\n",
       "      <td>42.12</td>\n",
       "    </tr>\n",
       "    <tr>\n",
       "      <th>12437</th>\n",
       "      <td>Trosa</td>\n",
       "      <td>40.68</td>\n",
       "    </tr>\n",
       "  </tbody>\n",
       "</table>\n",
       "</div>"
      ],
      "text/plain": [
       "             kommun  procent\n",
       "11829      Vellinge    50.42\n",
       "13676       Essunga    42.86\n",
       "11782  Staffanstorp    42.70\n",
       "11682  Östra Göinge    42.12\n",
       "12437         Trosa    40.68"
      ]
     },
     "execution_count": 62,
     "metadata": {},
     "output_type": "execute_result"
    }
   ],
   "source": [
    "parties['M'].head()"
   ]
  },
  {
   "cell_type": "markdown",
   "metadata": {
    "hidden": true
   },
   "source": [
    "Följande skapar en fil per parti med resultatet i alla kommuner:"
   ]
  },
  {
   "cell_type": "code",
   "execution_count": 63,
   "metadata": {
    "hidden": true
   },
   "outputs": [],
   "source": [
    "for party in ['M','C','L','KD','S','V','MP','SD']:\n",
    "    \n",
    "    valanalys(df,year=elec_year,elec_type=elec_type,query='strong_holds',sorter=False)[party]\\\n",
    "        .to_excel(f\"redaktionsmaterial/valdata/SAMUEL_kommunvalet/4_starkaste_fästena/\\\n",
    "resultat_{party}.xlsx\",index=False)"
   ]
  },
  {
   "cell_type": "markdown",
   "metadata": {
    "heading_collapsed": true,
    "hidden": true
   },
   "source": [
    "##### 3.2.5.1 Till grafik"
   ]
  },
  {
   "cell_type": "code",
   "execution_count": 64,
   "metadata": {
    "hidden": true
   },
   "outputs": [],
   "source": [
    "df = all_elec_years('K')"
   ]
  },
  {
   "cell_type": "code",
   "execution_count": 65,
   "metadata": {
    "hidden": true
   },
   "outputs": [
    {
     "data": {
      "text/html": [
       "<div>\n",
       "<style scoped>\n",
       "    .dataframe tbody tr th:only-of-type {\n",
       "        vertical-align: middle;\n",
       "    }\n",
       "\n",
       "    .dataframe tbody tr th {\n",
       "        vertical-align: top;\n",
       "    }\n",
       "\n",
       "    .dataframe thead th {\n",
       "        text-align: right;\n",
       "    }\n",
       "</style>\n",
       "<table border=\"1\" class=\"dataframe\">\n",
       "  <thead>\n",
       "    <tr style=\"text-align: right;\">\n",
       "      <th></th>\n",
       "      <th>Parti</th>\n",
       "      <th>Starkaste fästet</th>\n",
       "      <th>Kommunvalet, %</th>\n",
       "    </tr>\n",
       "  </thead>\n",
       "  <tbody>\n",
       "    <tr>\n",
       "      <th>0</th>\n",
       "      <td>M</td>\n",
       "      <td>Vellinge</td>\n",
       "      <td>50.4</td>\n",
       "    </tr>\n",
       "    <tr>\n",
       "      <th>1</th>\n",
       "      <td>C</td>\n",
       "      <td>Nordmaling</td>\n",
       "      <td>42.4</td>\n",
       "    </tr>\n",
       "    <tr>\n",
       "      <th>2</th>\n",
       "      <td>L</td>\n",
       "      <td>Landskrona</td>\n",
       "      <td>34.2</td>\n",
       "    </tr>\n",
       "    <tr>\n",
       "      <th>3</th>\n",
       "      <td>KD</td>\n",
       "      <td>Markaryd</td>\n",
       "      <td>39.3</td>\n",
       "    </tr>\n",
       "    <tr>\n",
       "      <th>4</th>\n",
       "      <td>S</td>\n",
       "      <td>Munkfors</td>\n",
       "      <td>63.3</td>\n",
       "    </tr>\n",
       "    <tr>\n",
       "      <th>5</th>\n",
       "      <td>V</td>\n",
       "      <td>Sorsele</td>\n",
       "      <td>36.4</td>\n",
       "    </tr>\n",
       "    <tr>\n",
       "      <th>6</th>\n",
       "      <td>MP</td>\n",
       "      <td>Jokkmokk</td>\n",
       "      <td>13.6</td>\n",
       "    </tr>\n",
       "    <tr>\n",
       "      <th>7</th>\n",
       "      <td>SD</td>\n",
       "      <td>Hörby</td>\n",
       "      <td>35.3</td>\n",
       "    </tr>\n",
       "  </tbody>\n",
       "</table>\n",
       "</div>"
      ],
      "text/plain": [
       "  Parti Starkaste fästet  Kommunvalet, %\n",
       "0     M         Vellinge            50.4\n",
       "1     C       Nordmaling            42.4\n",
       "2     L       Landskrona            34.2\n",
       "3    KD         Markaryd            39.3\n",
       "4     S         Munkfors            63.3\n",
       "5     V          Sorsele            36.4\n",
       "6    MP         Jokkmokk            13.6\n",
       "7    SD            Hörby            35.3"
      ]
     },
     "execution_count": 65,
     "metadata": {},
     "output_type": "execute_result"
    }
   ],
   "source": [
    "bästa_kommunen(df,elec_year)"
   ]
  },
  {
   "cell_type": "code",
   "execution_count": 66,
   "metadata": {
    "hidden": true
   },
   "outputs": [],
   "source": [
    "bästa_kommunen(df,elec_year)\\\n",
    "    .to_excel('redaktionsmaterial/tabeller_till_grafik/så_gick_det_i_kommunerna_SAMUEL/\\\n",
    "de_starkaste_fästena.xlsx',index=False)"
   ]
  },
  {
   "cell_type": "markdown",
   "metadata": {
    "heading_collapsed": true,
    "hidden": true
   },
   "source": [
    "#### 3.2.6 Mandatfördelningen i kommunerna (antal och förändring jämfört valet 2014)"
   ]
  },
  {
   "cell_type": "code",
   "execution_count": 67,
   "metadata": {
    "hidden": true
   },
   "outputs": [],
   "source": [
    "df=all_elec_years('K')"
   ]
  },
  {
   "cell_type": "code",
   "execution_count": 68,
   "metadata": {
    "hidden": true
   },
   "outputs": [
    {
     "data": {
      "text/html": [
       "<div>\n",
       "<style scoped>\n",
       "    .dataframe tbody tr th:only-of-type {\n",
       "        vertical-align: middle;\n",
       "    }\n",
       "\n",
       "    .dataframe tbody tr th {\n",
       "        vertical-align: top;\n",
       "    }\n",
       "\n",
       "    .dataframe thead th {\n",
       "        text-align: right;\n",
       "    }\n",
       "</style>\n",
       "<table border=\"1\" class=\"dataframe\">\n",
       "  <thead>\n",
       "    <tr style=\"text-align: right;\">\n",
       "      <th></th>\n",
       "      <th>kommun</th>\n",
       "      <th>parti</th>\n",
       "      <th>mandat_2018</th>\n",
       "      <th>summa_mandat_2018</th>\n",
       "      <th>mandat_2014</th>\n",
       "      <th>summa_mandat_2014</th>\n",
       "      <th>skillnad_2018_2014</th>\n",
       "    </tr>\n",
       "  </thead>\n",
       "  <tbody>\n",
       "    <tr>\n",
       "      <th>1913</th>\n",
       "      <td>Ale</td>\n",
       "      <td>C</td>\n",
       "      <td>3.0</td>\n",
       "      <td>49</td>\n",
       "      <td>2.0</td>\n",
       "      <td>49</td>\n",
       "      <td>1.0</td>\n",
       "    </tr>\n",
       "    <tr>\n",
       "      <th>1917</th>\n",
       "      <td>Ale</td>\n",
       "      <td>V</td>\n",
       "      <td>4.0</td>\n",
       "      <td>49</td>\n",
       "      <td>3.0</td>\n",
       "      <td>49</td>\n",
       "      <td>1.0</td>\n",
       "    </tr>\n",
       "    <tr>\n",
       "      <th>1916</th>\n",
       "      <td>Ale</td>\n",
       "      <td>S</td>\n",
       "      <td>13.0</td>\n",
       "      <td>49</td>\n",
       "      <td>17.0</td>\n",
       "      <td>49</td>\n",
       "      <td>-4.0</td>\n",
       "    </tr>\n",
       "    <tr>\n",
       "      <th>1919</th>\n",
       "      <td>Ale</td>\n",
       "      <td>SD</td>\n",
       "      <td>8.0</td>\n",
       "      <td>49</td>\n",
       "      <td>5.0</td>\n",
       "      <td>49</td>\n",
       "      <td>3.0</td>\n",
       "    </tr>\n",
       "    <tr>\n",
       "      <th>1915</th>\n",
       "      <td>Ale</td>\n",
       "      <td>KD</td>\n",
       "      <td>2.0</td>\n",
       "      <td>49</td>\n",
       "      <td>2.0</td>\n",
       "      <td>49</td>\n",
       "      <td>0.0</td>\n",
       "    </tr>\n",
       "  </tbody>\n",
       "</table>\n",
       "</div>"
      ],
      "text/plain": [
       "     kommun parti  mandat_2018 summa_mandat_2018  mandat_2014  \\\n",
       "1913    Ale     C          3.0                49          2.0   \n",
       "1917    Ale     V          4.0                49          3.0   \n",
       "1916    Ale     S         13.0                49         17.0   \n",
       "1919    Ale    SD          8.0                49          5.0   \n",
       "1915    Ale    KD          2.0                49          2.0   \n",
       "\n",
       "     summa_mandat_2014  skillnad_2018_2014  \n",
       "1913                49                 1.0  \n",
       "1917                49                 1.0  \n",
       "1916                49                -4.0  \n",
       "1919                49                 3.0  \n",
       "1915                49                 0.0  "
      ]
     },
     "execution_count": 68,
     "metadata": {},
     "output_type": "execute_result"
    }
   ],
   "source": [
    "valanalys(df,year=elec_year,elec_type=elec_type,year_compare=year_compare,query='mandates',sorter=False).sort_values('kommun').head()"
   ]
  },
  {
   "cell_type": "code",
   "execution_count": 69,
   "metadata": {
    "hidden": true
   },
   "outputs": [],
   "source": [
    "valanalys(df,\n",
    "          year=elec_year,\n",
    "          elec_type=elec_type,\n",
    "          year_compare=year_compare,\n",
    "          query='mandates',\n",
    "          sorter=False).sort_values('kommun')\\\n",
    "    .to_excel(f\"redaktionsmaterial/valdata/SAMUEL_kommunvalet/5_mandatfördelning/\\\n",
    "mandatfördelning_kommunvalet_{elec_year}.xlsx\",index=False)"
   ]
  },
  {
   "cell_type": "markdown",
   "metadata": {
    "heading_collapsed": true,
    "hidden": true
   },
   "source": [
    "#### 3.2.7 README"
   ]
  },
  {
   "cell_type": "code",
   "execution_count": 70,
   "metadata": {
    "hidden": true
   },
   "outputs": [],
   "source": [
    "with open(\"redaktionsmaterial/valdata/SAMUEL_kommunvalet/README.txt\",\"w\") as f:\n",
    "    f.write(\"\"\"\\\n",
    "I den här mappen hittar man tabeller som visar resultatet i \\\n",
    "kommunvalet 2018. Materialet är tänkt till Samuels jobb som \\\n",
    "har arbetsnamnet \"Så gick det i kommunerna\".\n",
    "\n",
    "Mapparna är givna siffror för att lättare kunna navigera. \\\n",
    "Här följer en presentation av vad mapparna innehåller:\n",
    "\n",
    "- 1_partiresultat_kommunvalet_2006_till_2018\n",
    "I denna mapp hittar man en fil per val 2006-2018. I dessa finns \\\n",
    "valresultatet i kommunvalen per parti på riksnivå. Det är alltså \\\n",
    "aggregerad data där partiernas procentsats bygger på samtliga \\\n",
    "röster de fått i alla kommuner.\n",
    "\n",
    "- 2_partiernas_stöd_i_kommunerna\n",
    "I denna mapp finns två olika typer av datafiler. Dels en fil som \\\n",
    "visar i hur många kommuner vari partierna har ökat eller minskat \\\n",
    "sitt väljarstöd. Så i kolumnen 'antal_ökat_stöd' ser man antalet \\\n",
    "kommuner där partiet i fråga har fått ett utökat väljarstöd. \\\n",
    "Detta bygger på skillnad i procent jämfört förra valet.\n",
    "\n",
    "Sedan finns också en mapp med en fil per parti. Här är det en rak \\\n",
    "lista på hur det gick för partierna i alla kommuner jämfört med \\\n",
    "förra valet. Visar skillnaden i stöd i procentenheter.\n",
    "\n",
    "- 3_största_lokala_framgångarna\n",
    "I denna mapp finns också en fil per parti. Varje fil visar med \\\n",
    "hur många procentenheter partiets resultat i kommunvalet \\\n",
    "skiljer sig från deras samlade resultat i kommunvalet. \\\n",
    "Ta KD som exempel: i valet 2014 fick KD 44,94 procent av \\\n",
    "rösterna i Markaryd, medan de på aggregerad nivå i hela landet \\\n",
    "fick 3,98 procent av alla röster i kommunvalen. I den här \\\n",
    "mappen hittar man partiernas resultat i riket, i alla kommuner \\\n",
    "samt skillnaden däremellan.\n",
    "\n",
    "- 4_starkaste_fästena\n",
    "Också här en fil per parti. Här är det endast det endast \\\n",
    "skillnaden mellan resultatet i alla kommuner för partiet, \\\n",
    "jämfört resultatet för kommunen i hela landet i kommunvalet. \\\n",
    "Så samma som i mapp 3 ovan, men endast med skillnaden per kommun.\n",
    "\n",
    "- 5_mandatfördelning\n",
    "Här hittar man en fil som visar mandatfördelningen över alla \\\n",
    "mandat för partier som fått ett sådant, i alla kommuner.\n",
    "\n",
    "\n",
    "\"\"\")\n",
    "    f.close"
   ]
  },
  {
   "cell_type": "markdown",
   "metadata": {
    "heading_collapsed": true
   },
   "source": [
    "## 3.3 Så gick det i landstingen"
   ]
  },
  {
   "cell_type": "markdown",
   "metadata": {
    "heading_collapsed": true,
    "hidden": true
   },
   "source": [
    "#### 3.3.1 Intro"
   ]
  },
  {
   "cell_type": "markdown",
   "metadata": {
    "hidden": true
   },
   "source": [
    "**Reporter: Hans**"
   ]
  },
  {
   "cell_type": "markdown",
   "metadata": {
    "hidden": true
   },
   "source": [
    "- Kommer något nytt parti in någonstans?\n",
    "\n",
    "Beräkningar:\n",
    "1. Mandatfördelningen per parti i landstingen 2014 och 2018\n",
    "2. Landstingen där respektive parti får starkast stöd\n",
    "3. Största lokala framgångarna/motgångarna - andel röster lokalt jämfört med riks\n",
    "4. Antal mandat för alla sjukvårdspartier\n",
    "5. Så fördelades landstingsrösterna (per parti) 2010, 2014, 2018 (NY!!)"
   ]
  },
  {
   "cell_type": "markdown",
   "metadata": {
    "hidden": true
   },
   "source": [
    "Jag har precis räknat om alla länsfiler på korrekt vis så mandatfördelning är som det ska"
   ]
  },
  {
   "cell_type": "code",
   "execution_count": 71,
   "metadata": {
    "hidden": true
   },
   "outputs": [],
   "source": [
    "import pandas as pd"
   ]
  },
  {
   "cell_type": "code",
   "execution_count": 72,
   "metadata": {
    "hidden": true
   },
   "outputs": [],
   "source": [
    "from util import all_elec_years,\\\n",
    "                 mandates_per_parti_in_total,\\\n",
    "                 strongest_region,valanalys,\\\n",
    "                 vård_partier,\\\n",
    "                 elec_macro_fetcher"
   ]
  },
  {
   "cell_type": "code",
   "execution_count": 73,
   "metadata": {
    "hidden": true
   },
   "outputs": [],
   "source": [
    "elec_year = 2018\n",
    "compare_year = 2014\n",
    "elec_type = 'L'"
   ]
  },
  {
   "cell_type": "markdown",
   "metadata": {
    "heading_collapsed": true,
    "hidden": true
   },
   "source": [
    "#### 3.3.2 Mandatfördelningen per parti i landstingen 2014 och 2018"
   ]
  },
  {
   "cell_type": "code",
   "execution_count": 74,
   "metadata": {
    "hidden": true
   },
   "outputs": [],
   "source": [
    "df=all_elec_years(elec_type)"
   ]
  },
  {
   "cell_type": "code",
   "execution_count": 75,
   "metadata": {
    "hidden": true
   },
   "outputs": [
    {
     "data": {
      "text/html": [
       "<div>\n",
       "<style scoped>\n",
       "    .dataframe tbody tr th:only-of-type {\n",
       "        vertical-align: middle;\n",
       "    }\n",
       "\n",
       "    .dataframe tbody tr th {\n",
       "        vertical-align: top;\n",
       "    }\n",
       "\n",
       "    .dataframe thead th {\n",
       "        text-align: right;\n",
       "    }\n",
       "</style>\n",
       "<table border=\"1\" class=\"dataframe\">\n",
       "  <thead>\n",
       "    <tr style=\"text-align: right;\">\n",
       "      <th></th>\n",
       "      <th>parti</th>\n",
       "      <th>mandat_2018</th>\n",
       "      <th>mandat_2014</th>\n",
       "      <th>förändring_2014_2018</th>\n",
       "    </tr>\n",
       "  </thead>\n",
       "  <tbody>\n",
       "    <tr>\n",
       "      <th>0</th>\n",
       "      <td>C</td>\n",
       "      <td>155.0</td>\n",
       "      <td>125.0</td>\n",
       "      <td>30.0</td>\n",
       "    </tr>\n",
       "    <tr>\n",
       "      <th>1</th>\n",
       "      <td>FI</td>\n",
       "      <td>0.0</td>\n",
       "      <td>0.0</td>\n",
       "      <td>0.0</td>\n",
       "    </tr>\n",
       "    <tr>\n",
       "      <th>2</th>\n",
       "      <td>KD</td>\n",
       "      <td>119.0</td>\n",
       "      <td>85.0</td>\n",
       "      <td>34.0</td>\n",
       "    </tr>\n",
       "    <tr>\n",
       "      <th>3</th>\n",
       "      <td>L</td>\n",
       "      <td>94.0</td>\n",
       "      <td>96.0</td>\n",
       "      <td>-2.0</td>\n",
       "    </tr>\n",
       "    <tr>\n",
       "      <th>4</th>\n",
       "      <td>M</td>\n",
       "      <td>314.0</td>\n",
       "      <td>339.0</td>\n",
       "      <td>-25.0</td>\n",
       "    </tr>\n",
       "    <tr>\n",
       "      <th>5</th>\n",
       "      <td>MP</td>\n",
       "      <td>48.0</td>\n",
       "      <td>106.0</td>\n",
       "      <td>-58.0</td>\n",
       "    </tr>\n",
       "    <tr>\n",
       "      <th>6</th>\n",
       "      <td>S</td>\n",
       "      <td>523.0</td>\n",
       "      <td>603.0</td>\n",
       "      <td>-80.0</td>\n",
       "    </tr>\n",
       "    <tr>\n",
       "      <th>7</th>\n",
       "      <td>SD</td>\n",
       "      <td>224.0</td>\n",
       "      <td>161.0</td>\n",
       "      <td>63.0</td>\n",
       "    </tr>\n",
       "    <tr>\n",
       "      <th>8</th>\n",
       "      <td>V</td>\n",
       "      <td>141.0</td>\n",
       "      <td>121.0</td>\n",
       "      <td>20.0</td>\n",
       "    </tr>\n",
       "    <tr>\n",
       "      <th>9</th>\n",
       "      <td>Övr</td>\n",
       "      <td>78.0</td>\n",
       "      <td>23.0</td>\n",
       "      <td>55.0</td>\n",
       "    </tr>\n",
       "  </tbody>\n",
       "</table>\n",
       "</div>"
      ],
      "text/plain": [
       "  parti  mandat_2018  mandat_2014  förändring_2014_2018\n",
       "0     C        155.0        125.0                  30.0\n",
       "1    FI          0.0          0.0                   0.0\n",
       "2    KD        119.0         85.0                  34.0\n",
       "3     L         94.0         96.0                  -2.0\n",
       "4     M        314.0        339.0                 -25.0\n",
       "5    MP         48.0        106.0                 -58.0\n",
       "6     S        523.0        603.0                 -80.0\n",
       "7    SD        224.0        161.0                  63.0\n",
       "8     V        141.0        121.0                  20.0\n",
       "9   Övr         78.0         23.0                  55.0"
      ]
     },
     "execution_count": 75,
     "metadata": {},
     "output_type": "execute_result"
    }
   ],
   "source": [
    "mandates_per_parti_in_total(df,elec_year=elec_year,compare_year=compare_year)"
   ]
  },
  {
   "cell_type": "code",
   "execution_count": 76,
   "metadata": {
    "hidden": true
   },
   "outputs": [],
   "source": [
    "mandates_per_parti_in_total(df,elec_year=elec_year,compare_year=compare_year)\\\n",
    "    .to_excel(f\"redaktionsmaterial/valdata/HANS_landstingsvalen/1_mandatfördelning/\\\n",
    "mandatförändring_{compare_year}_{elec_year}.xlsx\",index=False)"
   ]
  },
  {
   "cell_type": "markdown",
   "metadata": {
    "hidden": true
   },
   "source": [
    "##### 3.3.2.1 Till grafiken"
   ]
  },
  {
   "cell_type": "code",
   "execution_count": 77,
   "metadata": {
    "hidden": true
   },
   "outputs": [],
   "source": [
    "mandates_per_parti_in_total(df,elec_year=elec_year,compare_year=compare_year)\\\n",
    "    .to_excel(f\"redaktionsmaterial/tabeller_till_grafik/så_gick_det_i_landstingen_HANS/\\\n",
    "mandatfördelningen_i_landstingen.xlsx\",index=False)"
   ]
  },
  {
   "cell_type": "markdown",
   "metadata": {
    "heading_collapsed": true,
    "hidden": true
   },
   "source": [
    "#### 3.3.3 Landstingen där respektive parti får starkast stöd"
   ]
  },
  {
   "cell_type": "code",
   "execution_count": 78,
   "metadata": {
    "hidden": true
   },
   "outputs": [],
   "source": [
    "df=all_elec_years(elec_type)"
   ]
  },
  {
   "cell_type": "code",
   "execution_count": 79,
   "metadata": {
    "hidden": true
   },
   "outputs": [
    {
     "data": {
      "text/html": [
       "<div>\n",
       "<style scoped>\n",
       "    .dataframe tbody tr th:only-of-type {\n",
       "        vertical-align: middle;\n",
       "    }\n",
       "\n",
       "    .dataframe tbody tr th {\n",
       "        vertical-align: top;\n",
       "    }\n",
       "\n",
       "    .dataframe thead th {\n",
       "        text-align: right;\n",
       "    }\n",
       "</style>\n",
       "<table border=\"1\" class=\"dataframe\">\n",
       "  <thead>\n",
       "    <tr style=\"text-align: right;\">\n",
       "      <th></th>\n",
       "      <th>landsting</th>\n",
       "      <th>parti</th>\n",
       "      <th>valresultat_procent</th>\n",
       "    </tr>\n",
       "  </thead>\n",
       "  <tbody>\n",
       "    <tr>\n",
       "      <th>0</th>\n",
       "      <td>Hallands län</td>\n",
       "      <td>M</td>\n",
       "      <td>23.2</td>\n",
       "    </tr>\n",
       "    <tr>\n",
       "      <th>1</th>\n",
       "      <td>Jämtlands län</td>\n",
       "      <td>C</td>\n",
       "      <td>20.4</td>\n",
       "    </tr>\n",
       "    <tr>\n",
       "      <th>2</th>\n",
       "      <td>Stockholms län</td>\n",
       "      <td>L</td>\n",
       "      <td>8.0</td>\n",
       "    </tr>\n",
       "    <tr>\n",
       "      <th>3</th>\n",
       "      <td>Jönköpings län</td>\n",
       "      <td>KD</td>\n",
       "      <td>12.7</td>\n",
       "    </tr>\n",
       "    <tr>\n",
       "      <th>4</th>\n",
       "      <td>Västerbottens län</td>\n",
       "      <td>S</td>\n",
       "      <td>35.5</td>\n",
       "    </tr>\n",
       "    <tr>\n",
       "      <th>5</th>\n",
       "      <td>Västerbottens län</td>\n",
       "      <td>V</td>\n",
       "      <td>13.5</td>\n",
       "    </tr>\n",
       "    <tr>\n",
       "      <th>6</th>\n",
       "      <td>Stockholms län</td>\n",
       "      <td>MP</td>\n",
       "      <td>5.6</td>\n",
       "    </tr>\n",
       "    <tr>\n",
       "      <th>7</th>\n",
       "      <td>Blekinge län</td>\n",
       "      <td>SD</td>\n",
       "      <td>20.6</td>\n",
       "    </tr>\n",
       "    <tr>\n",
       "      <th>8</th>\n",
       "      <td>Norrbottens län</td>\n",
       "      <td>Övr</td>\n",
       "      <td>34.7</td>\n",
       "    </tr>\n",
       "  </tbody>\n",
       "</table>\n",
       "</div>"
      ],
      "text/plain": [
       "           landsting parti  valresultat_procent\n",
       "0       Hallands län     M                 23.2\n",
       "1      Jämtlands län     C                 20.4\n",
       "2     Stockholms län     L                  8.0\n",
       "3     Jönköpings län    KD                 12.7\n",
       "4  Västerbottens län     S                 35.5\n",
       "5  Västerbottens län     V                 13.5\n",
       "6     Stockholms län    MP                  5.6\n",
       "7       Blekinge län    SD                 20.6\n",
       "8    Norrbottens län   Övr                 34.7"
      ]
     },
     "execution_count": 79,
     "metadata": {},
     "output_type": "execute_result"
    }
   ],
   "source": [
    "strongest_region(df,elec_year=elec_year)"
   ]
  },
  {
   "cell_type": "code",
   "execution_count": 80,
   "metadata": {
    "hidden": true
   },
   "outputs": [],
   "source": [
    "strongest_region(df,elec_year=elec_year)\\\n",
    "    .to_excel(f\"redaktionsmaterial/valdata/HANS_landstingsvalen/2_starkaste_stödet/\\\n",
    "partiernas_starkaste_landsting_{elec_year}.xlsx\",index=False)"
   ]
  },
  {
   "cell_type": "markdown",
   "metadata": {
    "heading_collapsed": true,
    "hidden": true
   },
   "source": [
    "##### 3.3.3.1 Till grafik"
   ]
  },
  {
   "cell_type": "code",
   "execution_count": 81,
   "metadata": {
    "hidden": true
   },
   "outputs": [],
   "source": [
    "strongest_region(df,elec_year=elec_year)\\\n",
    "    .to_excel(f\"redaktionsmaterial/tabeller_till_grafik/så_gick_det_i_landstingen_HANS/\\\n",
    "partiernas_starkaste_fästen.xlsx\",index=False)"
   ]
  },
  {
   "cell_type": "markdown",
   "metadata": {
    "heading_collapsed": true,
    "hidden": true
   },
   "source": [
    "#### 3.3.4 Största lokala framgångarna - andel röster lokalt jämfört med riks"
   ]
  },
  {
   "cell_type": "code",
   "execution_count": 82,
   "metadata": {
    "hidden": true
   },
   "outputs": [],
   "source": [
    "df=all_elec_years(elec_type)"
   ]
  },
  {
   "cell_type": "code",
   "execution_count": 83,
   "metadata": {
    "hidden": true
   },
   "outputs": [],
   "source": [
    "a_dict=valanalys(df,query='valresultat',year=elec_year,elec_type=elec_type,sorter=False)[1]"
   ]
  },
  {
   "cell_type": "code",
   "execution_count": 84,
   "metadata": {
    "hidden": true
   },
   "outputs": [
    {
     "data": {
      "text/html": [
       "<div>\n",
       "<style scoped>\n",
       "    .dataframe tbody tr th:only-of-type {\n",
       "        vertical-align: middle;\n",
       "    }\n",
       "\n",
       "    .dataframe tbody tr th {\n",
       "        vertical-align: top;\n",
       "    }\n",
       "\n",
       "    .dataframe thead th {\n",
       "        text-align: right;\n",
       "    }\n",
       "</style>\n",
       "<table border=\"1\" class=\"dataframe\">\n",
       "  <thead>\n",
       "    <tr style=\"text-align: right;\">\n",
       "      <th></th>\n",
       "      <th>kommun</th>\n",
       "      <th>skillnad_jämf_riket</th>\n",
       "      <th>parti</th>\n",
       "      <th>valresultat_2018</th>\n",
       "      <th>andelar_riket</th>\n",
       "    </tr>\n",
       "  </thead>\n",
       "  <tbody>\n",
       "    <tr>\n",
       "      <th>0</th>\n",
       "      <td>Jämtlands län</td>\n",
       "      <td>12.22</td>\n",
       "      <td>C</td>\n",
       "      <td>20.42</td>\n",
       "      <td>8.2</td>\n",
       "    </tr>\n",
       "    <tr>\n",
       "      <th>1</th>\n",
       "      <td>Kalmar län</td>\n",
       "      <td>3.61</td>\n",
       "      <td>C</td>\n",
       "      <td>11.81</td>\n",
       "      <td>8.2</td>\n",
       "    </tr>\n",
       "    <tr>\n",
       "      <th>2</th>\n",
       "      <td>Hallands län</td>\n",
       "      <td>3.38</td>\n",
       "      <td>C</td>\n",
       "      <td>11.58</td>\n",
       "      <td>8.2</td>\n",
       "    </tr>\n",
       "    <tr>\n",
       "      <th>3</th>\n",
       "      <td>Dalarnas län</td>\n",
       "      <td>3.17</td>\n",
       "      <td>C</td>\n",
       "      <td>11.37</td>\n",
       "      <td>8.2</td>\n",
       "    </tr>\n",
       "    <tr>\n",
       "      <th>4</th>\n",
       "      <td>Västerbottens län</td>\n",
       "      <td>3.11</td>\n",
       "      <td>C</td>\n",
       "      <td>11.31</td>\n",
       "      <td>8.2</td>\n",
       "    </tr>\n",
       "  </tbody>\n",
       "</table>\n",
       "</div>"
      ],
      "text/plain": [
       "              kommun  skillnad_jämf_riket parti  valresultat_2018  \\\n",
       "0      Jämtlands län                12.22     C             20.42   \n",
       "1         Kalmar län                 3.61     C             11.81   \n",
       "2       Hallands län                 3.38     C             11.58   \n",
       "3       Dalarnas län                 3.17     C             11.37   \n",
       "4  Västerbottens län                 3.11     C             11.31   \n",
       "\n",
       "   andelar_riket  \n",
       "0            8.2  \n",
       "1            8.2  \n",
       "2            8.2  \n",
       "3            8.2  \n",
       "4            8.2  "
      ]
     },
     "execution_count": 84,
     "metadata": {},
     "output_type": "execute_result"
    }
   ],
   "source": [
    "a_dict['C'].head()"
   ]
  },
  {
   "cell_type": "code",
   "execution_count": 85,
   "metadata": {
    "hidden": true
   },
   "outputs": [],
   "source": [
    "for party in ['M','C','L','KD','S','V','MP','SD','FI']:\n",
    "    \n",
    "    valanalys(df,query='valresultat',year=elec_year,elec_type=elec_type,sorter=False)[1][party]\\\n",
    "        .to_excel(f\"redaktionsmaterial/valdata/HANS_landstingsvalen/\\\n",
    "3_största_lokala_framgången/resultat_{party}_{elec_year}.xlsx\",index=False)"
   ]
  },
  {
   "cell_type": "markdown",
   "metadata": {
    "heading_collapsed": true,
    "hidden": true
   },
   "source": [
    "#### 3.3.5 Antal mandat för alla sjukvårdspartier"
   ]
  },
  {
   "cell_type": "markdown",
   "metadata": {
    "hidden": true
   },
   "source": [
    "Textsök på alla partier som matchas mot metadatan om partibeteckningar?"
   ]
  },
  {
   "cell_type": "markdown",
   "metadata": {
    "hidden": true
   },
   "source": [
    "Hans har skickat en lista på alla sjukvårdspartier. Sammanlagt 11. Men alla dessa finns inte utskrivna i valdatat. Kanske då de gömts under kategorin \"överiga_partier\" av valmyndigheten. Nu har jag iaf lagt till en parameter som heter 'acronyms', och sätts denna på True så hämtas dessa sex från deras akronymer i valdatan.\n",
    "\n",
    "Alla vårdpartier:\n",
    "\n",
    "- Sol-partiet Sölvesborg och Lister\n",
    "- Dalarnas sjukvårdsparti\n",
    "- Sjukvårdspartiet Gävleborg\n",
    "- Bevara akutsjukhusen\n",
    "- Sjukvårdspartiet i Jönköpings län\n",
    "- Sjukvårdspartiet\n",
    "- Vård för pengarna\n",
    "- Sjukvårdspartiet i Värmland\n",
    "- Sjukvårdspartiet Västernorrland\n",
    "- Regionens framtid\n",
    "- Sjukvårdspartiet Västra Götaland\n",
    "\n",
    "Akronymer = ['SoL','SJPG','SJV','VåfP','dsp','SJVP','BA','Rf','SPVG']"
   ]
  },
  {
   "cell_type": "code",
   "execution_count": 86,
   "metadata": {
    "hidden": true
   },
   "outputs": [],
   "source": [
    "df = all_elec_years(elec_type)"
   ]
  },
  {
   "cell_type": "markdown",
   "metadata": {
    "hidden": true
   },
   "source": [
    "Följande funktion använder sig av en textsökfunktion i tabellen. Parametern 'pattern' tar en textsträng och tabellen kommer sedan filtreras efter alla partier som har den texten i namnet. Stora eller små bokstäver spelar ingen roll.\n",
    "\n",
    "I slutändan använde vi inte denna metod utan nöjde oss med att skriva in alla vårdpartiers partiförkortningar och helt enkelt endast söka efter detta. Det gör man genom att sätta parametern 'acronyms' till True. Med False så kommer sökmönstret gälla."
   ]
  },
  {
   "cell_type": "code",
   "execution_count": 87,
   "metadata": {
    "hidden": true
   },
   "outputs": [
    {
     "data": {
      "text/html": [
       "<div>\n",
       "<style scoped>\n",
       "    .dataframe tbody tr th:only-of-type {\n",
       "        vertical-align: middle;\n",
       "    }\n",
       "\n",
       "    .dataframe tbody tr th {\n",
       "        vertical-align: top;\n",
       "    }\n",
       "\n",
       "    .dataframe thead th {\n",
       "        text-align: right;\n",
       "    }\n",
       "</style>\n",
       "<table border=\"1\" class=\"dataframe\">\n",
       "  <thead>\n",
       "    <tr style=\"text-align: right;\">\n",
       "      <th></th>\n",
       "      <th>kommun</th>\n",
       "      <th>valår</th>\n",
       "      <th>parti</th>\n",
       "      <th>röster</th>\n",
       "      <th>summa_röster</th>\n",
       "      <th>procent</th>\n",
       "      <th>mandat</th>\n",
       "      <th>summa_mandat</th>\n",
       "      <th>beteckning</th>\n",
       "    </tr>\n",
       "  </thead>\n",
       "  <tbody>\n",
       "    <tr>\n",
       "      <th>38</th>\n",
       "      <td>Gävleborgs län</td>\n",
       "      <td>2018</td>\n",
       "      <td>SJPG</td>\n",
       "      <td>13176.0</td>\n",
       "      <td>188764</td>\n",
       "      <td>7.12</td>\n",
       "      <td>5.0</td>\n",
       "      <td>75</td>\n",
       "      <td>Sjukvårdspartiet Gävleborg</td>\n",
       "    </tr>\n",
       "    <tr>\n",
       "      <th>127</th>\n",
       "      <td>Norrbottens län</td>\n",
       "      <td>2018</td>\n",
       "      <td>SJV</td>\n",
       "      <td>57835.0</td>\n",
       "      <td>168877</td>\n",
       "      <td>34.69</td>\n",
       "      <td>27.0</td>\n",
       "      <td>71</td>\n",
       "      <td>Sjukvårdspartiet</td>\n",
       "    </tr>\n",
       "    <tr>\n",
       "      <th>247</th>\n",
       "      <td>Västernorrlands län</td>\n",
       "      <td>2018</td>\n",
       "      <td>SJVP</td>\n",
       "      <td>14098.0</td>\n",
       "      <td>164604</td>\n",
       "      <td>8.71</td>\n",
       "      <td>7.0</td>\n",
       "      <td>77</td>\n",
       "      <td>Sjukvårdspartiet - Västernorrland</td>\n",
       "    </tr>\n",
       "  </tbody>\n",
       "</table>\n",
       "</div>"
      ],
      "text/plain": [
       "                  kommun  valår parti   röster summa_röster  procent  mandat  \\\n",
       "38        Gävleborgs län   2018  SJPG  13176.0       188764     7.12     5.0   \n",
       "127      Norrbottens län   2018   SJV  57835.0       168877    34.69    27.0   \n",
       "247  Västernorrlands län   2018  SJVP  14098.0       164604     8.71     7.0   \n",
       "\n",
       "    summa_mandat                         beteckning  \n",
       "38            75         Sjukvårdspartiet Gävleborg  \n",
       "127           71                   Sjukvårdspartiet  \n",
       "247           77  Sjukvårdspartiet - Västernorrland  "
      ]
     },
     "execution_count": 87,
     "metadata": {},
     "output_type": "execute_result"
    }
   ],
   "source": [
    "vård_partier(df,pattern='vård',elec_year=elec_year,drop=True,acronyms=False)"
   ]
  },
  {
   "cell_type": "code",
   "execution_count": 88,
   "metadata": {
    "hidden": true
   },
   "outputs": [
    {
     "data": {
      "text/html": [
       "<div>\n",
       "<style scoped>\n",
       "    .dataframe tbody tr th:only-of-type {\n",
       "        vertical-align: middle;\n",
       "    }\n",
       "\n",
       "    .dataframe tbody tr th {\n",
       "        vertical-align: top;\n",
       "    }\n",
       "\n",
       "    .dataframe thead th {\n",
       "        text-align: right;\n",
       "    }\n",
       "</style>\n",
       "<table border=\"1\" class=\"dataframe\">\n",
       "  <thead>\n",
       "    <tr style=\"text-align: right;\">\n",
       "      <th></th>\n",
       "      <th>kommun</th>\n",
       "      <th>valår</th>\n",
       "      <th>parti</th>\n",
       "      <th>röster</th>\n",
       "      <th>summa_röster</th>\n",
       "      <th>procent</th>\n",
       "      <th>mandat</th>\n",
       "      <th>summa_mandat</th>\n",
       "      <th>beteckning</th>\n",
       "    </tr>\n",
       "  </thead>\n",
       "  <tbody>\n",
       "    <tr>\n",
       "      <th>38</th>\n",
       "      <td>Gävleborgs län</td>\n",
       "      <td>2018</td>\n",
       "      <td>SJPG</td>\n",
       "      <td>13176.0</td>\n",
       "      <td>188764</td>\n",
       "      <td>7.12</td>\n",
       "      <td>5.0</td>\n",
       "      <td>75</td>\n",
       "      <td>Sjukvårdspartiet Gävleborg</td>\n",
       "    </tr>\n",
       "    <tr>\n",
       "      <th>79</th>\n",
       "      <td>Jönköpings län</td>\n",
       "      <td>2018</td>\n",
       "      <td>BA</td>\n",
       "      <td>20356.0</td>\n",
       "      <td>232345</td>\n",
       "      <td>8.89</td>\n",
       "      <td>7.0</td>\n",
       "      <td>81</td>\n",
       "      <td>Bevara akutsjukhusen</td>\n",
       "    </tr>\n",
       "    <tr>\n",
       "      <th>127</th>\n",
       "      <td>Norrbottens län</td>\n",
       "      <td>2018</td>\n",
       "      <td>SJV</td>\n",
       "      <td>57835.0</td>\n",
       "      <td>168877</td>\n",
       "      <td>34.69</td>\n",
       "      <td>27.0</td>\n",
       "      <td>71</td>\n",
       "      <td>Sjukvårdspartiet</td>\n",
       "    </tr>\n",
       "    <tr>\n",
       "      <th>247</th>\n",
       "      <td>Västernorrlands län</td>\n",
       "      <td>2018</td>\n",
       "      <td>SJVP</td>\n",
       "      <td>14098.0</td>\n",
       "      <td>164604</td>\n",
       "      <td>8.71</td>\n",
       "      <td>7.0</td>\n",
       "      <td>77</td>\n",
       "      <td>Sjukvårdspartiet - Västernorrland</td>\n",
       "    </tr>\n",
       "    <tr>\n",
       "      <th>284</th>\n",
       "      <td>Västra Götalands län</td>\n",
       "      <td>2018</td>\n",
       "      <td>SPVG</td>\n",
       "      <td>4052.0</td>\n",
       "      <td>1101512</td>\n",
       "      <td>0.38</td>\n",
       "      <td>NaN</td>\n",
       "      <td>149</td>\n",
       "      <td>Sjukvårdspartiet - Västra Götaland</td>\n",
       "    </tr>\n",
       "  </tbody>\n",
       "</table>\n",
       "</div>"
      ],
      "text/plain": [
       "                   kommun  valår parti   röster summa_röster  procent  mandat  \\\n",
       "38         Gävleborgs län   2018  SJPG  13176.0       188764     7.12     5.0   \n",
       "79         Jönköpings län   2018    BA  20356.0       232345     8.89     7.0   \n",
       "127       Norrbottens län   2018   SJV  57835.0       168877    34.69    27.0   \n",
       "247   Västernorrlands län   2018  SJVP  14098.0       164604     8.71     7.0   \n",
       "284  Västra Götalands län   2018  SPVG   4052.0      1101512     0.38     NaN   \n",
       "\n",
       "    summa_mandat                          beteckning  \n",
       "38            75          Sjukvårdspartiet Gävleborg  \n",
       "79            81                Bevara akutsjukhusen  \n",
       "127           71                    Sjukvårdspartiet  \n",
       "247           77   Sjukvårdspartiet - Västernorrland  \n",
       "284          149  Sjukvårdspartiet - Västra Götaland  "
      ]
     },
     "execution_count": 88,
     "metadata": {},
     "output_type": "execute_result"
    }
   ],
   "source": [
    "vård_partier(df,pattern='vård',elec_year=elec_year,drop=True,acronyms=True)"
   ]
  },
  {
   "cell_type": "code",
   "execution_count": 89,
   "metadata": {
    "hidden": true
   },
   "outputs": [],
   "source": [
    "vård_partier(df,pattern='vård',elec_year=elec_year,drop=True,acronyms=True)\\\n",
    "    .to_excel(f\"redaktionsmaterial/valdata/HANS_landstingsvalen/\\\n",
    "4_sjukvårdspartierna/sjukvårdspartierna_{elec_year}.xlsx\",index=False)"
   ]
  },
  {
   "cell_type": "markdown",
   "metadata": {
    "heading_collapsed": true,
    "hidden": true
   },
   "source": [
    "#### 3.3.6 Så fördelades landstingsrösterna (per parti) 2010, 2014, 2018"
   ]
  },
  {
   "cell_type": "code",
   "execution_count": 90,
   "metadata": {
    "hidden": true
   },
   "outputs": [
    {
     "data": {
      "text/html": [
       "<div>\n",
       "<style scoped>\n",
       "    .dataframe tbody tr th:only-of-type {\n",
       "        vertical-align: middle;\n",
       "    }\n",
       "\n",
       "    .dataframe tbody tr th {\n",
       "        vertical-align: top;\n",
       "    }\n",
       "\n",
       "    .dataframe thead th {\n",
       "        text-align: right;\n",
       "    }\n",
       "</style>\n",
       "<table border=\"1\" class=\"dataframe\">\n",
       "  <thead>\n",
       "    <tr style=\"text-align: right;\">\n",
       "      <th>val</th>\n",
       "      <th>procent_2010L</th>\n",
       "      <th>procent_2014L</th>\n",
       "      <th>procent_2018L</th>\n",
       "    </tr>\n",
       "    <tr>\n",
       "      <th>parti</th>\n",
       "      <th></th>\n",
       "      <th></th>\n",
       "      <th></th>\n",
       "    </tr>\n",
       "  </thead>\n",
       "  <tbody>\n",
       "    <tr>\n",
       "      <th>C</th>\n",
       "      <td>6.17</td>\n",
       "      <td>6.31</td>\n",
       "      <td>8.37</td>\n",
       "    </tr>\n",
       "    <tr>\n",
       "      <th>FI</th>\n",
       "      <td>NaN</td>\n",
       "      <td>1.08</td>\n",
       "      <td>0.65</td>\n",
       "    </tr>\n",
       "    <tr>\n",
       "      <th>KD</th>\n",
       "      <td>5.07</td>\n",
       "      <td>5.17</td>\n",
       "      <td>7.11</td>\n",
       "    </tr>\n",
       "    <tr>\n",
       "      <th>L</th>\n",
       "      <td>7.48</td>\n",
       "      <td>6.28</td>\n",
       "      <td>6.27</td>\n",
       "    </tr>\n",
       "    <tr>\n",
       "      <th>M</th>\n",
       "      <td>27.29</td>\n",
       "      <td>21.51</td>\n",
       "      <td>19.28</td>\n",
       "    </tr>\n",
       "    <tr>\n",
       "      <th>MP</th>\n",
       "      <td>6.85</td>\n",
       "      <td>7.21</td>\n",
       "      <td>4.12</td>\n",
       "    </tr>\n",
       "    <tr>\n",
       "      <th>S</th>\n",
       "      <td>33.04</td>\n",
       "      <td>32.90</td>\n",
       "      <td>28.74</td>\n",
       "    </tr>\n",
       "    <tr>\n",
       "      <th>SD</th>\n",
       "      <td>4.58</td>\n",
       "      <td>9.14</td>\n",
       "      <td>12.86</td>\n",
       "    </tr>\n",
       "    <tr>\n",
       "      <th>V</th>\n",
       "      <td>5.77</td>\n",
       "      <td>7.08</td>\n",
       "      <td>8.62</td>\n",
       "    </tr>\n",
       "    <tr>\n",
       "      <th>Övr</th>\n",
       "      <td>3.75</td>\n",
       "      <td>3.31</td>\n",
       "      <td>3.97</td>\n",
       "    </tr>\n",
       "  </tbody>\n",
       "</table>\n",
       "</div>"
      ],
      "text/plain": [
       "val    procent_2010L  procent_2014L  procent_2018L\n",
       "parti                                             \n",
       "C               6.17           6.31           8.37\n",
       "FI               NaN           1.08           0.65\n",
       "KD              5.07           5.17           7.11\n",
       "L               7.48           6.28           6.27\n",
       "M              27.29          21.51          19.28\n",
       "MP              6.85           7.21           4.12\n",
       "S              33.04          32.90          28.74\n",
       "SD              4.58           9.14          12.86\n",
       "V               5.77           7.08           8.62\n",
       "Övr             3.75           3.31           3.97"
      ]
     },
     "execution_count": 90,
     "metadata": {},
     "output_type": "execute_result"
    }
   ],
   "source": [
    "elec_macro_fetcher(elec_type=elec_type,\n",
    "                   elec_years=[2010,2014,2018],\n",
    "                   pivot_value='procent',\n",
    "                   all_parties=False)"
   ]
  },
  {
   "cell_type": "code",
   "execution_count": 91,
   "metadata": {
    "hidden": true
   },
   "outputs": [],
   "source": [
    "elec_macro_fetcher(elec_type='L',\n",
    "                   elec_years=[2010,2014,2018],\n",
    "                   pivot_value='procent',\n",
    "                   all_parties=False)\\\n",
    "    .to_excel(\"redaktionsmaterial/valdata/HANS_landstingsvalen/\\\n",
    "5_resultat_åren_2010_2018/resultat_2010_2018.xlsx\")"
   ]
  },
  {
   "cell_type": "markdown",
   "metadata": {
    "heading_collapsed": true,
    "hidden": true
   },
   "source": [
    "#### 3.3.7 README"
   ]
  },
  {
   "cell_type": "code",
   "execution_count": 92,
   "metadata": {
    "hidden": true
   },
   "outputs": [],
   "source": [
    "with open(\"redaktionsmaterial/valdata/HANS_landstingsvalen/README.txt\",\"w\") as f:\n",
    "    f.write(\"\"\"\\\n",
    "Här är en kortare beskrivning om denna mapps innehåll. Men \\\n",
    "först är det viktigt att omedelbart framhlla att det Gotland \\\n",
    "är med i SAMTLIGA av dessa filer. Detta kan ge en viss diff \\\n",
    "från Valmyndighetens data då Gotland inte är med i denna \\\n",
    "(Gotland har formellt inget landstingsval).\n",
    "\n",
    "Här är en beskrivning av mapparnas innehåll:\n",
    "\n",
    "1_mandatfördelning\n",
    "\n",
    "I denna mapp finns en fil som visar hur många mandat partierna \\\n",
    "fick totalt i alla landsting, jämfört med vad de fick i förra \\\n",
    "valet. \n",
    "\n",
    "2_starkaste_stödet\n",
    "\n",
    "I denna fil ser man i vilket landsting som samtliga partier \\\n",
    "har sitt starkaste stöd, plus vilken procent de där erhöll. \n",
    "\n",
    "3_största_lokala_framgången\n",
    "\n",
    "I filerna i denna mapp (en fil per parti) ser man hur partiets \\\n",
    "stöd skiljer sig mot deras stöd i landstingsvalen totalt sett \\\n",
    "över hela landet, och skillnaden däremellan. Tabellerna är \\\n",
    "sorterade efter där partiet har starkast stöd (i procent). \\\n",
    "Notera att rikssiffran är EXKLUSIVE Gotland, då det inte är ett \\\n",
    "landstingsval.\n",
    "\n",
    "4_sjukvårdspartierna\n",
    "\n",
    "Här får man allmän valinfo om hur det gick för alla sjukvårds-\\\n",
    "partier i valet. Denna kan behövas bearbetas något då det är \\\n",
    "grundinfo.\n",
    "\n",
    "5_resultat_åren_2010_2018\n",
    "\n",
    "I denna fil finner man alla partiers valresultat (över riket) \\\n",
    "i procent i landstingsvalen åren 2010-2018. Dessa är också \\\n",
    "exklusive Gotland då de bygger rakt av på Valmyndighetens \\\n",
    "resultatfiler.\n",
    "\n",
    "\"\"\")\n",
    "    f.close"
   ]
  },
  {
   "cell_type": "markdown",
   "metadata": {
    "heading_collapsed": true,
    "hidden": true
   },
   "source": [
    "##### **Till grafik**"
   ]
  },
  {
   "cell_type": "code",
   "execution_count": 93,
   "metadata": {
    "hidden": true
   },
   "outputs": [],
   "source": [
    "grafiken = elec_macro_fetcher(elec_type=elec_type,\n",
    "                   elec_years=[2010,2014,2018],\n",
    "                   pivot_value='procent',\n",
    "                   all_parties=False)"
   ]
  },
  {
   "cell_type": "code",
   "execution_count": 94,
   "metadata": {
    "hidden": true
   },
   "outputs": [],
   "source": [
    "for col in grafiken.columns:\n",
    "    grafiken[col] = grafiken[col].round(1)\n",
    "    grafiken = grafiken.rename(columns={col:col.replace('_',' ').replace('L','')})"
   ]
  },
  {
   "cell_type": "code",
   "execution_count": 95,
   "metadata": {
    "hidden": true
   },
   "outputs": [],
   "source": [
    "grafiken.to_excel(\"redaktionsmaterial/tabeller_till_grafik/så_gick_det_i_landstingen_HANS/\\\n",
    "valresultat_2010_till_2018.xlsx\")"
   ]
  },
  {
   "cell_type": "markdown",
   "metadata": {
    "heading_collapsed": true
   },
   "source": [
    "## 3.4 Intervju: Wannholt i Göteborg"
   ]
  },
  {
   "cell_type": "markdown",
   "metadata": {
    "heading_collapsed": true,
    "hidden": true
   },
   "source": [
    "#### 3.4.1 Intro"
   ]
  },
  {
   "cell_type": "markdown",
   "metadata": {
    "hidden": true
   },
   "source": [
    "Reporter: Micke Bergling"
   ]
  },
  {
   "cell_type": "markdown",
   "metadata": {
    "hidden": true
   },
   "source": [
    "Detta jobb är en intervju med partiet Demokraternas partiledare i Göteborg. Ett parti som redan på förhand antogs göra ett succéval. Intervjun var tänkt att kompletteras med valresultatet i Göteborgs kommun."
   ]
  },
  {
   "cell_type": "markdown",
   "metadata": {
    "heading_collapsed": true,
    "hidden": true
   },
   "source": [
    "#### 3.4.2 Bearbetning"
   ]
  },
  {
   "cell_type": "code",
   "execution_count": 96,
   "metadata": {
    "hidden": true
   },
   "outputs": [],
   "source": [
    "from util import muni_sorter,all_elec_years"
   ]
  },
  {
   "cell_type": "code",
   "execution_count": 97,
   "metadata": {
    "hidden": true
   },
   "outputs": [],
   "source": [
    "df = all_elec_years('K')"
   ]
  },
  {
   "cell_type": "code",
   "execution_count": 98,
   "metadata": {
    "hidden": true
   },
   "outputs": [
    {
     "data": {
      "text/html": [
       "<div>\n",
       "<style scoped>\n",
       "    .dataframe tbody tr th:only-of-type {\n",
       "        vertical-align: middle;\n",
       "    }\n",
       "\n",
       "    .dataframe tbody tr th {\n",
       "        vertical-align: top;\n",
       "    }\n",
       "\n",
       "    .dataframe thead th {\n",
       "        text-align: right;\n",
       "    }\n",
       "</style>\n",
       "<table border=\"1\" class=\"dataframe\">\n",
       "  <thead>\n",
       "    <tr style=\"text-align: right;\">\n",
       "      <th></th>\n",
       "      <th>kommun</th>\n",
       "      <th>beteckning</th>\n",
       "      <th>röster</th>\n",
       "      <th>procent_2014</th>\n",
       "      <th>procent_2018</th>\n",
       "      <th>förändring_procent_2018_2014</th>\n",
       "      <th>mandat_2014</th>\n",
       "      <th>mandat_2018</th>\n",
       "    </tr>\n",
       "  </thead>\n",
       "  <tbody>\n",
       "    <tr>\n",
       "      <th>0</th>\n",
       "      <td>Göteborg</td>\n",
       "      <td>Arbetarepartiet-Socialdemokraterna</td>\n",
       "      <td>72514</td>\n",
       "      <td>22.39</td>\n",
       "      <td>20.47</td>\n",
       "      <td>-1.92</td>\n",
       "      <td>20</td>\n",
       "      <td>17</td>\n",
       "    </tr>\n",
       "    <tr>\n",
       "      <th>1</th>\n",
       "      <td>Göteborg</td>\n",
       "      <td>Demokraterna</td>\n",
       "      <td>60013</td>\n",
       "      <td>NaN</td>\n",
       "      <td>16.95</td>\n",
       "      <td>NaN</td>\n",
       "      <td>0</td>\n",
       "      <td>14</td>\n",
       "    </tr>\n",
       "    <tr>\n",
       "      <th>2</th>\n",
       "      <td>Göteborg</td>\n",
       "      <td>Moderaterna</td>\n",
       "      <td>51449</td>\n",
       "      <td>22.33</td>\n",
       "      <td>14.53</td>\n",
       "      <td>-7.80</td>\n",
       "      <td>20</td>\n",
       "      <td>12</td>\n",
       "    </tr>\n",
       "    <tr>\n",
       "      <th>3</th>\n",
       "      <td>Göteborg</td>\n",
       "      <td>Vänsterpartiet</td>\n",
       "      <td>44499</td>\n",
       "      <td>9.44</td>\n",
       "      <td>12.56</td>\n",
       "      <td>3.12</td>\n",
       "      <td>8</td>\n",
       "      <td>11</td>\n",
       "    </tr>\n",
       "    <tr>\n",
       "      <th>4</th>\n",
       "      <td>Göteborg</td>\n",
       "      <td>Sverigedemokraterna</td>\n",
       "      <td>29354</td>\n",
       "      <td>7.02</td>\n",
       "      <td>8.29</td>\n",
       "      <td>1.27</td>\n",
       "      <td>6</td>\n",
       "      <td>7</td>\n",
       "    </tr>\n",
       "    <tr>\n",
       "      <th>5</th>\n",
       "      <td>Göteborg</td>\n",
       "      <td>Liberalerna (tidigare Folkpartiet)</td>\n",
       "      <td>25602</td>\n",
       "      <td>8.12</td>\n",
       "      <td>7.23</td>\n",
       "      <td>-0.89</td>\n",
       "      <td>7</td>\n",
       "      <td>6</td>\n",
       "    </tr>\n",
       "    <tr>\n",
       "      <th>6</th>\n",
       "      <td>Göteborg</td>\n",
       "      <td>Miljöpartiet de gröna</td>\n",
       "      <td>24576</td>\n",
       "      <td>10.66</td>\n",
       "      <td>6.94</td>\n",
       "      <td>-3.72</td>\n",
       "      <td>9</td>\n",
       "      <td>6</td>\n",
       "    </tr>\n",
       "    <tr>\n",
       "      <th>7</th>\n",
       "      <td>Göteborg</td>\n",
       "      <td>Centerpartiet</td>\n",
       "      <td>13989</td>\n",
       "      <td>2.56</td>\n",
       "      <td>3.95</td>\n",
       "      <td>1.39</td>\n",
       "      <td>0</td>\n",
       "      <td>3</td>\n",
       "    </tr>\n",
       "    <tr>\n",
       "      <th>8</th>\n",
       "      <td>Göteborg</td>\n",
       "      <td>Kristdemokraterna</td>\n",
       "      <td>11773</td>\n",
       "      <td>3.95</td>\n",
       "      <td>3.32</td>\n",
       "      <td>-0.63</td>\n",
       "      <td>3</td>\n",
       "      <td>3</td>\n",
       "    </tr>\n",
       "    <tr>\n",
       "      <th>9</th>\n",
       "      <td>Göteborg</td>\n",
       "      <td>Feministiskt initiativ</td>\n",
       "      <td>8152</td>\n",
       "      <td>3.96</td>\n",
       "      <td>2.30</td>\n",
       "      <td>-1.66</td>\n",
       "      <td>3</td>\n",
       "      <td>2</td>\n",
       "    </tr>\n",
       "    <tr>\n",
       "      <th>10</th>\n",
       "      <td>Göteborg</td>\n",
       "      <td>Vägvalet</td>\n",
       "      <td>6758</td>\n",
       "      <td>4.89</td>\n",
       "      <td>1.91</td>\n",
       "      <td>-2.98</td>\n",
       "      <td>5</td>\n",
       "      <td>0</td>\n",
       "    </tr>\n",
       "    <tr>\n",
       "      <th>11</th>\n",
       "      <td>Göteborg</td>\n",
       "      <td>Ogiltiga röster - blanka</td>\n",
       "      <td>2914</td>\n",
       "      <td>0.87</td>\n",
       "      <td>0.81</td>\n",
       "      <td>-0.06</td>\n",
       "      <td>0</td>\n",
       "      <td>0</td>\n",
       "    </tr>\n",
       "  </tbody>\n",
       "</table>\n",
       "</div>"
      ],
      "text/plain": [
       "      kommun                          beteckning  röster  procent_2014  \\\n",
       "0   Göteborg  Arbetarepartiet-Socialdemokraterna   72514         22.39   \n",
       "1   Göteborg                        Demokraterna   60013           NaN   \n",
       "2   Göteborg                         Moderaterna   51449         22.33   \n",
       "3   Göteborg                      Vänsterpartiet   44499          9.44   \n",
       "4   Göteborg                 Sverigedemokraterna   29354          7.02   \n",
       "5   Göteborg  Liberalerna (tidigare Folkpartiet)   25602          8.12   \n",
       "6   Göteborg               Miljöpartiet de gröna   24576         10.66   \n",
       "7   Göteborg                       Centerpartiet   13989          2.56   \n",
       "8   Göteborg                   Kristdemokraterna   11773          3.95   \n",
       "9   Göteborg              Feministiskt initiativ    8152          3.96   \n",
       "10  Göteborg                            Vägvalet    6758          4.89   \n",
       "11  Göteborg            Ogiltiga röster - blanka    2914          0.87   \n",
       "\n",
       "    procent_2018  förändring_procent_2018_2014  mandat_2014  mandat_2018  \n",
       "0          20.47                         -1.92           20           17  \n",
       "1          16.95                           NaN            0           14  \n",
       "2          14.53                         -7.80           20           12  \n",
       "3          12.56                          3.12            8           11  \n",
       "4           8.29                          1.27            6            7  \n",
       "5           7.23                         -0.89            7            6  \n",
       "6           6.94                         -3.72            9            6  \n",
       "7           3.95                          1.39            0            3  \n",
       "8           3.32                         -0.63            3            3  \n",
       "9           2.30                         -1.66            3            2  \n",
       "10          1.91                         -2.98            5            0  \n",
       "11          0.81                         -0.06            0            0  "
      ]
     },
     "execution_count": 98,
     "metadata": {},
     "output_type": "execute_result"
    }
   ],
   "source": [
    "muni_sorter(df,\n",
    "            elec_year=2018,\n",
    "            muni='Göteborg',\n",
    "            sort_variabel='procent',\n",
    "            sorter=False).head(12)"
   ]
  },
  {
   "cell_type": "code",
   "execution_count": 99,
   "metadata": {
    "hidden": true
   },
   "outputs": [],
   "source": [
    "elec_year=2018"
   ]
  },
  {
   "cell_type": "code",
   "execution_count": 100,
   "metadata": {
    "hidden": true
   },
   "outputs": [],
   "source": [
    "muni_sorter(df,\n",
    "            elec_year=elec_year,\n",
    "            muni='Göteborg',\n",
    "            sort_variabel='procent',\n",
    "            sorter=False)\\\n",
    "    .to_excel(f\"redaktionsmaterial/valdata/MICKE_Göteborg/valresultat_göteborg_{elec_year}.xlsx\",index=False)"
   ]
  },
  {
   "cell_type": "code",
   "execution_count": 101,
   "metadata": {
    "hidden": true
   },
   "outputs": [],
   "source": [
    "with open(\"redaktionsmaterial/valdata/MICKE_Göteborg/README.txt\",\"w\") as f:\n",
    "    f.write(\"\"\"\\\n",
    "I excelfilen i denna mapp hittar man valdata för alla partier \\\n",
    "som ställde upp i Göteborg. Procent och mandat i valet, jämfört \\\n",
    "med förra.\n",
    "\n",
    "Vid frågor ang statistik, mejla mig (johan.ekman@dagenssamhalle.se) \\\n",
    "eller Gustav Halth (gustav.halth@dagenssamhalle.se).\n",
    "\n",
    "\"\"\")\n",
    "    f.close"
   ]
  },
  {
   "cell_type": "markdown",
   "metadata": {
    "heading_collapsed": true,
    "hidden": true
   },
   "source": [
    "##### **Till grafik**"
   ]
  },
  {
   "cell_type": "code",
   "execution_count": 102,
   "metadata": {
    "hidden": true
   },
   "outputs": [],
   "source": [
    "grafik = muni_sorter(df,\n",
    "            elec_year=elec_year,\n",
    "            muni='Göteborg',\n",
    "            sort_variabel='procent',\n",
    "            sorter=False)"
   ]
  },
  {
   "cell_type": "code",
   "execution_count": 103,
   "metadata": {
    "hidden": true
   },
   "outputs": [],
   "source": [
    "grafik.loc[grafik[f'mandat_{elec_year}']>0].iloc[:,1:]\\\n",
    "    .to_excel(\"redaktionsmaterial/tabeller_till_grafik/Wannholt_Göteborg_MICKE/\\\n",
    "valresultatet_göteborg.xlsx\",index=False)"
   ]
  },
  {
   "cell_type": "markdown",
   "metadata": {
    "heading_collapsed": true
   },
   "source": [
    "## 3.5 KD - förlorare riks, men starkt lokalt?"
   ]
  },
  {
   "cell_type": "markdown",
   "metadata": {
    "heading_collapsed": true,
    "hidden": true
   },
   "source": [
    "#### 3.5.1 Intro"
   ]
  },
  {
   "cell_type": "markdown",
   "metadata": {
    "hidden": true
   },
   "source": [
    "Reporter: Måns"
   ]
  },
  {
   "cell_type": "markdown",
   "metadata": {
    "hidden": true
   },
   "source": [
    "1. Tio kommuner där KD fick störst röstandel\n",
    "2. Tio kommuner där KD ökade/minskade mest (2018 jämf 2014)"
   ]
  },
  {
   "cell_type": "markdown",
   "metadata": {
    "hidden": true
   },
   "source": [
    "Inför valet såg det ut som att KD eventuellt skulle få ett dåligt resultat i riksdagsvalet. Grundtanken var att man då kunde jämföra detta med resultatet i kommunerna där de lokalt traditionellt har varit starka på sina håll. I slutändan gjorde KD en väldigt stark valrörelse och den slutgiltiga vinkeln blev istället att de gick starkt lokalt OCH i riks.\n",
    "\n",
    "Ett parti som dock gjorde ett dåligt val var Miljöpartiet, så delar av följande kod användes istället för att kolla deras sämsta resultat på kommunnivå."
   ]
  },
  {
   "cell_type": "code",
   "execution_count": 104,
   "metadata": {
    "hidden": true
   },
   "outputs": [],
   "source": [
    "from util import all_elec_years,muni_sorter,parti_till_grafik,valanalys,party_kommuner"
   ]
  },
  {
   "cell_type": "markdown",
   "metadata": {
    "heading_collapsed": true,
    "hidden": true
   },
   "source": [
    "#### 3.5.2 Tio kommuner där KD fick störst röstandel"
   ]
  },
  {
   "cell_type": "code",
   "execution_count": 105,
   "metadata": {
    "hidden": true
   },
   "outputs": [],
   "source": [
    "df = all_elec_years('K')"
   ]
  },
  {
   "cell_type": "markdown",
   "metadata": {
    "hidden": true
   },
   "source": [
    "Fulkodat här, men ovanstående funktion (muni_sorter()) tar även parametern 'party'. Om denna bestäms så skickas en lista på alla kommuner:"
   ]
  },
  {
   "cell_type": "code",
   "execution_count": 106,
   "metadata": {
    "hidden": true
   },
   "outputs": [],
   "source": [
    "elec_year=2018"
   ]
  },
  {
   "cell_type": "code",
   "execution_count": 107,
   "metadata": {
    "hidden": true
   },
   "outputs": [
    {
     "data": {
      "text/html": [
       "<div>\n",
       "<style scoped>\n",
       "    .dataframe tbody tr th:only-of-type {\n",
       "        vertical-align: middle;\n",
       "    }\n",
       "\n",
       "    .dataframe tbody tr th {\n",
       "        vertical-align: top;\n",
       "    }\n",
       "\n",
       "    .dataframe thead th {\n",
       "        text-align: right;\n",
       "    }\n",
       "</style>\n",
       "<table border=\"1\" class=\"dataframe\">\n",
       "  <thead>\n",
       "    <tr style=\"text-align: right;\">\n",
       "      <th></th>\n",
       "      <th>kommun</th>\n",
       "      <th>beteckning</th>\n",
       "      <th>röster</th>\n",
       "      <th>procent_2014</th>\n",
       "      <th>procent_2018</th>\n",
       "      <th>förändring_procent_2018_2014</th>\n",
       "      <th>mandat_2014</th>\n",
       "      <th>mandat_2018</th>\n",
       "    </tr>\n",
       "  </thead>\n",
       "  <tbody>\n",
       "    <tr>\n",
       "      <th>0</th>\n",
       "      <td>Markaryd</td>\n",
       "      <td>Kristdemokraterna</td>\n",
       "      <td>2429</td>\n",
       "      <td>44.94</td>\n",
       "      <td>39.32</td>\n",
       "      <td>-5.62</td>\n",
       "      <td>16</td>\n",
       "      <td>15</td>\n",
       "    </tr>\n",
       "    <tr>\n",
       "      <th>1</th>\n",
       "      <td>Laxå</td>\n",
       "      <td>Kristdemokraterna</td>\n",
       "      <td>1425</td>\n",
       "      <td>18.38</td>\n",
       "      <td>38.95</td>\n",
       "      <td>20.57</td>\n",
       "      <td>6</td>\n",
       "      <td>12</td>\n",
       "    </tr>\n",
       "    <tr>\n",
       "      <th>2</th>\n",
       "      <td>Ödeshög</td>\n",
       "      <td>Kristdemokraterna</td>\n",
       "      <td>1195</td>\n",
       "      <td>26.99</td>\n",
       "      <td>33.55</td>\n",
       "      <td>6.56</td>\n",
       "      <td>10</td>\n",
       "      <td>12</td>\n",
       "    </tr>\n",
       "    <tr>\n",
       "      <th>3</th>\n",
       "      <td>Sävsjö</td>\n",
       "      <td>Kristdemokraterna</td>\n",
       "      <td>2104</td>\n",
       "      <td>23.23</td>\n",
       "      <td>29.37</td>\n",
       "      <td>6.14</td>\n",
       "      <td>9</td>\n",
       "      <td>12</td>\n",
       "    </tr>\n",
       "    <tr>\n",
       "      <th>4</th>\n",
       "      <td>Öckerö</td>\n",
       "      <td>Kristdemokraterna</td>\n",
       "      <td>2516</td>\n",
       "      <td>20.97</td>\n",
       "      <td>27.59</td>\n",
       "      <td>6.62</td>\n",
       "      <td>9</td>\n",
       "      <td>11</td>\n",
       "    </tr>\n",
       "    <tr>\n",
       "      <th>5</th>\n",
       "      <td>Norsjö</td>\n",
       "      <td>Kristdemokraterna</td>\n",
       "      <td>667</td>\n",
       "      <td>11.57</td>\n",
       "      <td>25.81</td>\n",
       "      <td>14.24</td>\n",
       "      <td>4</td>\n",
       "      <td>8</td>\n",
       "    </tr>\n",
       "    <tr>\n",
       "      <th>6</th>\n",
       "      <td>Årjäng</td>\n",
       "      <td>Kristdemokraterna</td>\n",
       "      <td>1163</td>\n",
       "      <td>13.67</td>\n",
       "      <td>19.57</td>\n",
       "      <td>5.90</td>\n",
       "      <td>5</td>\n",
       "      <td>7</td>\n",
       "    </tr>\n",
       "    <tr>\n",
       "      <th>7</th>\n",
       "      <td>Lycksele</td>\n",
       "      <td>Kristdemokraterna</td>\n",
       "      <td>1375</td>\n",
       "      <td>10.27</td>\n",
       "      <td>17.62</td>\n",
       "      <td>7.35</td>\n",
       "      <td>3</td>\n",
       "      <td>6</td>\n",
       "    </tr>\n",
       "    <tr>\n",
       "      <th>8</th>\n",
       "      <td>Mullsjö</td>\n",
       "      <td>Kristdemokraterna</td>\n",
       "      <td>795</td>\n",
       "      <td>15.64</td>\n",
       "      <td>16.56</td>\n",
       "      <td>0.92</td>\n",
       "      <td>5</td>\n",
       "      <td>6</td>\n",
       "    </tr>\n",
       "    <tr>\n",
       "      <th>9</th>\n",
       "      <td>Jönköping</td>\n",
       "      <td>Kristdemokraterna</td>\n",
       "      <td>14622</td>\n",
       "      <td>12.44</td>\n",
       "      <td>16.31</td>\n",
       "      <td>3.87</td>\n",
       "      <td>10</td>\n",
       "      <td>14</td>\n",
       "    </tr>\n",
       "  </tbody>\n",
       "</table>\n",
       "</div>"
      ],
      "text/plain": [
       "      kommun         beteckning  röster  procent_2014  procent_2018  \\\n",
       "0   Markaryd  Kristdemokraterna    2429         44.94         39.32   \n",
       "1       Laxå  Kristdemokraterna    1425         18.38         38.95   \n",
       "2    Ödeshög  Kristdemokraterna    1195         26.99         33.55   \n",
       "3     Sävsjö  Kristdemokraterna    2104         23.23         29.37   \n",
       "4     Öckerö  Kristdemokraterna    2516         20.97         27.59   \n",
       "5     Norsjö  Kristdemokraterna     667         11.57         25.81   \n",
       "6     Årjäng  Kristdemokraterna    1163         13.67         19.57   \n",
       "7   Lycksele  Kristdemokraterna    1375         10.27         17.62   \n",
       "8    Mullsjö  Kristdemokraterna     795         15.64         16.56   \n",
       "9  Jönköping  Kristdemokraterna   14622         12.44         16.31   \n",
       "\n",
       "   förändring_procent_2018_2014  mandat_2014  mandat_2018  \n",
       "0                         -5.62           16           15  \n",
       "1                         20.57            6           12  \n",
       "2                          6.56           10           12  \n",
       "3                          6.14            9           12  \n",
       "4                          6.62            9           11  \n",
       "5                         14.24            4            8  \n",
       "6                          5.90            5            7  \n",
       "7                          7.35            3            6  \n",
       "8                          0.92            5            6  \n",
       "9                          3.87           10           14  "
      ]
     },
     "execution_count": 107,
     "metadata": {},
     "output_type": "execute_result"
    }
   ],
   "source": [
    "muni_sorter(df,elec_year=elec_year, party='KD').head(10)"
   ]
  },
  {
   "cell_type": "code",
   "execution_count": 108,
   "metadata": {
    "hidden": true
   },
   "outputs": [],
   "source": [
    "muni_sorter(df,elec_year=elec_year, party='KD').head(10)\\\n",
    "    .to_excel(f'redaktionsmaterial/valdata/MÅNS_KD/1_KDs_tio_bästa/\\\n",
    "starkaste_resultaten_KD.xlsx',index=False)"
   ]
  },
  {
   "cell_type": "markdown",
   "metadata": {
    "heading_collapsed": true,
    "hidden": true
   },
   "source": [
    "##### 3.5.2.1 Till grafik"
   ]
  },
  {
   "cell_type": "code",
   "execution_count": 109,
   "metadata": {
    "hidden": true
   },
   "outputs": [],
   "source": [
    "elec_year=2018\n",
    "compare_year=elec_year-4"
   ]
  },
  {
   "cell_type": "code",
   "execution_count": 110,
   "metadata": {
    "hidden": true
   },
   "outputs": [],
   "source": [
    "df = all_elec_years('K')"
   ]
  },
  {
   "cell_type": "code",
   "execution_count": 111,
   "metadata": {
    "hidden": true
   },
   "outputs": [],
   "source": [
    "grafik=parti_till_grafik(df,elec_type='K',elec_year=elec_year,compare_year=compare_year,party='KD')"
   ]
  },
  {
   "cell_type": "code",
   "execution_count": 112,
   "metadata": {
    "hidden": true
   },
   "outputs": [],
   "source": [
    "grafik\\\n",
    "    .to_excel(f\"redaktionsmaterial/tabeller_till_grafik/KD_förlorare_vinnare_MÅNS/\\\n",
    "KDs_resultat_kommunvalen_{compare_year}_{elec_year}.xlsx\")"
   ]
  },
  {
   "cell_type": "markdown",
   "metadata": {
    "heading_collapsed": true,
    "hidden": true
   },
   "source": [
    "#### 3.5.3 Tio kommuner där KD ökade/minskade mest (2018 jämf 2014)"
   ]
  },
  {
   "cell_type": "markdown",
   "metadata": {
    "hidden": true
   },
   "source": [
    "Följande funktion kommer från ovan, och kan användas till att få fram de kommuner där partiet fått störst tillökning (sorter=False) / tapp (sorter=True):"
   ]
  },
  {
   "cell_type": "code",
   "execution_count": 113,
   "metadata": {
    "hidden": true
   },
   "outputs": [
    {
     "data": {
      "text/plain": [
       "kommun\n",
       "Laxå        20.57\n",
       "Norsjö      14.24\n",
       "Gagnef       7.58\n",
       "Lycksele     7.35\n",
       "Öckerö       6.62\n",
       "Ödeshög      6.56\n",
       "Sävsjö       6.14\n",
       "Årjäng       5.90\n",
       "Vansbro      5.48\n",
       "Vimmerby     4.92\n",
       "Name: KD, dtype: float64"
      ]
     },
     "execution_count": 113,
     "metadata": {},
     "output_type": "execute_result"
    }
   ],
   "source": [
    "valanalys(df,'jämför',year=elec_year,elec_type='K',year_compare=compare_year,party='KD',sorter=False).head(10)"
   ]
  },
  {
   "cell_type": "markdown",
   "metadata": {
    "hidden": true
   },
   "source": [
    "Eller så kan vi använda samma från nr 1. här precis ovanför:"
   ]
  },
  {
   "cell_type": "code",
   "execution_count": 114,
   "metadata": {
    "hidden": true
   },
   "outputs": [
    {
     "data": {
      "text/html": [
       "<div>\n",
       "<style scoped>\n",
       "    .dataframe tbody tr th:only-of-type {\n",
       "        vertical-align: middle;\n",
       "    }\n",
       "\n",
       "    .dataframe tbody tr th {\n",
       "        vertical-align: top;\n",
       "    }\n",
       "\n",
       "    .dataframe thead th {\n",
       "        text-align: right;\n",
       "    }\n",
       "</style>\n",
       "<table border=\"1\" class=\"dataframe\">\n",
       "  <thead>\n",
       "    <tr style=\"text-align: right;\">\n",
       "      <th></th>\n",
       "      <th>kommun</th>\n",
       "      <th>beteckning</th>\n",
       "      <th>röster</th>\n",
       "      <th>procent_2014</th>\n",
       "      <th>procent_2018</th>\n",
       "      <th>förändring_procent_2018_2014</th>\n",
       "      <th>mandat_2014</th>\n",
       "      <th>mandat_2018</th>\n",
       "    </tr>\n",
       "  </thead>\n",
       "  <tbody>\n",
       "    <tr>\n",
       "      <th>1</th>\n",
       "      <td>Laxå</td>\n",
       "      <td>Kristdemokraterna</td>\n",
       "      <td>1425</td>\n",
       "      <td>18.38</td>\n",
       "      <td>38.95</td>\n",
       "      <td>20.57</td>\n",
       "      <td>6</td>\n",
       "      <td>12</td>\n",
       "    </tr>\n",
       "    <tr>\n",
       "      <th>5</th>\n",
       "      <td>Norsjö</td>\n",
       "      <td>Kristdemokraterna</td>\n",
       "      <td>667</td>\n",
       "      <td>11.57</td>\n",
       "      <td>25.81</td>\n",
       "      <td>14.24</td>\n",
       "      <td>4</td>\n",
       "      <td>8</td>\n",
       "    </tr>\n",
       "    <tr>\n",
       "      <th>18</th>\n",
       "      <td>Gagnef</td>\n",
       "      <td>Kristdemokraterna</td>\n",
       "      <td>796</td>\n",
       "      <td>4.13</td>\n",
       "      <td>11.71</td>\n",
       "      <td>7.58</td>\n",
       "      <td>1</td>\n",
       "      <td>4</td>\n",
       "    </tr>\n",
       "    <tr>\n",
       "      <th>7</th>\n",
       "      <td>Lycksele</td>\n",
       "      <td>Kristdemokraterna</td>\n",
       "      <td>1375</td>\n",
       "      <td>10.27</td>\n",
       "      <td>17.62</td>\n",
       "      <td>7.35</td>\n",
       "      <td>3</td>\n",
       "      <td>6</td>\n",
       "    </tr>\n",
       "    <tr>\n",
       "      <th>4</th>\n",
       "      <td>Öckerö</td>\n",
       "      <td>Kristdemokraterna</td>\n",
       "      <td>2516</td>\n",
       "      <td>20.97</td>\n",
       "      <td>27.59</td>\n",
       "      <td>6.62</td>\n",
       "      <td>9</td>\n",
       "      <td>11</td>\n",
       "    </tr>\n",
       "    <tr>\n",
       "      <th>2</th>\n",
       "      <td>Ödeshög</td>\n",
       "      <td>Kristdemokraterna</td>\n",
       "      <td>1195</td>\n",
       "      <td>26.99</td>\n",
       "      <td>33.55</td>\n",
       "      <td>6.56</td>\n",
       "      <td>10</td>\n",
       "      <td>12</td>\n",
       "    </tr>\n",
       "    <tr>\n",
       "      <th>3</th>\n",
       "      <td>Sävsjö</td>\n",
       "      <td>Kristdemokraterna</td>\n",
       "      <td>2104</td>\n",
       "      <td>23.23</td>\n",
       "      <td>29.37</td>\n",
       "      <td>6.14</td>\n",
       "      <td>9</td>\n",
       "      <td>12</td>\n",
       "    </tr>\n",
       "    <tr>\n",
       "      <th>6</th>\n",
       "      <td>Årjäng</td>\n",
       "      <td>Kristdemokraterna</td>\n",
       "      <td>1163</td>\n",
       "      <td>13.67</td>\n",
       "      <td>19.57</td>\n",
       "      <td>5.90</td>\n",
       "      <td>5</td>\n",
       "      <td>7</td>\n",
       "    </tr>\n",
       "    <tr>\n",
       "      <th>14</th>\n",
       "      <td>Vansbro</td>\n",
       "      <td>Kristdemokraterna</td>\n",
       "      <td>626</td>\n",
       "      <td>8.44</td>\n",
       "      <td>13.92</td>\n",
       "      <td>5.48</td>\n",
       "      <td>3</td>\n",
       "      <td>4</td>\n",
       "    </tr>\n",
       "    <tr>\n",
       "      <th>26</th>\n",
       "      <td>Vimmerby</td>\n",
       "      <td>Kristdemokraterna</td>\n",
       "      <td>961</td>\n",
       "      <td>4.29</td>\n",
       "      <td>9.21</td>\n",
       "      <td>4.92</td>\n",
       "      <td>2</td>\n",
       "      <td>5</td>\n",
       "    </tr>\n",
       "  </tbody>\n",
       "</table>\n",
       "</div>"
      ],
      "text/plain": [
       "      kommun         beteckning  röster  procent_2014  procent_2018  \\\n",
       "1       Laxå  Kristdemokraterna    1425         18.38         38.95   \n",
       "5     Norsjö  Kristdemokraterna     667         11.57         25.81   \n",
       "18    Gagnef  Kristdemokraterna     796          4.13         11.71   \n",
       "7   Lycksele  Kristdemokraterna    1375         10.27         17.62   \n",
       "4     Öckerö  Kristdemokraterna    2516         20.97         27.59   \n",
       "2    Ödeshög  Kristdemokraterna    1195         26.99         33.55   \n",
       "3     Sävsjö  Kristdemokraterna    2104         23.23         29.37   \n",
       "6     Årjäng  Kristdemokraterna    1163         13.67         19.57   \n",
       "14   Vansbro  Kristdemokraterna     626          8.44         13.92   \n",
       "26  Vimmerby  Kristdemokraterna     961          4.29          9.21   \n",
       "\n",
       "    förändring_procent_2018_2014  mandat_2014  mandat_2018  \n",
       "1                          20.57            6           12  \n",
       "5                          14.24            4            8  \n",
       "18                          7.58            1            4  \n",
       "7                           7.35            3            6  \n",
       "4                           6.62            9           11  \n",
       "2                           6.56           10           12  \n",
       "3                           6.14            9           12  \n",
       "6                           5.90            5            7  \n",
       "14                          5.48            3            4  \n",
       "26                          4.92            2            5  "
      ]
     },
     "execution_count": 114,
     "metadata": {},
     "output_type": "execute_result"
    }
   ],
   "source": [
    "muni_sorter(df,elec_year=elec_year, party='KD')\\\n",
    "    .sort_values(by=f'förändring_procent_{elec_year}_{compare_year}',\n",
    "                 ascending=False).head(10)"
   ]
  },
  {
   "cell_type": "code",
   "execution_count": 115,
   "metadata": {
    "hidden": true
   },
   "outputs": [],
   "source": [
    "muni_sorter(df,elec_year=elec_year, party='KD')\\\n",
    "    .sort_values(by=f'förändring_procent_{elec_year}_{compare_year}',ascending=False).head(10)\\\n",
    "    .to_excel(f\"redaktionsmaterial/valdata/MÅNS_KD/2_mest_ökning_minskning/\\\n",
    "störst_ökning_KD_{elec_year}.xlsx\",index=False)\n",
    "muni_sorter(df,elec_year=elec_year, party='KD')\\\n",
    "    .sort_values(by=f'förändring_procent_{elec_year}_{compare_year}',ascending=True).head(10)\\\n",
    "    .to_excel(f\"redaktionsmaterial/valdata/MÅNS_KD/2_mest_ökning_minskning/\\\n",
    "störst_minskning_KD_{elec_year}.xlsx\",index=False)"
   ]
  },
  {
   "cell_type": "markdown",
   "metadata": {
    "hidden": true
   },
   "source": [
    "En grundfil ifall ytterligare research skulle behövas under valveckan:"
   ]
  },
  {
   "cell_type": "code",
   "execution_count": 116,
   "metadata": {
    "hidden": true
   },
   "outputs": [],
   "source": [
    "muni_sorter(df,elec_year=elec_year, party='KD')\\\n",
    "    .sort_values(by=f'förändring_procent_{elec_year}_{compare_year}',ascending=False)\\\n",
    "    .to_excel(f\"redaktionsmaterial/valdata/MÅNS_KD/grundfil/grundfil.xlsx\",index=False)"
   ]
  },
  {
   "cell_type": "markdown",
   "metadata": {
    "heading_collapsed": true,
    "hidden": true
   },
   "source": [
    "##### 3.5.3.1 Till grafik"
   ]
  },
  {
   "cell_type": "code",
   "execution_count": 117,
   "metadata": {
    "hidden": true
   },
   "outputs": [],
   "source": [
    "party_kommuner(elec_year=elec_year,sorter=False,party='KD')\\\n",
    "    .to_excel(f\"redaktionsmaterial/tabeller_till_grafik/KD_förlorare_vinnare_MÅNS/\\\n",
    "tio_kommuner_KD_ökade_mest.xlsx\",index=False)\n",
    "\n",
    "party_kommuner(elec_year=elec_year,sorter=True,party='KD')\\\n",
    "    .to_excel(f\"redaktionsmaterial/tabeller_till_grafik/KD_förlorare_vinnare_MÅNS/\\\n",
    "tio_kommuner_KD_minskade_mest.xlsx\",index=False)"
   ]
  },
  {
   "cell_type": "markdown",
   "metadata": {
    "heading_collapsed": true,
    "hidden": true
   },
   "source": [
    "#### 3.5.4 README"
   ]
  },
  {
   "cell_type": "code",
   "execution_count": 118,
   "metadata": {
    "hidden": true
   },
   "outputs": [],
   "source": [
    "with open(\"redaktionsmaterial/valdata/MÅNS_KD/README.txt\",\"w\") as f:\n",
    "    f.write(\"\"\"\\\n",
    "\n",
    "I denna mapp finns två undermappar. Här är en kortare \\\n",
    "beskrivning av deras innehåll:\n",
    "\n",
    "1_KDs_tio_bästa\n",
    "\n",
    "Här är en tabell över de tio kommuner där KD fick starkast \\\n",
    "stöd i valet. Det finns också siffror på förändring i dessa \\\n",
    "kommuner jämfört förra valet, samt mandatfördelning.\n",
    "\n",
    "2_mest_ökning_minskning\n",
    "\n",
    "Häri finns två filer, dels de kommuner där KD fått som bäst \\\n",
    "tillökning i stöd jämfört förra valet, samt där de tappat \\\n",
    "som mest. Procent, förändring, samt mandat finns inkluderat \\\n",
    "i vardera fil.\n",
    "\n",
    "\"\"\")\n",
    "    f.close"
   ]
  },
  {
   "cell_type": "markdown",
   "metadata": {
    "heading_collapsed": true
   },
   "source": [
    "## 3.6 SD - så gick det över landet"
   ]
  },
  {
   "cell_type": "markdown",
   "metadata": {
    "heading_collapsed": true,
    "hidden": true
   },
   "source": [
    "#### 3.6.1 Intro"
   ]
  },
  {
   "cell_type": "markdown",
   "metadata": {
    "hidden": true
   },
   "source": [
    "Reporter: Påhl"
   ]
  },
  {
   "cell_type": "markdown",
   "metadata": {
    "hidden": true
   },
   "source": [
    "Att ta fram:\n",
    "1. Kommuner där SD blev största parti\n",
    "2. SD:s andel av alla röster i samtliga kommunval\n",
    "3. Antal mandat och antal mandat till SD i samtliga kommuner\n",
    "4. De tio kommuner där SD ökade/tappade mest (jämf 2014)\n",
    "\n",
    "Data:\n",
    "- Röster totalt och röster för SD per kommun, för valen 2014 och 2018\n",
    "- Mandat totalt och för SD per kommun, för valen 2014 och 2018\n"
   ]
  },
  {
   "cell_type": "code",
   "execution_count": 119,
   "metadata": {
    "hidden": true
   },
   "outputs": [],
   "source": [
    "from util import all_elec_years,\\\n",
    "                weakest_strongest_party,\\\n",
    "                valanalys,\\\n",
    "                parti_till_grafik,\\\n",
    "                party_mandate_counter,\\\n",
    "                muni_sorter,\\\n",
    "                party_kommuner"
   ]
  },
  {
   "cell_type": "markdown",
   "metadata": {
    "heading_collapsed": true,
    "hidden": true
   },
   "source": [
    "#### 3.6.2 Kommuner där SD blev största parti"
   ]
  },
  {
   "cell_type": "code",
   "execution_count": 120,
   "metadata": {
    "hidden": true
   },
   "outputs": [],
   "source": [
    "df = all_elec_years('K')"
   ]
  },
  {
   "cell_type": "code",
   "execution_count": 121,
   "metadata": {
    "hidden": true
   },
   "outputs": [],
   "source": [
    "elec_year=2018"
   ]
  },
  {
   "cell_type": "markdown",
   "metadata": {
    "hidden": true
   },
   "source": [
    "Följande funktion används för att få fram alla partier som är största parti i någon kommun:"
   ]
  },
  {
   "cell_type": "code",
   "execution_count": 122,
   "metadata": {
    "hidden": true
   },
   "outputs": [
    {
     "name": "stdout",
     "output_type": "stream",
     "text": [
      "CPU times: user 204 ms, sys: 2.44 ms, total: 207 ms\n",
      "Wall time: 209 ms\n"
     ]
    },
    {
     "data": {
      "text/plain": [
       "S      205\n",
       "M       38\n",
       "C       21\n",
       "SD      12\n",
       "Övr      6\n",
       "KD       5\n",
       "V        2\n",
       "L        1\n",
       "Name: parti, dtype: int64"
      ]
     },
     "execution_count": 122,
     "metadata": {},
     "output_type": "execute_result"
    }
   ],
   "source": [
    "%%time\n",
    "weakest_strongest_party(df,\n",
    "                        elec_year=elec_year,\n",
    "                        max_min='max',\n",
    "                        party=None,\n",
    "                        overview=True\\\n",
    "                       )"
   ]
  },
  {
   "cell_type": "code",
   "execution_count": 123,
   "metadata": {
    "hidden": true
   },
   "outputs": [],
   "source": [
    "weakest_strongest_party(df,\n",
    "                        elec_year=elec_year,\n",
    "                        max_min='max',\n",
    "                        party=None,\n",
    "                        overview=True\\\n",
    "                       ).reset_index().rename(columns={'index':'parti','parti':'antal_kommuner'})\\\n",
    "    .to_excel(f'redaktionsmaterial/valdata/PÅHL_SD/1_SD_största_parti/\\\n",
    "största_parti_antal_kommuner.xlsx',index=False)"
   ]
  },
  {
   "cell_type": "markdown",
   "metadata": {
    "hidden": true
   },
   "source": [
    "Det är parametern 'overview' som bestämmer ifall man får ut en sammanfattaning eller en rak lista på alla kommuner. Man kan också bestämma vilket parti man vill kolla närmare på. Det gör man med parametern 'party':"
   ]
  },
  {
   "cell_type": "code",
   "execution_count": 124,
   "metadata": {
    "hidden": true
   },
   "outputs": [
    {
     "data": {
      "text/html": [
       "<div>\n",
       "<style scoped>\n",
       "    .dataframe tbody tr th:only-of-type {\n",
       "        vertical-align: middle;\n",
       "    }\n",
       "\n",
       "    .dataframe tbody tr th {\n",
       "        vertical-align: top;\n",
       "    }\n",
       "\n",
       "    .dataframe thead th {\n",
       "        text-align: right;\n",
       "    }\n",
       "</style>\n",
       "<table border=\"1\" class=\"dataframe\">\n",
       "  <thead>\n",
       "    <tr style=\"text-align: right;\">\n",
       "      <th></th>\n",
       "      <th>kommun</th>\n",
       "      <th>parti</th>\n",
       "      <th>procent</th>\n",
       "    </tr>\n",
       "  </thead>\n",
       "  <tbody>\n",
       "    <tr>\n",
       "      <th>154</th>\n",
       "      <td>Nordmaling</td>\n",
       "      <td>C</td>\n",
       "      <td>42.45</td>\n",
       "    </tr>\n",
       "    <tr>\n",
       "      <th>165</th>\n",
       "      <td>Orsa</td>\n",
       "      <td>C</td>\n",
       "      <td>41.80</td>\n",
       "    </tr>\n",
       "    <tr>\n",
       "      <th>148</th>\n",
       "      <td>Mönsterås</td>\n",
       "      <td>C</td>\n",
       "      <td>38.91</td>\n",
       "    </tr>\n",
       "    <tr>\n",
       "      <th>26</th>\n",
       "      <td>Dals-Ed</td>\n",
       "      <td>C</td>\n",
       "      <td>38.70</td>\n",
       "    </tr>\n",
       "    <tr>\n",
       "      <th>23</th>\n",
       "      <td>Bräcke</td>\n",
       "      <td>C</td>\n",
       "      <td>35.92</td>\n",
       "    </tr>\n",
       "    <tr>\n",
       "      <th>75</th>\n",
       "      <td>Hultsfred</td>\n",
       "      <td>C</td>\n",
       "      <td>33.47</td>\n",
       "    </tr>\n",
       "    <tr>\n",
       "      <th>178</th>\n",
       "      <td>Rättvik</td>\n",
       "      <td>C</td>\n",
       "      <td>33.00</td>\n",
       "    </tr>\n",
       "    <tr>\n",
       "      <th>100</th>\n",
       "      <td>Kiruna</td>\n",
       "      <td>C</td>\n",
       "      <td>32.89</td>\n",
       "    </tr>\n",
       "    <tr>\n",
       "      <th>265</th>\n",
       "      <td>Ydre</td>\n",
       "      <td>C</td>\n",
       "      <td>31.57</td>\n",
       "    </tr>\n",
       "    <tr>\n",
       "      <th>200</th>\n",
       "      <td>Storuman</td>\n",
       "      <td>C</td>\n",
       "      <td>31.34</td>\n",
       "    </tr>\n",
       "  </tbody>\n",
       "</table>\n",
       "</div>"
      ],
      "text/plain": [
       "         kommun parti  procent\n",
       "154  Nordmaling     C    42.45\n",
       "165        Orsa     C    41.80\n",
       "148   Mönsterås     C    38.91\n",
       "26      Dals-Ed     C    38.70\n",
       "23       Bräcke     C    35.92\n",
       "75    Hultsfred     C    33.47\n",
       "178     Rättvik     C    33.00\n",
       "100      Kiruna     C    32.89\n",
       "265        Ydre     C    31.57\n",
       "200    Storuman     C    31.34"
      ]
     },
     "execution_count": 124,
     "metadata": {},
     "output_type": "execute_result"
    }
   ],
   "source": [
    "weakest_strongest_party(df,\n",
    "                            elec_year=elec_year,\n",
    "                            max_min='max',\n",
    "                            party='C',\n",
    "                            overview=False\\\n",
    "                           ).sort_values('procent',ascending=False).head(10)"
   ]
  },
  {
   "cell_type": "markdown",
   "metadata": {
    "hidden": true
   },
   "source": [
    "Så i ovanstående ser får vi fram alla kommuner där C är största parti!"
   ]
  },
  {
   "cell_type": "code",
   "execution_count": 125,
   "metadata": {
    "hidden": true
   },
   "outputs": [],
   "source": [
    "for party in weakest_strongest_party(df,\n",
    "                        elec_year=elec_year,\n",
    "                        max_min='max',\n",
    "                        party=None,\n",
    "                        overview=True\\\n",
    "                       ).reset_index()\\\n",
    "                        .rename(columns={'index':'parti',\n",
    "                                         'parti':'antal_kommuner'}).parti:\n",
    "    \n",
    "    weakest_strongest_party(df,\n",
    "                            elec_year=elec_year,\n",
    "                            max_min='max',\n",
    "                            party=party,\n",
    "                            overview=False\\\n",
    "                           )\\\n",
    "    .to_excel(f\"redaktionsmaterial/valdata/PÅHL_SD/1_SD_största_parti/per_parti/\\\n",
    "{party}_största_parti_{elec_year}.xlsx\",index=False)"
   ]
  },
  {
   "cell_type": "markdown",
   "metadata": {
    "hidden": true
   },
   "source": [
    "##### 3.6.2.1 Till grafik"
   ]
  },
  {
   "cell_type": "code",
   "execution_count": 126,
   "metadata": {
    "hidden": true
   },
   "outputs": [],
   "source": [
    "elec_year=2018"
   ]
  },
  {
   "cell_type": "code",
   "execution_count": 127,
   "metadata": {
    "hidden": true
   },
   "outputs": [],
   "source": [
    "weakest_strongest_party(df,\n",
    "                            elec_year=elec_year,\n",
    "                            max_min='max',\n",
    "                            party='SD',\n",
    "                            overview=False\\\n",
    "                           )\\\n",
    "    .to_excel('redaktionsmaterial/tabeller_till_grafik/SD_så_gick_det_PÅHL/\\\n",
    "SD_största_parti_kommuner.xlsx',index=False)"
   ]
  },
  {
   "cell_type": "markdown",
   "metadata": {
    "heading_collapsed": true,
    "hidden": true
   },
   "source": [
    "#### 3.6.3 SD:s andel av alla röster i samtliga kommunval"
   ]
  },
  {
   "cell_type": "markdown",
   "metadata": {
    "hidden": true
   },
   "source": [
    "Här kan vi återanvända ovanstående funktion från Samuels jobb:"
   ]
  },
  {
   "cell_type": "code",
   "execution_count": 128,
   "metadata": {
    "hidden": true
   },
   "outputs": [
    {
     "data": {
      "text/html": [
       "<div>\n",
       "<style scoped>\n",
       "    .dataframe tbody tr th:only-of-type {\n",
       "        vertical-align: middle;\n",
       "    }\n",
       "\n",
       "    .dataframe tbody tr th {\n",
       "        vertical-align: top;\n",
       "    }\n",
       "\n",
       "    .dataframe thead th {\n",
       "        text-align: right;\n",
       "    }\n",
       "</style>\n",
       "<table border=\"1\" class=\"dataframe\">\n",
       "  <thead>\n",
       "    <tr style=\"text-align: right;\">\n",
       "      <th></th>\n",
       "      <th>parti</th>\n",
       "      <th>procent</th>\n",
       "      <th>röster</th>\n",
       "    </tr>\n",
       "  </thead>\n",
       "  <tbody>\n",
       "    <tr>\n",
       "      <th>0</th>\n",
       "      <td>C</td>\n",
       "      <td>9.6</td>\n",
       "      <td>631812</td>\n",
       "    </tr>\n",
       "    <tr>\n",
       "      <th>1</th>\n",
       "      <td>FI</td>\n",
       "      <td>0.9</td>\n",
       "      <td>61907</td>\n",
       "    </tr>\n",
       "    <tr>\n",
       "      <th>2</th>\n",
       "      <td>KD</td>\n",
       "      <td>5.1</td>\n",
       "      <td>339375</td>\n",
       "    </tr>\n",
       "    <tr>\n",
       "      <th>3</th>\n",
       "      <td>L</td>\n",
       "      <td>6.7</td>\n",
       "      <td>444674</td>\n",
       "    </tr>\n",
       "    <tr>\n",
       "      <th>4</th>\n",
       "      <td>M</td>\n",
       "      <td>19.8</td>\n",
       "      <td>1310182</td>\n",
       "    </tr>\n",
       "    <tr>\n",
       "      <th>5</th>\n",
       "      <td>MP</td>\n",
       "      <td>4.6</td>\n",
       "      <td>301825</td>\n",
       "    </tr>\n",
       "    <tr>\n",
       "      <th>6</th>\n",
       "      <td>S</td>\n",
       "      <td>27.2</td>\n",
       "      <td>1801843</td>\n",
       "    </tr>\n",
       "    <tr>\n",
       "      <th>7</th>\n",
       "      <td>SD</td>\n",
       "      <td>12.6</td>\n",
       "      <td>832083</td>\n",
       "    </tr>\n",
       "    <tr>\n",
       "      <th>8</th>\n",
       "      <td>V</td>\n",
       "      <td>7.6</td>\n",
       "      <td>502147</td>\n",
       "    </tr>\n",
       "    <tr>\n",
       "      <th>9</th>\n",
       "      <td>Övr</td>\n",
       "      <td>4.6</td>\n",
       "      <td>306287</td>\n",
       "    </tr>\n",
       "  </tbody>\n",
       "</table>\n",
       "</div>"
      ],
      "text/plain": [
       "  parti  procent   röster\n",
       "0     C      9.6   631812\n",
       "1    FI      0.9    61907\n",
       "2    KD      5.1   339375\n",
       "3     L      6.7   444674\n",
       "4     M     19.8  1310182\n",
       "5    MP      4.6   301825\n",
       "6     S     27.2  1801843\n",
       "7    SD     12.6   832083\n",
       "8     V      7.6   502147\n",
       "9   Övr      4.6   306287"
      ]
     },
     "execution_count": 128,
     "metadata": {},
     "output_type": "execute_result"
    }
   ],
   "source": [
    "valanalys(df,query='valresultat',year=elec_year,elec_type='K')[0]"
   ]
  },
  {
   "cell_type": "code",
   "execution_count": 129,
   "metadata": {
    "hidden": true
   },
   "outputs": [],
   "source": [
    "valanalys(df,query='valresultat',year=elec_year,elec_type='K')[0]\\\n",
    "    .to_excel(f'redaktionsmaterial/valdata/PÅHL_SD/2_SD_resultat_totalt/\\\n",
    "kommunvalsresultat_riket_{year}.xlsx',index=False)"
   ]
  },
  {
   "cell_type": "markdown",
   "metadata": {
    "heading_collapsed": true,
    "hidden": true
   },
   "source": [
    "##### 3.6.3.1 Till grafik"
   ]
  },
  {
   "cell_type": "code",
   "execution_count": 130,
   "metadata": {
    "hidden": true
   },
   "outputs": [],
   "source": [
    "df = all_elec_years('K')"
   ]
  },
  {
   "cell_type": "code",
   "execution_count": 131,
   "metadata": {
    "hidden": true
   },
   "outputs": [],
   "source": [
    "elec_year=2018"
   ]
  },
  {
   "cell_type": "code",
   "execution_count": 132,
   "metadata": {
    "hidden": true
   },
   "outputs": [],
   "source": [
    "grafik=parti_till_grafik(df,elec_type='K',elec_year=elec_year,party='SD')"
   ]
  },
  {
   "cell_type": "code",
   "execution_count": 133,
   "metadata": {
    "hidden": true
   },
   "outputs": [],
   "source": [
    "grafik.to_excel('redaktionsmaterial/tabeller_till_grafik/SD_så_gick_det_PÅHL/\\\n",
    "SDs_andel_av_rösterna.xlsx')"
   ]
  },
  {
   "cell_type": "markdown",
   "metadata": {
    "heading_collapsed": true,
    "hidden": true
   },
   "source": [
    "#### 3.6.4 Antal mandat och antal mandat till SD i samtliga kommuner"
   ]
  },
  {
   "cell_type": "code",
   "execution_count": 134,
   "metadata": {
    "hidden": true
   },
   "outputs": [],
   "source": [
    "df = all_elec_years('K')"
   ]
  },
  {
   "cell_type": "code",
   "execution_count": 135,
   "metadata": {
    "hidden": true
   },
   "outputs": [
    {
     "data": {
      "text/html": [
       "<div>\n",
       "<style scoped>\n",
       "    .dataframe tbody tr th:only-of-type {\n",
       "        vertical-align: middle;\n",
       "    }\n",
       "\n",
       "    .dataframe tbody tr th {\n",
       "        vertical-align: top;\n",
       "    }\n",
       "\n",
       "    .dataframe thead th {\n",
       "        text-align: right;\n",
       "    }\n",
       "</style>\n",
       "<table border=\"1\" class=\"dataframe\">\n",
       "  <thead>\n",
       "    <tr style=\"text-align: right;\">\n",
       "      <th>SD</th>\n",
       "      <th>mandat</th>\n",
       "      <th>summa_mandat</th>\n",
       "      <th>andelar_mandat</th>\n",
       "    </tr>\n",
       "  </thead>\n",
       "  <tbody>\n",
       "    <tr>\n",
       "      <th>2006</th>\n",
       "      <td>280</td>\n",
       "      <td>13092</td>\n",
       "      <td>2.1</td>\n",
       "    </tr>\n",
       "    <tr>\n",
       "      <th>2010</th>\n",
       "      <td>612</td>\n",
       "      <td>12978</td>\n",
       "      <td>4.7</td>\n",
       "    </tr>\n",
       "    <tr>\n",
       "      <th>2014</th>\n",
       "      <td>1325</td>\n",
       "      <td>12780</td>\n",
       "      <td>10.4</td>\n",
       "    </tr>\n",
       "    <tr>\n",
       "      <th>2018</th>\n",
       "      <td>1806</td>\n",
       "      <td>12700</td>\n",
       "      <td>14.2</td>\n",
       "    </tr>\n",
       "  </tbody>\n",
       "</table>\n",
       "</div>"
      ],
      "text/plain": [
       "SD   mandat summa_mandat  andelar_mandat\n",
       "2006    280        13092             2.1\n",
       "2010    612        12978             4.7\n",
       "2014   1325        12780            10.4\n",
       "2018   1806        12700            14.2"
      ]
     },
     "execution_count": 135,
     "metadata": {},
     "output_type": "execute_result"
    }
   ],
   "source": [
    "party_mandate_counter(df,party='SD',plot=False)"
   ]
  },
  {
   "cell_type": "code",
   "execution_count": 136,
   "metadata": {
    "hidden": true
   },
   "outputs": [],
   "source": [
    "party_mandate_counter(df,party='SD',plot=False)\\\n",
    "    .to_excel(f'redaktionsmaterial/valdata/PÅHL_SD/3_SD_mandat/mandat_SD_2006_2018.xlsx')"
   ]
  },
  {
   "cell_type": "markdown",
   "metadata": {
    "hidden": true
   },
   "source": [
    "Man kan också ge parametern plot=True för att plotta resultatet och jämföra med ett parti, compare_party. Om inget compare_party bestäms så visas en jämförelse med S:"
   ]
  },
  {
   "cell_type": "code",
   "execution_count": 137,
   "metadata": {
    "hidden": true
   },
   "outputs": [
    {
     "data": {
      "text/plain": [
       "<matplotlib.axes._subplots.AxesSubplot at 0x10fd9e470>"
      ]
     },
     "execution_count": 137,
     "metadata": {},
     "output_type": "execute_result"
    },
    {
     "data": {
      "image/png": "[encoded data removed]",
      "text/plain": [
       "<Figure size 432x288 with 1 Axes>"
      ]
     },
     "metadata": {
      "needs_background": "light"
     },
     "output_type": "display_data"
    }
   ],
   "source": [
    "party_mandate_counter(df,party='SD',compare_party='S',plot=True)\n"
   ]
  },
  {
   "cell_type": "markdown",
   "metadata": {
    "hidden": true
   },
   "source": [
    "Följande sparar en png av ploten:"
   ]
  },
  {
   "cell_type": "code",
   "execution_count": 138,
   "metadata": {
    "hidden": true
   },
   "outputs": [
    {
     "data": {
      "image/png": "[encoded data removed]",
      "text/plain": [
       "<Figure size 432x288 with 1 Axes>"
      ]
     },
     "metadata": {
      "needs_background": "light"
     },
     "output_type": "display_data"
    }
   ],
   "source": [
    "plot = party_mandate_counter(df,party='SD',compare_party='S',plot=True)\n",
    "plot.get_figure().savefig(\"redaktionsmaterial/valdata/PÅHL_SD/3_SD_mandat/SD_jämf_S_mandat.png\")"
   ]
  },
  {
   "cell_type": "markdown",
   "metadata": {
    "heading_collapsed": true,
    "hidden": true
   },
   "source": [
    "##### 3.6.4.1 Till grafik"
   ]
  },
  {
   "cell_type": "code",
   "execution_count": 139,
   "metadata": {
    "hidden": true
   },
   "outputs": [],
   "source": [
    "grafik = party_mandate_counter(df,party='SD',plot=False)"
   ]
  },
  {
   "cell_type": "code",
   "execution_count": 140,
   "metadata": {
    "hidden": true
   },
   "outputs": [],
   "source": [
    "grafik.rename(columns={'mandat':'SD:s kommunmandat',\n",
    "                       'summa_mandat':'Mandat i alla kommuner',\n",
    "                       'andelar_mandat':'SD:s andel av alla mandat'},\n",
    "             inplace=True)"
   ]
  },
  {
   "cell_type": "code",
   "execution_count": 141,
   "metadata": {
    "hidden": true
   },
   "outputs": [],
   "source": [
    "grafik.to_excel('redaktionsmaterial/tabeller_till_grafik/SD_så_gick_det_PÅHL/\\\n",
    "antal_mandat_för_SD.xlsx')"
   ]
  },
  {
   "cell_type": "markdown",
   "metadata": {
    "heading_collapsed": true,
    "hidden": true
   },
   "source": [
    "#### 3.6.5 De tio kommuner där SD ökade/tappade mest (jämf 2014)"
   ]
  },
  {
   "cell_type": "markdown",
   "metadata": {
    "hidden": true
   },
   "source": [
    "'ascending=False' ger alla där de ökat mest."
   ]
  },
  {
   "cell_type": "code",
   "execution_count": 142,
   "metadata": {
    "hidden": true
   },
   "outputs": [
    {
     "data": {
      "text/html": [
       "<div>\n",
       "<style scoped>\n",
       "    .dataframe tbody tr th:only-of-type {\n",
       "        vertical-align: middle;\n",
       "    }\n",
       "\n",
       "    .dataframe tbody tr th {\n",
       "        vertical-align: top;\n",
       "    }\n",
       "\n",
       "    .dataframe thead th {\n",
       "        text-align: right;\n",
       "    }\n",
       "</style>\n",
       "<table border=\"1\" class=\"dataframe\">\n",
       "  <thead>\n",
       "    <tr style=\"text-align: right;\">\n",
       "      <th></th>\n",
       "      <th>kommun</th>\n",
       "      <th>beteckning</th>\n",
       "      <th>röster</th>\n",
       "      <th>procent_2014</th>\n",
       "      <th>procent_2018</th>\n",
       "      <th>förändring_procent_2018_2014</th>\n",
       "      <th>mandat_2014</th>\n",
       "      <th>mandat_2018</th>\n",
       "    </tr>\n",
       "  </thead>\n",
       "  <tbody>\n",
       "    <tr>\n",
       "      <th>258</th>\n",
       "      <td>Hagfors</td>\n",
       "      <td>Sverigedemokraterna</td>\n",
       "      <td>570</td>\n",
       "      <td>13.58</td>\n",
       "      <td>7.33</td>\n",
       "      <td>-6.25</td>\n",
       "      <td>5</td>\n",
       "      <td>3</td>\n",
       "    </tr>\n",
       "    <tr>\n",
       "      <th>207</th>\n",
       "      <td>Orsa</td>\n",
       "      <td>Sverigedemokraterna</td>\n",
       "      <td>502</td>\n",
       "      <td>14.93</td>\n",
       "      <td>10.87</td>\n",
       "      <td>-4.06</td>\n",
       "      <td>5</td>\n",
       "      <td>3</td>\n",
       "    </tr>\n",
       "    <tr>\n",
       "      <th>62</th>\n",
       "      <td>Falköping</td>\n",
       "      <td>Sverigedemokraterna</td>\n",
       "      <td>3683</td>\n",
       "      <td>21.11</td>\n",
       "      <td>17.24</td>\n",
       "      <td>-3.87</td>\n",
       "      <td>10</td>\n",
       "      <td>9</td>\n",
       "    </tr>\n",
       "    <tr>\n",
       "      <th>241</th>\n",
       "      <td>Båstad</td>\n",
       "      <td>Sverigedemokraterna</td>\n",
       "      <td>877</td>\n",
       "      <td>12.04</td>\n",
       "      <td>8.51</td>\n",
       "      <td>-3.53</td>\n",
       "      <td>5</td>\n",
       "      <td>3</td>\n",
       "    </tr>\n",
       "    <tr>\n",
       "      <th>282</th>\n",
       "      <td>Sorsele</td>\n",
       "      <td>Sverigedemokraterna</td>\n",
       "      <td>50</td>\n",
       "      <td>6.40</td>\n",
       "      <td>3.30</td>\n",
       "      <td>-3.10</td>\n",
       "      <td>1</td>\n",
       "      <td>1</td>\n",
       "    </tr>\n",
       "    <tr>\n",
       "      <th>287</th>\n",
       "      <td>Arvidsjaur</td>\n",
       "      <td>Sverigedemokraterna</td>\n",
       "      <td>98</td>\n",
       "      <td>5.37</td>\n",
       "      <td>2.36</td>\n",
       "      <td>-3.01</td>\n",
       "      <td>2</td>\n",
       "      <td>1</td>\n",
       "    </tr>\n",
       "    <tr>\n",
       "      <th>75</th>\n",
       "      <td>Östra Göinge</td>\n",
       "      <td>Sverigedemokraterna</td>\n",
       "      <td>1464</td>\n",
       "      <td>18.92</td>\n",
       "      <td>16.25</td>\n",
       "      <td>-2.67</td>\n",
       "      <td>6</td>\n",
       "      <td>5</td>\n",
       "    </tr>\n",
       "    <tr>\n",
       "      <th>77</th>\n",
       "      <td>Borlänge</td>\n",
       "      <td>Sverigedemokraterna</td>\n",
       "      <td>5352</td>\n",
       "      <td>18.77</td>\n",
       "      <td>16.10</td>\n",
       "      <td>-2.67</td>\n",
       "      <td>12</td>\n",
       "      <td>10</td>\n",
       "    </tr>\n",
       "    <tr>\n",
       "      <th>221</th>\n",
       "      <td>Norberg</td>\n",
       "      <td>Sverigedemokraterna</td>\n",
       "      <td>364</td>\n",
       "      <td>12.31</td>\n",
       "      <td>9.77</td>\n",
       "      <td>-2.54</td>\n",
       "      <td>4</td>\n",
       "      <td>3</td>\n",
       "    </tr>\n",
       "    <tr>\n",
       "      <th>214</th>\n",
       "      <td>Storfors</td>\n",
       "      <td>Sverigedemokraterna</td>\n",
       "      <td>279</td>\n",
       "      <td>12.95</td>\n",
       "      <td>10.47</td>\n",
       "      <td>-2.48</td>\n",
       "      <td>4</td>\n",
       "      <td>3</td>\n",
       "    </tr>\n",
       "  </tbody>\n",
       "</table>\n",
       "</div>"
      ],
      "text/plain": [
       "           kommun           beteckning  röster  procent_2014  procent_2018  \\\n",
       "258       Hagfors  Sverigedemokraterna     570         13.58          7.33   \n",
       "207          Orsa  Sverigedemokraterna     502         14.93         10.87   \n",
       "62      Falköping  Sverigedemokraterna    3683         21.11         17.24   \n",
       "241        Båstad  Sverigedemokraterna     877         12.04          8.51   \n",
       "282       Sorsele  Sverigedemokraterna      50          6.40          3.30   \n",
       "287    Arvidsjaur  Sverigedemokraterna      98          5.37          2.36   \n",
       "75   Östra Göinge  Sverigedemokraterna    1464         18.92         16.25   \n",
       "77       Borlänge  Sverigedemokraterna    5352         18.77         16.10   \n",
       "221       Norberg  Sverigedemokraterna     364         12.31          9.77   \n",
       "214      Storfors  Sverigedemokraterna     279         12.95         10.47   \n",
       "\n",
       "     förändring_procent_2018_2014  mandat_2014  mandat_2018  \n",
       "258                         -6.25            5            3  \n",
       "207                         -4.06            5            3  \n",
       "62                          -3.87           10            9  \n",
       "241                         -3.53            5            3  \n",
       "282                         -3.10            1            1  \n",
       "287                         -3.01            2            1  \n",
       "75                          -2.67            6            5  \n",
       "77                          -2.67           12           10  \n",
       "221                         -2.54            4            3  \n",
       "214                         -2.48            4            3  "
      ]
     },
     "execution_count": 142,
     "metadata": {},
     "output_type": "execute_result"
    }
   ],
   "source": [
    "muni_sorter(df,elec_year=elec_year, party='SD')\\\n",
    "    .sort_values(by=f'förändring_procent_{elec_year}_{elec_year-4}',ascending=True).head(10)"
   ]
  },
  {
   "cell_type": "code",
   "execution_count": 143,
   "metadata": {
    "hidden": true
   },
   "outputs": [],
   "source": [
    "muni_sorter(df,elec_year=elec_year, party='SD')\\\n",
    "    .sort_values(by=f'förändring_procent_{elec_year}_{elec_year-4}',ascending=False)\\\n",
    "    .to_excel(f'redaktionsmaterial/valdata/PÅHL_SD/4_SD_mest_ökning_minskning/\\\n",
    "procentförändring_SD_{elec_year}.xlsx',index=False)"
   ]
  },
  {
   "cell_type": "markdown",
   "metadata": {
    "hidden": true
   },
   "source": [
    "Följande är en grundfil åt researchen ifall något skulle behöva dubbelkollas inför publicering:"
   ]
  },
  {
   "cell_type": "code",
   "execution_count": 144,
   "metadata": {
    "hidden": true
   },
   "outputs": [],
   "source": [
    "all_elec_years('K').to_excel('redaktionsmaterial/valdata/PÅHL_SD/grundfil/grundfil.xlsx',index=False)"
   ]
  },
  {
   "cell_type": "markdown",
   "metadata": {
    "hidden": true
   },
   "source": [
    "##### 3.6.5.1 Till grafik"
   ]
  },
  {
   "cell_type": "code",
   "execution_count": 145,
   "metadata": {
    "hidden": true
   },
   "outputs": [],
   "source": [
    "party_kommuner(elec_year=elec_year,sorter=False,party='SD')\\\n",
    "    .to_excel(f\"redaktionsmaterial/tabeller_till_grafik/SD_så_gick_det_PÅHL/\\\n",
    "tio_kommuner_SD_ökade_mest.xlsx\",index=False)\n",
    "\n",
    "party_kommuner(elec_year=elec_year,sorter=True,party='SD')\\\n",
    "    .to_excel(f\"redaktionsmaterial/tabeller_till_grafik/SD_så_gick_det_PÅHL/\\\n",
    "tio_kommuner_SD_minskade_mest.xlsx\",index=False)"
   ]
  },
  {
   "cell_type": "markdown",
   "metadata": {
    "heading_collapsed": true,
    "hidden": true
   },
   "source": [
    "#### 3.6.6 README"
   ]
  },
  {
   "cell_type": "code",
   "execution_count": 146,
   "metadata": {
    "hidden": true
   },
   "outputs": [],
   "source": [
    "with open(\"redaktionsmaterial/valdata/PÅHL_SD/README.txt\",\"w\") as f:\n",
    "    f.write(\"\"\"\\\n",
    "\n",
    "I denna mapp finns fyra undermappar. Här är en kortare \\\n",
    "beskrivning av deras innehåll:\n",
    "\n",
    "1_SD_största_parti\n",
    "\n",
    "I denna mapp finns en huvudfil som visar alla partier \\\n",
    "som blev största parti i någon kommun, samt i hur många \\\n",
    "kommuner de blev så. I mappen 'per_parti' kan man sedan \\\n",
    "kolla in respektive parti som blev största parti, i vilka \\\n",
    "kommuner de blev så - samt vilken procent de där fick.\n",
    "\n",
    "2_SD_resultat_totalt\n",
    "\n",
    "Här är en rak tabell på alla partiers resultat i kommun-\\\n",
    "valet i riket (dvs summerat per parti).\n",
    "\n",
    "3_SD_mandat\n",
    "\n",
    "I denna tabell ser man hur många mandat SD har fått \\\n",
    "jämfört totalt antal mandat i alla kommuner per år, \\\n",
    "åren 2006-2018. Det finns också en graf som jämför \\\n",
    "SD med Socialdemokraternas mandat i alla kommuner.\n",
    "\n",
    "4_SD_mest_ökning_minskning\n",
    "\n",
    "Denna fil är en tabell över SD:s valresultat i alla \\\n",
    "kommuner, sorterad efter hur det gick i valet jämfört \\\n",
    "förra.\n",
    "\n",
    "Vid frågor ang statistik, mejla mig (johan.ekman@dagenssamhalle.se) \\\n",
    "eller Gustav Halth (gustav.halth@dagenssamhalle.se).\n",
    "\n",
    "\"\"\")\n",
    "    f.close"
   ]
  },
  {
   "cell_type": "markdown",
   "metadata": {
    "heading_collapsed": true
   },
   "source": [
    "## 3.7 De sista majoritetskommuner?"
   ]
  },
  {
   "cell_type": "markdown",
   "metadata": {
    "heading_collapsed": true,
    "hidden": true
   },
   "source": [
    "#### 3.7.1 Intro"
   ]
  },
  {
   "cell_type": "markdown",
   "metadata": {
    "hidden": true
   },
   "source": [
    "Reporter: Johan D\n",
    "\n",
    "Att ta fram:\n",
    "- Partier som i en kommun fått över hälften av alla röster och/eller över hälften av alla mandat, i valen 2010, 2014 och 2018. Alla sådana partier i respektive kommun.\n"
   ]
  },
  {
   "cell_type": "markdown",
   "metadata": {
    "hidden": true
   },
   "source": [
    "Inför valet såg Socialdemokraternas valresultat ut att bli historiskt lågt. En tanke var därför att se ifall det efter valet skulle finnas några kommuner kvar där de skulle ha egen majoritet. Följande kod kollar upp vilka kommuner där ett parti får majoritet - antingen via mandat eller via procent."
   ]
  },
  {
   "cell_type": "markdown",
   "metadata": {
    "heading_collapsed": true,
    "hidden": true
   },
   "source": [
    "#### 3.7.2 Bearbetning"
   ]
  },
  {
   "cell_type": "code",
   "execution_count": 147,
   "metadata": {
    "hidden": true
   },
   "outputs": [],
   "source": [
    "from util import all_elec_years,majority_counter"
   ]
  },
  {
   "cell_type": "code",
   "execution_count": 148,
   "metadata": {
    "hidden": true
   },
   "outputs": [],
   "source": [
    "df = all_elec_years('K')"
   ]
  },
  {
   "cell_type": "markdown",
   "metadata": {
    "hidden": true
   },
   "source": [
    "Ovanstående funktion har flera sätt att plocka fram datan. Först och främst, en rak tabell på alla kommuner som hade ett parti i majoritet efter något av valen. Notera funktionens argument:"
   ]
  },
  {
   "cell_type": "code",
   "execution_count": 149,
   "metadata": {
    "hidden": true
   },
   "outputs": [
    {
     "data": {
      "text/html": [
       "<div>\n",
       "<style scoped>\n",
       "    .dataframe tbody tr th:only-of-type {\n",
       "        vertical-align: middle;\n",
       "    }\n",
       "\n",
       "    .dataframe tbody tr th {\n",
       "        vertical-align: top;\n",
       "    }\n",
       "\n",
       "    .dataframe thead th {\n",
       "        text-align: right;\n",
       "    }\n",
       "</style>\n",
       "<table border=\"1\" class=\"dataframe\">\n",
       "  <thead>\n",
       "    <tr style=\"text-align: right;\">\n",
       "      <th></th>\n",
       "      <th>kommun</th>\n",
       "      <th>parti</th>\n",
       "      <th>procent</th>\n",
       "      <th>valår</th>\n",
       "    </tr>\n",
       "  </thead>\n",
       "  <tbody>\n",
       "    <tr>\n",
       "      <th>11470</th>\n",
       "      <td>Överkalix</td>\n",
       "      <td>S</td>\n",
       "      <td>53.20</td>\n",
       "      <td>2018.0</td>\n",
       "    </tr>\n",
       "    <tr>\n",
       "      <th>11829</th>\n",
       "      <td>Vellinge</td>\n",
       "      <td>M</td>\n",
       "      <td>50.42</td>\n",
       "      <td>2018.0</td>\n",
       "    </tr>\n",
       "    <tr>\n",
       "      <th>12633</th>\n",
       "      <td>Grums</td>\n",
       "      <td>S</td>\n",
       "      <td>55.99</td>\n",
       "      <td>2018.0</td>\n",
       "    </tr>\n",
       "    <tr>\n",
       "      <th>12711</th>\n",
       "      <td>Munkfors</td>\n",
       "      <td>S</td>\n",
       "      <td>63.28</td>\n",
       "      <td>2018.0</td>\n",
       "    </tr>\n",
       "  </tbody>\n",
       "</table>\n",
       "</div>"
      ],
      "text/plain": [
       "          kommun parti  procent   valår\n",
       "11470  Överkalix     S    53.20  2018.0\n",
       "11829   Vellinge     M    50.42  2018.0\n",
       "12633      Grums     S    55.99  2018.0\n",
       "12711   Munkfors     S    63.28  2018.0"
      ]
     },
     "execution_count": 149,
     "metadata": {},
     "output_type": "execute_result"
    }
   ],
   "source": [
    "majority_counter(df,years=[2018],operator='procent',plot=False,table=True)"
   ]
  },
  {
   "cell_type": "code",
   "execution_count": 150,
   "metadata": {
    "hidden": true
   },
   "outputs": [],
   "source": [
    "elec_year=2018"
   ]
  },
  {
   "cell_type": "code",
   "execution_count": 151,
   "metadata": {
    "hidden": true
   },
   "outputs": [],
   "source": [
    "majority_counter(df,years=[elec_year],operator='procent',plot=False,table=True)\\\n",
    "    .to_excel(f'redaktionsmaterial/valdata/JOHAN_majoritetskommunerna/\\\n",
    "1_kommuner_med_majoritetsstyre_procent_{elec_year}.xlsx',index=False)"
   ]
  },
  {
   "cell_type": "markdown",
   "metadata": {
    "hidden": true
   },
   "source": [
    "Vi kan också få en sammanfattad tabell över alla år:"
   ]
  },
  {
   "cell_type": "code",
   "execution_count": 152,
   "metadata": {
    "hidden": true
   },
   "outputs": [
    {
     "data": {
      "text/html": [
       "<div>\n",
       "<style scoped>\n",
       "    .dataframe tbody tr th:only-of-type {\n",
       "        vertical-align: middle;\n",
       "    }\n",
       "\n",
       "    .dataframe tbody tr th {\n",
       "        vertical-align: top;\n",
       "    }\n",
       "\n",
       "    .dataframe thead th {\n",
       "        text-align: right;\n",
       "    }\n",
       "</style>\n",
       "<table border=\"1\" class=\"dataframe\">\n",
       "  <thead>\n",
       "    <tr style=\"text-align: right;\">\n",
       "      <th></th>\n",
       "      <th>valår</th>\n",
       "      <th>antal_med_majoritetsparti</th>\n",
       "    </tr>\n",
       "  </thead>\n",
       "  <tbody>\n",
       "    <tr>\n",
       "      <th>0</th>\n",
       "      <td>2006</td>\n",
       "      <td>28</td>\n",
       "    </tr>\n",
       "    <tr>\n",
       "      <th>0</th>\n",
       "      <td>2010</td>\n",
       "      <td>26</td>\n",
       "    </tr>\n",
       "    <tr>\n",
       "      <th>0</th>\n",
       "      <td>2014</td>\n",
       "      <td>10</td>\n",
       "    </tr>\n",
       "    <tr>\n",
       "      <th>0</th>\n",
       "      <td>2018</td>\n",
       "      <td>4</td>\n",
       "    </tr>\n",
       "  </tbody>\n",
       "</table>\n",
       "</div>"
      ],
      "text/plain": [
       "  valår antal_med_majoritetsparti\n",
       "0  2006                        28\n",
       "0  2010                        26\n",
       "0  2014                        10\n",
       "0  2018                         4"
      ]
     },
     "execution_count": 152,
     "metadata": {},
     "output_type": "execute_result"
    }
   ],
   "source": [
    "majority_counter(df,operator='procent',plot=False,table=False)"
   ]
  },
  {
   "cell_type": "markdown",
   "metadata": {
    "hidden": true
   },
   "source": [
    "Vi kan också välja ifall vi vill få fram procent, eller mandat genom parametern 'operator':"
   ]
  },
  {
   "cell_type": "code",
   "execution_count": 153,
   "metadata": {
    "hidden": true
   },
   "outputs": [
    {
     "data": {
      "text/html": [
       "<div>\n",
       "<style scoped>\n",
       "    .dataframe tbody tr th:only-of-type {\n",
       "        vertical-align: middle;\n",
       "    }\n",
       "\n",
       "    .dataframe tbody tr th {\n",
       "        vertical-align: top;\n",
       "    }\n",
       "\n",
       "    .dataframe thead th {\n",
       "        text-align: right;\n",
       "    }\n",
       "</style>\n",
       "<table border=\"1\" class=\"dataframe\">\n",
       "  <thead>\n",
       "    <tr style=\"text-align: right;\">\n",
       "      <th></th>\n",
       "      <th>valår</th>\n",
       "      <th>antal_med_majoritetsparti</th>\n",
       "    </tr>\n",
       "  </thead>\n",
       "  <tbody>\n",
       "    <tr>\n",
       "      <th>0</th>\n",
       "      <td>2006</td>\n",
       "      <td>32</td>\n",
       "    </tr>\n",
       "    <tr>\n",
       "      <th>0</th>\n",
       "      <td>2010</td>\n",
       "      <td>29</td>\n",
       "    </tr>\n",
       "    <tr>\n",
       "      <th>0</th>\n",
       "      <td>2014</td>\n",
       "      <td>13</td>\n",
       "    </tr>\n",
       "    <tr>\n",
       "      <th>0</th>\n",
       "      <td>2018</td>\n",
       "      <td>4</td>\n",
       "    </tr>\n",
       "  </tbody>\n",
       "</table>\n",
       "</div>"
      ],
      "text/plain": [
       "  valår antal_med_majoritetsparti\n",
       "0  2006                        32\n",
       "0  2010                        29\n",
       "0  2014                        13\n",
       "0  2018                         4"
      ]
     },
     "execution_count": 153,
     "metadata": {},
     "output_type": "execute_result"
    }
   ],
   "source": [
    "majority_counter(df,operator='mandat',plot=False,table=False)"
   ]
  },
  {
   "cell_type": "code",
   "execution_count": 154,
   "metadata": {
    "hidden": true
   },
   "outputs": [],
   "source": [
    "majority_counter(df,operator='procent',plot=False,table=False)\\\n",
    "    .rename(columns={'antal_med_majoritetsparti':'antal_med_majoritetsparti_procent'})\\\n",
    "    .merge(majority_counter(df,operator='mandat',plot=False,table=False)\\\n",
    "               .rename(columns={'antal_med_majoritetsparti':'antal_med_majoritetsparti_mandat'}),\n",
    "           on='valår',how='left')\\\n",
    "    .to_excel(f'redaktionsmaterial/valdata/JOHAN_majoritetskommunerna/\\\n",
    "2_SAMMANFATTNING_2006_2018.xlsx',index=False)"
   ]
  },
  {
   "cell_type": "markdown",
   "metadata": {
    "hidden": true
   },
   "source": [
    "Vi kan också skapa en enklare plot av ovanstående tabell, dvs samtliga kommuner där det finns ett parti med majoritet:"
   ]
  },
  {
   "cell_type": "code",
   "execution_count": 155,
   "metadata": {
    "hidden": true
   },
   "outputs": [
    {
     "data": {
      "text/plain": [
       "<matplotlib.axes._subplots.AxesSubplot at 0x11a75fa20>"
      ]
     },
     "execution_count": 155,
     "metadata": {},
     "output_type": "execute_result"
    },
    {
     "data": {
      "image/png": "[encoded data removed]",
      "text/plain": [
       "<Figure size 432x288 with 1 Axes>"
      ]
     },
     "metadata": {
      "needs_background": "light"
     },
     "output_type": "display_data"
    }
   ],
   "source": [
    "majority_counter(df,operator='procent',plot=True,table=False)"
   ]
  },
  {
   "cell_type": "markdown",
   "metadata": {
    "hidden": true
   },
   "source": [
    "Slutligen, vi kan också se vilka partier som innehar dessa majoritetsstyren är i ett stapeldiagram:"
   ]
  },
  {
   "cell_type": "code",
   "execution_count": 156,
   "metadata": {
    "hidden": true
   },
   "outputs": [
    {
     "data": {
      "text/plain": [
       "<matplotlib.axes._subplots.AxesSubplot at 0x122bf30b8>"
      ]
     },
     "execution_count": 156,
     "metadata": {},
     "output_type": "execute_result"
    },
    {
     "data": {
      "image/png": "[encoded data removed]",
      "text/plain": [
       "<Figure size 432x288 with 1 Axes>"
      ]
     },
     "metadata": {
      "needs_background": "light"
     },
     "output_type": "display_data"
    }
   ],
   "source": [
    "majority_counter(df,operator='procent',plot=True,table=True)"
   ]
  },
  {
   "cell_type": "code",
   "execution_count": 157,
   "metadata": {
    "hidden": true
   },
   "outputs": [
    {
     "data": {
      "image/png": "[encoded data removed]",
      "text/plain": [
       "<Figure size 432x288 with 1 Axes>"
      ]
     },
     "metadata": {
      "needs_background": "light"
     },
     "output_type": "display_data"
    }
   ],
   "source": [
    "plot = majority_counter(df,operator='procent',plot=True,table=True)\n",
    "plot.get_figure().savefig(\"redaktionsmaterial/valdata/JOHAN_majoritetskommunerna/3_antal_majoritetskommuner_partier.png\")"
   ]
  },
  {
   "cell_type": "markdown",
   "metadata": {
    "hidden": true
   },
   "source": [
    "Följande är en grundfil till researchen:"
   ]
  },
  {
   "cell_type": "code",
   "execution_count": 158,
   "metadata": {
    "hidden": true
   },
   "outputs": [],
   "source": [
    "all_elec_years('K').to_excel('redaktionsmaterial/valdata/JOHAN_majoritetskommunerna/grundfil/grundfil.xlsx',index=False)"
   ]
  },
  {
   "cell_type": "markdown",
   "metadata": {
    "heading_collapsed": true,
    "hidden": true
   },
   "source": [
    "##### 3.7.2.1 Till grafik"
   ]
  },
  {
   "cell_type": "code",
   "execution_count": 159,
   "metadata": {
    "hidden": true
   },
   "outputs": [],
   "source": [
    "df = all_elec_years('K')"
   ]
  },
  {
   "cell_type": "code",
   "execution_count": 160,
   "metadata": {
    "hidden": true
   },
   "outputs": [],
   "source": [
    "elec_years=[2018]"
   ]
  },
  {
   "cell_type": "code",
   "execution_count": 161,
   "metadata": {
    "hidden": true
   },
   "outputs": [],
   "source": [
    "grafik=majority_counter(df,years=elec_years,operator='mandat',plot=False,table=True)"
   ]
  },
  {
   "cell_type": "code",
   "execution_count": 162,
   "metadata": {
    "hidden": true
   },
   "outputs": [
    {
     "data": {
      "text/html": [
       "<div>\n",
       "<style scoped>\n",
       "    .dataframe tbody tr th:only-of-type {\n",
       "        vertical-align: middle;\n",
       "    }\n",
       "\n",
       "    .dataframe tbody tr th {\n",
       "        vertical-align: top;\n",
       "    }\n",
       "\n",
       "    .dataframe thead th {\n",
       "        text-align: right;\n",
       "    }\n",
       "</style>\n",
       "<table border=\"1\" class=\"dataframe\">\n",
       "  <thead>\n",
       "    <tr style=\"text-align: right;\">\n",
       "      <th></th>\n",
       "      <th>kommun</th>\n",
       "      <th>mandat</th>\n",
       "      <th>parti</th>\n",
       "      <th>valår</th>\n",
       "    </tr>\n",
       "  </thead>\n",
       "  <tbody>\n",
       "    <tr>\n",
       "      <th>11470</th>\n",
       "      <td>Överkalix</td>\n",
       "      <td>14.0</td>\n",
       "      <td>S</td>\n",
       "      <td>2018.0</td>\n",
       "    </tr>\n",
       "    <tr>\n",
       "      <th>11829</th>\n",
       "      <td>Vellinge</td>\n",
       "      <td>26.0</td>\n",
       "      <td>M</td>\n",
       "      <td>2018.0</td>\n",
       "    </tr>\n",
       "    <tr>\n",
       "      <th>12633</th>\n",
       "      <td>Grums</td>\n",
       "      <td>17.0</td>\n",
       "      <td>S</td>\n",
       "      <td>2018.0</td>\n",
       "    </tr>\n",
       "    <tr>\n",
       "      <th>12711</th>\n",
       "      <td>Munkfors</td>\n",
       "      <td>14.0</td>\n",
       "      <td>S</td>\n",
       "      <td>2018.0</td>\n",
       "    </tr>\n",
       "  </tbody>\n",
       "</table>\n",
       "</div>"
      ],
      "text/plain": [
       "          kommun  mandat parti   valår\n",
       "11470  Överkalix    14.0     S  2018.0\n",
       "11829   Vellinge    26.0     M  2018.0\n",
       "12633      Grums    17.0     S  2018.0\n",
       "12711   Munkfors    14.0     S  2018.0"
      ]
     },
     "execution_count": 162,
     "metadata": {},
     "output_type": "execute_result"
    }
   ],
   "source": [
    "grafik.head()"
   ]
  },
  {
   "cell_type": "code",
   "execution_count": 163,
   "metadata": {
    "hidden": true
   },
   "outputs": [],
   "source": [
    "grafik=grafik.loc[:,['parti','kommun','mandat']]"
   ]
  },
  {
   "cell_type": "code",
   "execution_count": 164,
   "metadata": {
    "hidden": true
   },
   "outputs": [],
   "source": [
    "grafik.to_excel(f\"redaktionsmaterial/tabeller_till_grafik/sista_majoritetskommunerna_JOHAN_D/\\\n",
    "kommuner_med_majoritetsparti.xlsx\",index=False)"
   ]
  },
  {
   "cell_type": "code",
   "execution_count": 165,
   "metadata": {
    "hidden": true
   },
   "outputs": [],
   "source": [
    "grafik=majority_counter(df,operator='mandat',plot=False,table=False)"
   ]
  },
  {
   "cell_type": "code",
   "execution_count": 166,
   "metadata": {
    "hidden": true
   },
   "outputs": [],
   "source": [
    "grafik=grafik.rename(columns={'antal_med_majoritetsparti':'Antal kommuner med ett majoritetsparti'})"
   ]
  },
  {
   "cell_type": "code",
   "execution_count": 167,
   "metadata": {
    "hidden": true
   },
   "outputs": [],
   "source": [
    "grafik.to_excel(f\"redaktionsmaterial/tabeller_till_grafik/sista_majoritetskommunerna_JOHAN_D/\\\n",
    "antal_kommuner_m_majoritetsstyren_2006_2018.xlsx\",index=False)"
   ]
  },
  {
   "cell_type": "markdown",
   "metadata": {
    "heading_collapsed": true,
    "hidden": true
   },
   "source": [
    "#### 3.7.3 README"
   ]
  },
  {
   "cell_type": "code",
   "execution_count": 168,
   "metadata": {
    "hidden": true
   },
   "outputs": [],
   "source": [
    "with open(\"redaktionsmaterial/valdata/JOHAN_majoritetskommunerna/README.txt\",\"w\") as f:\n",
    "    f.write(\"\"\"\\\n",
    "\n",
    "I denna mapp finns tre filer. Här är en kortare \\\n",
    "beskrivning av deras innehåll:\n",
    "\n",
    "1_kommuner_med_majoritetsstyre_procent_2014.xlsx\n",
    "\n",
    "Här hittar man alla kommuner som har ett majoritetsstyre, \\\n",
    "samt vilket parti som innehar majoriteten. Om filen är \\\n",
    "tom så betyder det att dt inte fanns några majoritets-\\\n",
    "kommuner det året.\n",
    "\n",
    "2_SAMMANFATTNING_2006_2018.xlsx\n",
    "\n",
    "Här finns siffror på hur många kommuner som hade ett \\\n",
    "majoritetsstyre 2006-2018. Majoritet är här räknat på \\\n",
    "ifall man fick över 50 procent av väljarna.\n",
    "\n",
    "3_antal_majoritetskommuner_partier.png\n",
    "\n",
    "Här är ett simpelt diagram som visualiserar hur \\\n",
    "fördelningen av majoritetsstyrena sett ut, vilka \\\n",
    "partier som hade sådana styren.\n",
    "\n",
    "\"\"\")\n",
    "    f.close"
   ]
  },
  {
   "cell_type": "markdown",
   "metadata": {
    "heading_collapsed": true
   },
   "source": [
    "## 3.8 Fi - kom de in/åkte ut?"
   ]
  },
  {
   "cell_type": "markdown",
   "metadata": {
    "heading_collapsed": true,
    "hidden": true
   },
   "source": [
    "#### 3.8.1 Intro"
   ]
  },
  {
   "cell_type": "markdown",
   "metadata": {
    "hidden": true
   },
   "source": [
    "Reporter: Cissi\n",
    "\n",
    "Att ta fram:\n",
    "1. Antal mandat för Fi i kommunvalet 2018 jämfört 2014. \n",
    "2. Antal kommuner där de finns representerade valet 2018, jämfört 2014.\n",
    "3. Kommuner där de kommit in/åkt ut i valet 2018.\n",
    "4. Fi:s andel av rösterna i alla kommuner 2018, jämfört 2014.\n",
    "5. Antal mandat för Fi i landstingsvalet 2018 jämfört 2014. \n",
    "6. Antal landsting där de finns representerade valet 2018, jämfört 2014.\n",
    "7. Landsting där de kommit in/åkt ut i valet 2018.\n",
    "8. Fi:s andel av rösterna i alla landsting 2018, jämfört 2014.\n",
    "\n",
    "Data:\n",
    "- Mandat/röster totalt och för Fi i kommunvalen 2018 och 2014.\n",
    "- Mandat/röster totalt och för Fi i landstingsvalen 2018 och 2014.\n"
   ]
  },
  {
   "cell_type": "code",
   "execution_count": 2,
   "metadata": {
    "hidden": true
   },
   "outputs": [],
   "source": [
    "from util import all_elec_years,\\\n",
    "                party_mandate_counter,\\\n",
    "                got_in_gov,\\\n",
    "                representation_FI,\\\n",
    "                totalprocent_jämförare,\\\n",
    "                parti_till_grafik,\\\n",
    "                muni_sorter"
   ]
  },
  {
   "cell_type": "code",
   "execution_count": 170,
   "metadata": {
    "hidden": true
   },
   "outputs": [],
   "source": [
    "elec_year=2018"
   ]
  },
  {
   "cell_type": "markdown",
   "metadata": {
    "heading_collapsed": true,
    "hidden": true
   },
   "source": [
    "#### 3.8.2 Antal mandat för Fi i kommunvalet 2018 jämfört 2014. "
   ]
  },
  {
   "cell_type": "code",
   "execution_count": 171,
   "metadata": {
    "hidden": true
   },
   "outputs": [],
   "source": [
    "df = all_elec_years('K')"
   ]
  },
  {
   "cell_type": "code",
   "execution_count": 172,
   "metadata": {
    "hidden": true
   },
   "outputs": [
    {
     "data": {
      "text/html": [
       "<div>\n",
       "<style scoped>\n",
       "    .dataframe tbody tr th:only-of-type {\n",
       "        vertical-align: middle;\n",
       "    }\n",
       "\n",
       "    .dataframe tbody tr th {\n",
       "        vertical-align: top;\n",
       "    }\n",
       "\n",
       "    .dataframe thead th {\n",
       "        text-align: right;\n",
       "    }\n",
       "</style>\n",
       "<table border=\"1\" class=\"dataframe\">\n",
       "  <thead>\n",
       "    <tr style=\"text-align: right;\">\n",
       "      <th>FI</th>\n",
       "      <th>mandat</th>\n",
       "      <th>summa_mandat</th>\n",
       "      <th>andelar_mandat</th>\n",
       "    </tr>\n",
       "  </thead>\n",
       "  <tbody>\n",
       "    <tr>\n",
       "      <th>2006</th>\n",
       "      <td>0</td>\n",
       "      <td>13092</td>\n",
       "      <td>0.0</td>\n",
       "    </tr>\n",
       "    <tr>\n",
       "      <th>2010</th>\n",
       "      <td>4</td>\n",
       "      <td>12978</td>\n",
       "      <td>0.0</td>\n",
       "    </tr>\n",
       "    <tr>\n",
       "      <th>2014</th>\n",
       "      <td>26</td>\n",
       "      <td>12780</td>\n",
       "      <td>0.2</td>\n",
       "    </tr>\n",
       "    <tr>\n",
       "      <th>2018</th>\n",
       "      <td>22</td>\n",
       "      <td>12700</td>\n",
       "      <td>0.2</td>\n",
       "    </tr>\n",
       "  </tbody>\n",
       "</table>\n",
       "</div>"
      ],
      "text/plain": [
       "FI   mandat summa_mandat  andelar_mandat\n",
       "2006      0        13092             0.0\n",
       "2010      4        12978             0.0\n",
       "2014     26        12780             0.2\n",
       "2018     22        12700             0.2"
      ]
     },
     "execution_count": 172,
     "metadata": {},
     "output_type": "execute_result"
    }
   ],
   "source": [
    "party_mandate_counter(df,party='FI',plot=False)"
   ]
  },
  {
   "cell_type": "code",
   "execution_count": 173,
   "metadata": {
    "hidden": true
   },
   "outputs": [],
   "source": [
    "party_mandate_counter(df,party='FI',plot=False)\\\n",
    "    .to_excel(\"redaktionsmaterial/valdata/CISSI_FI/1_FIs_mandat/FIs_mandat_2006_2018.xlsx\")"
   ]
  },
  {
   "cell_type": "markdown",
   "metadata": {
    "hidden": true
   },
   "source": [
    "##### 3.8.2.1 Till grafik"
   ]
  },
  {
   "cell_type": "code",
   "execution_count": 174,
   "metadata": {
    "hidden": true
   },
   "outputs": [],
   "source": [
    "df = all_elec_years('K')"
   ]
  },
  {
   "cell_type": "code",
   "execution_count": 175,
   "metadata": {
    "hidden": true
   },
   "outputs": [],
   "source": [
    "grafik=party_mandate_counter(df,party='FI',plot=False)"
   ]
  },
  {
   "cell_type": "code",
   "execution_count": 176,
   "metadata": {
    "hidden": true
   },
   "outputs": [
    {
     "data": {
      "text/html": [
       "<div>\n",
       "<style scoped>\n",
       "    .dataframe tbody tr th:only-of-type {\n",
       "        vertical-align: middle;\n",
       "    }\n",
       "\n",
       "    .dataframe tbody tr th {\n",
       "        vertical-align: top;\n",
       "    }\n",
       "\n",
       "    .dataframe thead th {\n",
       "        text-align: right;\n",
       "    }\n",
       "</style>\n",
       "<table border=\"1\" class=\"dataframe\">\n",
       "  <thead>\n",
       "    <tr style=\"text-align: right;\">\n",
       "      <th>FI</th>\n",
       "      <th>mandat</th>\n",
       "      <th>summa_mandat</th>\n",
       "      <th>andelar_mandat</th>\n",
       "    </tr>\n",
       "  </thead>\n",
       "  <tbody>\n",
       "    <tr>\n",
       "      <th>2006</th>\n",
       "      <td>0</td>\n",
       "      <td>13092</td>\n",
       "      <td>0.0</td>\n",
       "    </tr>\n",
       "    <tr>\n",
       "      <th>2010</th>\n",
       "      <td>4</td>\n",
       "      <td>12978</td>\n",
       "      <td>0.0</td>\n",
       "    </tr>\n",
       "    <tr>\n",
       "      <th>2014</th>\n",
       "      <td>26</td>\n",
       "      <td>12780</td>\n",
       "      <td>0.2</td>\n",
       "    </tr>\n",
       "    <tr>\n",
       "      <th>2018</th>\n",
       "      <td>22</td>\n",
       "      <td>12700</td>\n",
       "      <td>0.2</td>\n",
       "    </tr>\n",
       "  </tbody>\n",
       "</table>\n",
       "</div>"
      ],
      "text/plain": [
       "FI   mandat summa_mandat  andelar_mandat\n",
       "2006      0        13092             0.0\n",
       "2010      4        12978             0.0\n",
       "2014     26        12780             0.2\n",
       "2018     22        12700             0.2"
      ]
     },
     "execution_count": 176,
     "metadata": {},
     "output_type": "execute_result"
    }
   ],
   "source": [
    "grafik"
   ]
  },
  {
   "cell_type": "code",
   "execution_count": 177,
   "metadata": {
    "hidden": true
   },
   "outputs": [],
   "source": [
    "grafik=grafik.reset_index().loc[:,['index','mandat']]\\\n",
    "    .rename(columns={'index':'Valår','mandat':'Antal mandat, FI'})"
   ]
  },
  {
   "cell_type": "code",
   "execution_count": 178,
   "metadata": {
    "hidden": true
   },
   "outputs": [],
   "source": [
    "grafik.to_excel(\"redaktionsmaterial/tabeller_till_grafik/FI_hur_det_gick_CISSI/\\\n",
    "FIs_mandat_2006_2018.xlsx\",index=False)"
   ]
  },
  {
   "cell_type": "markdown",
   "metadata": {
    "heading_collapsed": true,
    "hidden": true
   },
   "source": [
    "#### 3.8.3 Antal kommuner där FI finns representerade valet 2018, jämfört 2014."
   ]
  },
  {
   "cell_type": "markdown",
   "metadata": {
    "hidden": true
   },
   "source": [
    "Följande funktion kräver funktionen muni_sorter() för att fungera."
   ]
  },
  {
   "cell_type": "code",
   "execution_count": 179,
   "metadata": {
    "hidden": true
   },
   "outputs": [
    {
     "data": {
      "text/html": [
       "<div>\n",
       "<style scoped>\n",
       "    .dataframe tbody tr th:only-of-type {\n",
       "        vertical-align: middle;\n",
       "    }\n",
       "\n",
       "    .dataframe tbody tr th {\n",
       "        vertical-align: top;\n",
       "    }\n",
       "\n",
       "    .dataframe thead th {\n",
       "        text-align: right;\n",
       "    }\n",
       "</style>\n",
       "<table border=\"1\" class=\"dataframe\">\n",
       "  <thead>\n",
       "    <tr style=\"text-align: right;\">\n",
       "      <th></th>\n",
       "      <th>kommun</th>\n",
       "      <th>beteckning</th>\n",
       "      <th>röster</th>\n",
       "      <th>procent_2014</th>\n",
       "      <th>procent_2018</th>\n",
       "      <th>förändring_procent_2018_2014</th>\n",
       "      <th>mandat_2014</th>\n",
       "      <th>mandat_2018</th>\n",
       "    </tr>\n",
       "  </thead>\n",
       "  <tbody>\n",
       "    <tr>\n",
       "      <th>2</th>\n",
       "      <td>Vilhelmina</td>\n",
       "      <td>Feministiskt initiativ</td>\n",
       "      <td>175</td>\n",
       "      <td>0.07</td>\n",
       "      <td>4.03</td>\n",
       "      <td>3.96</td>\n",
       "      <td>0</td>\n",
       "      <td>1</td>\n",
       "    </tr>\n",
       "    <tr>\n",
       "      <th>4</th>\n",
       "      <td>Strömstad</td>\n",
       "      <td>Feministiskt initiativ</td>\n",
       "      <td>261</td>\n",
       "      <td>0.10</td>\n",
       "      <td>3.38</td>\n",
       "      <td>3.28</td>\n",
       "      <td>0</td>\n",
       "      <td>1</td>\n",
       "    </tr>\n",
       "    <tr>\n",
       "      <th>8</th>\n",
       "      <td>Gnesta</td>\n",
       "      <td>Feministiskt initiativ</td>\n",
       "      <td>166</td>\n",
       "      <td>0.33</td>\n",
       "      <td>2.30</td>\n",
       "      <td>1.97</td>\n",
       "      <td>0</td>\n",
       "      <td>1</td>\n",
       "    </tr>\n",
       "    <tr>\n",
       "      <th>11</th>\n",
       "      <td>Ödeshög</td>\n",
       "      <td>Feministiskt initiativ</td>\n",
       "      <td>79</td>\n",
       "      <td>0.11</td>\n",
       "      <td>2.22</td>\n",
       "      <td>2.11</td>\n",
       "      <td>0</td>\n",
       "      <td>1</td>\n",
       "    </tr>\n",
       "  </tbody>\n",
       "</table>\n",
       "</div>"
      ],
      "text/plain": [
       "        kommun              beteckning  röster  procent_2014  procent_2018  \\\n",
       "2   Vilhelmina  Feministiskt initiativ     175          0.07          4.03   \n",
       "4    Strömstad  Feministiskt initiativ     261          0.10          3.38   \n",
       "8       Gnesta  Feministiskt initiativ     166          0.33          2.30   \n",
       "11     Ödeshög  Feministiskt initiativ      79          0.11          2.22   \n",
       "\n",
       "    förändring_procent_2018_2014  mandat_2014  mandat_2018  \n",
       "2                           3.96            0            1  \n",
       "4                           3.28            0            1  \n",
       "8                           1.97            0            1  \n",
       "11                          2.11            0            1  "
      ]
     },
     "execution_count": 179,
     "metadata": {},
     "output_type": "execute_result"
    }
   ],
   "source": [
    "got_in_gov(val='K',elec_year=2018,party='FI',results='in').head()"
   ]
  },
  {
   "cell_type": "code",
   "execution_count": 180,
   "metadata": {
    "hidden": true
   },
   "outputs": [
    {
     "data": {
      "text/plain": [
       "4"
      ]
     },
     "execution_count": 180,
     "metadata": {},
     "output_type": "execute_result"
    }
   ],
   "source": [
    "got_in_gov(val='K',elec_year=2018,party='FI',results='in').shape[0]"
   ]
  },
  {
   "cell_type": "markdown",
   "metadata": {
    "hidden": true
   },
   "source": [
    "FI kom in i 4 kommuner år 2014."
   ]
  },
  {
   "cell_type": "code",
   "execution_count": 181,
   "metadata": {
    "hidden": true
   },
   "outputs": [],
   "source": [
    "df = all_elec_years('K')"
   ]
  },
  {
   "cell_type": "code",
   "execution_count": 182,
   "metadata": {
    "hidden": true
   },
   "outputs": [],
   "source": [
    "elec_year=[2018]"
   ]
  },
  {
   "cell_type": "code",
   "execution_count": 183,
   "metadata": {
    "hidden": true
   },
   "outputs": [],
   "source": [
    "representation_FI(all_elec_years('K'),elec_years=elec_year)\\\n",
    "    .to_excel(f'redaktionsmaterial/valdata/CISSI_FI/2_FIs_kommuner/\\\n",
    "kommuner_med_fi_{elec_year[0]}.xlsx',index=False)"
   ]
  },
  {
   "cell_type": "markdown",
   "metadata": {
    "hidden": true
   },
   "source": [
    "Här sparas en fil för de kommuner där fi kom in, en för de kommuner där de åkte ut:"
   ]
  },
  {
   "cell_type": "code",
   "execution_count": 184,
   "metadata": {
    "hidden": true
   },
   "outputs": [],
   "source": [
    "got_in_gov(val='K',elec_year=elec_year[0],party='FI',results='in')\\\n",
    "    .to_excel(f'redaktionsmaterial/valdata/CISSI_FI/2_FIs_kommuner/\\\n",
    "kommuner_där_FI_kom_in_{elec_year}.xlsx',index=False)\n",
    "got_in_gov(val='K',elec_year=elec_year[0],party='FI',results='ut')\\\n",
    "    .to_excel(f'redaktionsmaterial/valdata/CISSI_FI/2_FIs_kommuner/\\\n",
    "kommuner_där_FI_åkte_ur_{elec_year}.xlsx',index=False)"
   ]
  },
  {
   "cell_type": "markdown",
   "metadata": {
    "heading_collapsed": true,
    "hidden": true
   },
   "source": [
    "#### 3.8.4 Kommuner där de kommit in/åkt ut i valet 2018."
   ]
  },
  {
   "cell_type": "code",
   "execution_count": 185,
   "metadata": {
    "hidden": true
   },
   "outputs": [
    {
     "data": {
      "text/html": [
       "<div>\n",
       "<style scoped>\n",
       "    .dataframe tbody tr th:only-of-type {\n",
       "        vertical-align: middle;\n",
       "    }\n",
       "\n",
       "    .dataframe tbody tr th {\n",
       "        vertical-align: top;\n",
       "    }\n",
       "\n",
       "    .dataframe thead th {\n",
       "        text-align: right;\n",
       "    }\n",
       "</style>\n",
       "<table border=\"1\" class=\"dataframe\">\n",
       "  <thead>\n",
       "    <tr style=\"text-align: right;\">\n",
       "      <th></th>\n",
       "      <th>kommun</th>\n",
       "      <th>beteckning</th>\n",
       "      <th>röster</th>\n",
       "      <th>procent_2014</th>\n",
       "      <th>procent_2018</th>\n",
       "      <th>förändring_procent_2018_2014</th>\n",
       "      <th>mandat_2014</th>\n",
       "      <th>mandat_2018</th>\n",
       "    </tr>\n",
       "  </thead>\n",
       "  <tbody>\n",
       "    <tr>\n",
       "      <th>12</th>\n",
       "      <td>Umeå</td>\n",
       "      <td>Feministiskt initiativ</td>\n",
       "      <td>1761</td>\n",
       "      <td>3.90</td>\n",
       "      <td>2.08</td>\n",
       "      <td>-1.82</td>\n",
       "      <td>3</td>\n",
       "      <td>0</td>\n",
       "    </tr>\n",
       "    <tr>\n",
       "      <th>14</th>\n",
       "      <td>Malmö</td>\n",
       "      <td>Feministiskt initiativ</td>\n",
       "      <td>3841</td>\n",
       "      <td>3.23</td>\n",
       "      <td>1.93</td>\n",
       "      <td>-1.30</td>\n",
       "      <td>2</td>\n",
       "      <td>0</td>\n",
       "    </tr>\n",
       "    <tr>\n",
       "      <th>18</th>\n",
       "      <td>Sala</td>\n",
       "      <td>Feministiskt initiativ</td>\n",
       "      <td>214</td>\n",
       "      <td>2.00</td>\n",
       "      <td>1.42</td>\n",
       "      <td>-0.58</td>\n",
       "      <td>1</td>\n",
       "      <td>0</td>\n",
       "    </tr>\n",
       "    <tr>\n",
       "      <th>19</th>\n",
       "      <td>Norrköping</td>\n",
       "      <td>Feministiskt initiativ</td>\n",
       "      <td>1257</td>\n",
       "      <td>1.66</td>\n",
       "      <td>1.40</td>\n",
       "      <td>-0.26</td>\n",
       "      <td>1</td>\n",
       "      <td>0</td>\n",
       "    </tr>\n",
       "  </tbody>\n",
       "</table>\n",
       "</div>"
      ],
      "text/plain": [
       "        kommun              beteckning  röster  procent_2014  procent_2018  \\\n",
       "12        Umeå  Feministiskt initiativ    1761          3.90          2.08   \n",
       "14       Malmö  Feministiskt initiativ    3841          3.23          1.93   \n",
       "18        Sala  Feministiskt initiativ     214          2.00          1.42   \n",
       "19  Norrköping  Feministiskt initiativ    1257          1.66          1.40   \n",
       "\n",
       "    förändring_procent_2018_2014  mandat_2014  mandat_2018  \n",
       "12                         -1.82            3            0  \n",
       "14                         -1.30            2            0  \n",
       "18                         -0.58            1            0  \n",
       "19                         -0.26            1            0  "
      ]
     },
     "execution_count": 185,
     "metadata": {},
     "output_type": "execute_result"
    }
   ],
   "source": [
    "got_in_gov(val='K',elec_year=elec_year[0],party='FI',results='ut').head()"
   ]
  },
  {
   "cell_type": "markdown",
   "metadata": {
    "hidden": true
   },
   "source": [
    "FI åkte ur KF i fyra kommuner 2018."
   ]
  },
  {
   "cell_type": "markdown",
   "metadata": {
    "heading_collapsed": true,
    "hidden": true
   },
   "source": [
    "#### 3.8.5 Fi:s andel av rösterna i alla kommuner 2018, jämfört 2014."
   ]
  },
  {
   "cell_type": "code",
   "execution_count": 186,
   "metadata": {
    "hidden": true
   },
   "outputs": [],
   "source": [
    "df = all_elec_years('K')"
   ]
  },
  {
   "cell_type": "code",
   "execution_count": 5,
   "metadata": {
    "hidden": true
   },
   "outputs": [],
   "source": [
    "elec_year=2018\n",
    "compare_year=2014"
   ]
  },
  {
   "cell_type": "code",
   "execution_count": 188,
   "metadata": {
    "hidden": true
   },
   "outputs": [
    {
     "data": {
      "text/html": [
       "<div>\n",
       "<style scoped>\n",
       "    .dataframe tbody tr th:only-of-type {\n",
       "        vertical-align: middle;\n",
       "    }\n",
       "\n",
       "    .dataframe tbody tr th {\n",
       "        vertical-align: top;\n",
       "    }\n",
       "\n",
       "    .dataframe thead th {\n",
       "        text-align: right;\n",
       "    }\n",
       "</style>\n",
       "<table border=\"1\" class=\"dataframe\">\n",
       "  <thead>\n",
       "    <tr style=\"text-align: right;\">\n",
       "      <th></th>\n",
       "      <th>procent_2018</th>\n",
       "      <th>röster_2018</th>\n",
       "      <th>procent_2014</th>\n",
       "      <th>röster_2014</th>\n",
       "    </tr>\n",
       "    <tr>\n",
       "      <th>parti</th>\n",
       "      <th></th>\n",
       "      <th></th>\n",
       "      <th></th>\n",
       "      <th></th>\n",
       "    </tr>\n",
       "  </thead>\n",
       "  <tbody>\n",
       "    <tr>\n",
       "      <th>C</th>\n",
       "      <td>9.6</td>\n",
       "      <td>631812</td>\n",
       "      <td>7.7</td>\n",
       "      <td>489381</td>\n",
       "    </tr>\n",
       "    <tr>\n",
       "      <th>FI</th>\n",
       "      <td>0.9</td>\n",
       "      <td>61907</td>\n",
       "      <td>1.2</td>\n",
       "      <td>76646</td>\n",
       "    </tr>\n",
       "    <tr>\n",
       "      <th>KD</th>\n",
       "      <td>5.1</td>\n",
       "      <td>339375</td>\n",
       "      <td>3.9</td>\n",
       "      <td>248070</td>\n",
       "    </tr>\n",
       "    <tr>\n",
       "      <th>L</th>\n",
       "      <td>6.7</td>\n",
       "      <td>444674</td>\n",
       "      <td>6.5</td>\n",
       "      <td>408175</td>\n",
       "    </tr>\n",
       "    <tr>\n",
       "      <th>M</th>\n",
       "      <td>19.8</td>\n",
       "      <td>1310182</td>\n",
       "      <td>21.3</td>\n",
       "      <td>1343586</td>\n",
       "    </tr>\n",
       "    <tr>\n",
       "      <th>MP</th>\n",
       "      <td>4.6</td>\n",
       "      <td>301825</td>\n",
       "      <td>7.7</td>\n",
       "      <td>483529</td>\n",
       "    </tr>\n",
       "    <tr>\n",
       "      <th>S</th>\n",
       "      <td>27.2</td>\n",
       "      <td>1801843</td>\n",
       "      <td>30.8</td>\n",
       "      <td>1947473</td>\n",
       "    </tr>\n",
       "    <tr>\n",
       "      <th>SD</th>\n",
       "      <td>12.6</td>\n",
       "      <td>832083</td>\n",
       "      <td>9.2</td>\n",
       "      <td>581476</td>\n",
       "    </tr>\n",
       "    <tr>\n",
       "      <th>V</th>\n",
       "      <td>7.6</td>\n",
       "      <td>502147</td>\n",
       "      <td>6.4</td>\n",
       "      <td>401531</td>\n",
       "    </tr>\n",
       "    <tr>\n",
       "      <th>Övr</th>\n",
       "      <td>4.6</td>\n",
       "      <td>306287</td>\n",
       "      <td>4.0</td>\n",
       "      <td>255143</td>\n",
       "    </tr>\n",
       "  </tbody>\n",
       "</table>\n",
       "</div>"
      ],
      "text/plain": [
       "       procent_2018  röster_2018  procent_2014  röster_2014\n",
       "parti                                                      \n",
       "C               9.6       631812           7.7       489381\n",
       "FI              0.9        61907           1.2        76646\n",
       "KD              5.1       339375           3.9       248070\n",
       "L               6.7       444674           6.5       408175\n",
       "M              19.8      1310182          21.3      1343586\n",
       "MP              4.6       301825           7.7       483529\n",
       "S              27.2      1801843          30.8      1947473\n",
       "SD             12.6       832083           9.2       581476\n",
       "V               7.6       502147           6.4       401531\n",
       "Övr             4.6       306287           4.0       255143"
      ]
     },
     "execution_count": 188,
     "metadata": {},
     "output_type": "execute_result"
    }
   ],
   "source": [
    "totalprocent_jämförare(df,elec_year=elec_year,elec_type='K')"
   ]
  },
  {
   "cell_type": "code",
   "execution_count": 189,
   "metadata": {
    "hidden": true
   },
   "outputs": [],
   "source": [
    "totalprocent_jämförare(df,elec_year=elec_year,elec_type='K')\\\n",
    "    .to_excel(f\"redaktionsmaterial/valdata/CISSI_FI/3_FIs_röstandelar/\\\n",
    "valresultat_riket.xlsx\")"
   ]
  },
  {
   "cell_type": "markdown",
   "metadata": {
    "heading_collapsed": true,
    "hidden": true
   },
   "source": [
    "##### 3.8.5.1 Till grafik"
   ]
  },
  {
   "cell_type": "code",
   "execution_count": 3,
   "metadata": {
    "hidden": true
   },
   "outputs": [],
   "source": [
    "df = all_elec_years('K')"
   ]
  },
  {
   "cell_type": "code",
   "execution_count": 6,
   "metadata": {},
   "outputs": [
    {
     "data": {
      "text/html": [
       "<div>\n",
       "<style scoped>\n",
       "    .dataframe tbody tr th:only-of-type {\n",
       "        vertical-align: middle;\n",
       "    }\n",
       "\n",
       "    .dataframe tbody tr th {\n",
       "        vertical-align: top;\n",
       "    }\n",
       "\n",
       "    .dataframe thead th {\n",
       "        text-align: right;\n",
       "    }\n",
       "</style>\n",
       "<table border=\"1\" class=\"dataframe\">\n",
       "  <thead>\n",
       "    <tr style=\"text-align: right;\">\n",
       "      <th>Parti</th>\n",
       "      <th>FI</th>\n",
       "    </tr>\n",
       "  </thead>\n",
       "  <tbody>\n",
       "    <tr>\n",
       "      <th>2018</th>\n",
       "      <td>0.9</td>\n",
       "    </tr>\n",
       "    <tr>\n",
       "      <th>2014</th>\n",
       "      <td>1.2</td>\n",
       "    </tr>\n",
       "    <tr>\n",
       "      <th>Differens, %</th>\n",
       "      <td>-0.3</td>\n",
       "    </tr>\n",
       "  </tbody>\n",
       "</table>\n",
       "</div>"
      ],
      "text/plain": [
       "Parti          FI\n",
       "2018          0.9\n",
       "2014          1.2\n",
       "Differens, % -0.3"
      ]
     },
     "execution_count": 6,
     "metadata": {},
     "output_type": "execute_result"
    }
   ],
   "source": [
    "parti_till_grafik(df,elec_type='K',elec_year=elec_year,compare_year=2014,party='FI')"
   ]
  },
  {
   "cell_type": "code",
   "execution_count": 7,
   "metadata": {
    "hidden": true
   },
   "outputs": [],
   "source": [
    "grafik=parti_till_grafik(df,elec_type='K',elec_year=elec_year,party='FI')\n",
    "\n",
    "grafik=grafik.rename(columns={'FI':f'FI:s resultat i kommunvalen {elec_year}, %'})\n",
    "\n",
    "grafik.to_excel(\"redaktionsmaterial/tabeller_till_grafik/FI_hur_det_gick_CISSI/\\\n",
    "FIs_valresultat_kommunvalet.xlsx\")"
   ]
  },
  {
   "cell_type": "code",
   "execution_count": 8,
   "metadata": {
    "hidden": true
   },
   "outputs": [
    {
     "data": {
      "text/html": [
       "<div>\n",
       "<style scoped>\n",
       "    .dataframe tbody tr th:only-of-type {\n",
       "        vertical-align: middle;\n",
       "    }\n",
       "\n",
       "    .dataframe tbody tr th {\n",
       "        vertical-align: top;\n",
       "    }\n",
       "\n",
       "    .dataframe thead th {\n",
       "        text-align: right;\n",
       "    }\n",
       "</style>\n",
       "<table border=\"1\" class=\"dataframe\">\n",
       "  <thead>\n",
       "    <tr style=\"text-align: right;\">\n",
       "      <th>Parti</th>\n",
       "      <th>FI:s resultat i kommunvalen 2018, %</th>\n",
       "    </tr>\n",
       "  </thead>\n",
       "  <tbody>\n",
       "    <tr>\n",
       "      <th>2018</th>\n",
       "      <td>0.9</td>\n",
       "    </tr>\n",
       "    <tr>\n",
       "      <th>2014</th>\n",
       "      <td>1.2</td>\n",
       "    </tr>\n",
       "    <tr>\n",
       "      <th>Differens, %</th>\n",
       "      <td>-0.3</td>\n",
       "    </tr>\n",
       "  </tbody>\n",
       "</table>\n",
       "</div>"
      ],
      "text/plain": [
       "Parti         FI:s resultat i kommunvalen 2018, %\n",
       "2018                                          0.9\n",
       "2014                                          1.2\n",
       "Differens, %                                 -0.3"
      ]
     },
     "execution_count": 8,
     "metadata": {},
     "output_type": "execute_result"
    }
   ],
   "source": [
    "grafik"
   ]
  },
  {
   "cell_type": "code",
   "execution_count": 9,
   "metadata": {
    "hidden": true
   },
   "outputs": [],
   "source": [
    "df = all_elec_years('L')"
   ]
  },
  {
   "cell_type": "code",
   "execution_count": 10,
   "metadata": {
    "hidden": true
   },
   "outputs": [],
   "source": [
    "grafik=parti_till_grafik(df,elec_type='L',elec_year=elec_year,party='FI')\n",
    "\n",
    "grafik=grafik.rename(columns={'FI':f'FI:s resultat i landstingsvalen {elec_year}, %'})\n",
    "\n",
    "grafik.to_excel(\"redaktionsmaterial/tabeller_till_grafik/FI_hur_det_gick_CISSI/\\\n",
    "FIs_valresultat_landstingen.xlsx\")"
   ]
  },
  {
   "cell_type": "code",
   "execution_count": 11,
   "metadata": {
    "hidden": true
   },
   "outputs": [
    {
     "data": {
      "text/html": [
       "<div>\n",
       "<style scoped>\n",
       "    .dataframe tbody tr th:only-of-type {\n",
       "        vertical-align: middle;\n",
       "    }\n",
       "\n",
       "    .dataframe tbody tr th {\n",
       "        vertical-align: top;\n",
       "    }\n",
       "\n",
       "    .dataframe thead th {\n",
       "        text-align: right;\n",
       "    }\n",
       "</style>\n",
       "<table border=\"1\" class=\"dataframe\">\n",
       "  <thead>\n",
       "    <tr style=\"text-align: right;\">\n",
       "      <th>Parti</th>\n",
       "      <th>FI:s resultat i landstingsvalen 2018, %</th>\n",
       "    </tr>\n",
       "  </thead>\n",
       "  <tbody>\n",
       "    <tr>\n",
       "      <th>2018</th>\n",
       "      <td>0.6</td>\n",
       "    </tr>\n",
       "    <tr>\n",
       "      <th>2014</th>\n",
       "      <td>1.1</td>\n",
       "    </tr>\n",
       "    <tr>\n",
       "      <th>Differens, %</th>\n",
       "      <td>-0.5</td>\n",
       "    </tr>\n",
       "  </tbody>\n",
       "</table>\n",
       "</div>"
      ],
      "text/plain": [
       "Parti         FI:s resultat i landstingsvalen 2018, %\n",
       "2018                                              0.6\n",
       "2014                                              1.1\n",
       "Differens, %                                     -0.5"
      ]
     },
     "execution_count": 11,
     "metadata": {},
     "output_type": "execute_result"
    }
   ],
   "source": [
    "grafik"
   ]
  },
  {
   "cell_type": "markdown",
   "metadata": {
    "heading_collapsed": true,
    "hidden": true
   },
   "source": [
    "#### 3.8.6 Antal mandat för Fi i landstingsvalet 2018 jämfört 2014."
   ]
  },
  {
   "cell_type": "markdown",
   "metadata": {
    "hidden": true
   },
   "source": [
    "Ovanstående funktion (som bygger på funktionen muni_sorter()) tar parametern 'val' som kan bestämma vilket val som ska undersökas:"
   ]
  },
  {
   "cell_type": "code",
   "execution_count": 12,
   "metadata": {
    "hidden": true
   },
   "outputs": [],
   "source": [
    "df = all_elec_years('L')"
   ]
  },
  {
   "cell_type": "code",
   "execution_count": 13,
   "metadata": {
    "hidden": true
   },
   "outputs": [
    {
     "data": {
      "text/html": [
       "<div>\n",
       "<style scoped>\n",
       "    .dataframe tbody tr th:only-of-type {\n",
       "        vertical-align: middle;\n",
       "    }\n",
       "\n",
       "    .dataframe tbody tr th {\n",
       "        vertical-align: top;\n",
       "    }\n",
       "\n",
       "    .dataframe thead th {\n",
       "        text-align: right;\n",
       "    }\n",
       "</style>\n",
       "<table border=\"1\" class=\"dataframe\">\n",
       "  <thead>\n",
       "    <tr style=\"text-align: right;\">\n",
       "      <th>FI</th>\n",
       "      <th>mandat</th>\n",
       "      <th>summa_mandat</th>\n",
       "      <th>andelar_mandat</th>\n",
       "    </tr>\n",
       "  </thead>\n",
       "  <tbody>\n",
       "    <tr>\n",
       "      <th>2006</th>\n",
       "      <td>0</td>\n",
       "      <td>0</td>\n",
       "      <td>NaN</td>\n",
       "    </tr>\n",
       "    <tr>\n",
       "      <th>2010</th>\n",
       "      <td>0</td>\n",
       "      <td>1662</td>\n",
       "      <td>0.0</td>\n",
       "    </tr>\n",
       "    <tr>\n",
       "      <th>2014</th>\n",
       "      <td>0</td>\n",
       "      <td>1678</td>\n",
       "      <td>0.0</td>\n",
       "    </tr>\n",
       "    <tr>\n",
       "      <th>2018</th>\n",
       "      <td>0</td>\n",
       "      <td>1696</td>\n",
       "      <td>0.0</td>\n",
       "    </tr>\n",
       "  </tbody>\n",
       "</table>\n",
       "</div>"
      ],
      "text/plain": [
       "FI   mandat summa_mandat  andelar_mandat\n",
       "2006      0            0             NaN\n",
       "2010      0         1662             0.0\n",
       "2014      0         1678             0.0\n",
       "2018      0         1696             0.0"
      ]
     },
     "execution_count": 13,
     "metadata": {},
     "output_type": "execute_result"
    }
   ],
   "source": [
    "party_mandate_counter(df,party='FI',plot=False)"
   ]
  },
  {
   "cell_type": "markdown",
   "metadata": {
    "hidden": true
   },
   "source": [
    "Bättre är dock att använda muni_sorter() som lika gärna tar landastingsdata:"
   ]
  },
  {
   "cell_type": "code",
   "execution_count": 14,
   "metadata": {
    "hidden": true
   },
   "outputs": [
    {
     "data": {
      "text/html": [
       "<div>\n",
       "<style scoped>\n",
       "    .dataframe tbody tr th:only-of-type {\n",
       "        vertical-align: middle;\n",
       "    }\n",
       "\n",
       "    .dataframe tbody tr th {\n",
       "        vertical-align: top;\n",
       "    }\n",
       "\n",
       "    .dataframe thead th {\n",
       "        text-align: right;\n",
       "    }\n",
       "</style>\n",
       "<table border=\"1\" class=\"dataframe\">\n",
       "  <thead>\n",
       "    <tr style=\"text-align: right;\">\n",
       "      <th></th>\n",
       "      <th>kommun</th>\n",
       "      <th>beteckning</th>\n",
       "      <th>röster</th>\n",
       "      <th>procent_2014</th>\n",
       "      <th>procent_2018</th>\n",
       "      <th>förändring_procent_2018_2014</th>\n",
       "      <th>mandat_2014</th>\n",
       "      <th>mandat_2018</th>\n",
       "    </tr>\n",
       "  </thead>\n",
       "  <tbody>\n",
       "    <tr>\n",
       "      <th>0</th>\n",
       "      <td>Uppsala län</td>\n",
       "      <td>Feministiskt initiativ</td>\n",
       "      <td>2631</td>\n",
       "      <td>2.17</td>\n",
       "      <td>1.08</td>\n",
       "      <td>-1.09</td>\n",
       "      <td>0</td>\n",
       "      <td>0</td>\n",
       "    </tr>\n",
       "    <tr>\n",
       "      <th>1</th>\n",
       "      <td>Stockholms län</td>\n",
       "      <td>Feministiskt initiativ</td>\n",
       "      <td>15271</td>\n",
       "      <td>2.59</td>\n",
       "      <td>1.06</td>\n",
       "      <td>-1.53</td>\n",
       "      <td>0</td>\n",
       "      <td>0</td>\n",
       "    </tr>\n",
       "    <tr>\n",
       "      <th>2</th>\n",
       "      <td>Västerbottens län</td>\n",
       "      <td>Feministiskt initiativ</td>\n",
       "      <td>1460</td>\n",
       "      <td>2.13</td>\n",
       "      <td>0.83</td>\n",
       "      <td>-1.30</td>\n",
       "      <td>0</td>\n",
       "      <td>0</td>\n",
       "    </tr>\n",
       "    <tr>\n",
       "      <th>3</th>\n",
       "      <td>Västra Götalands län</td>\n",
       "      <td>Feministiskt initiativ</td>\n",
       "      <td>8655</td>\n",
       "      <td>0.36</td>\n",
       "      <td>0.80</td>\n",
       "      <td>0.44</td>\n",
       "      <td>0</td>\n",
       "      <td>0</td>\n",
       "    </tr>\n",
       "    <tr>\n",
       "      <th>4</th>\n",
       "      <td>Skåne län</td>\n",
       "      <td>Feministiskt initiativ</td>\n",
       "      <td>6208</td>\n",
       "      <td>1.64</td>\n",
       "      <td>0.74</td>\n",
       "      <td>-0.90</td>\n",
       "      <td>0</td>\n",
       "      <td>0</td>\n",
       "    </tr>\n",
       "    <tr>\n",
       "      <th>5</th>\n",
       "      <td>Värmlands län</td>\n",
       "      <td>Feministiskt initiativ</td>\n",
       "      <td>836</td>\n",
       "      <td>0.17</td>\n",
       "      <td>0.46</td>\n",
       "      <td>0.29</td>\n",
       "      <td>0</td>\n",
       "      <td>0</td>\n",
       "    </tr>\n",
       "    <tr>\n",
       "      <th>6</th>\n",
       "      <td>Blekinge län</td>\n",
       "      <td>Feministiskt initiativ</td>\n",
       "      <td>480</td>\n",
       "      <td>0.10</td>\n",
       "      <td>0.46</td>\n",
       "      <td>0.36</td>\n",
       "      <td>0</td>\n",
       "      <td>0</td>\n",
       "    </tr>\n",
       "    <tr>\n",
       "      <th>7</th>\n",
       "      <td>Östergötlands län</td>\n",
       "      <td>Feministiskt initiativ</td>\n",
       "      <td>1131</td>\n",
       "      <td>0.22</td>\n",
       "      <td>0.38</td>\n",
       "      <td>0.16</td>\n",
       "      <td>0</td>\n",
       "      <td>0</td>\n",
       "    </tr>\n",
       "    <tr>\n",
       "      <th>8</th>\n",
       "      <td>Örebro län</td>\n",
       "      <td>Feministiskt initiativ</td>\n",
       "      <td>726</td>\n",
       "      <td>1.23</td>\n",
       "      <td>0.37</td>\n",
       "      <td>-0.86</td>\n",
       "      <td>0</td>\n",
       "      <td>0</td>\n",
       "    </tr>\n",
       "    <tr>\n",
       "      <th>9</th>\n",
       "      <td>Västmanlands län</td>\n",
       "      <td>Feministiskt initiativ</td>\n",
       "      <td>550</td>\n",
       "      <td>0.16</td>\n",
       "      <td>0.32</td>\n",
       "      <td>0.16</td>\n",
       "      <td>0</td>\n",
       "      <td>0</td>\n",
       "    </tr>\n",
       "    <tr>\n",
       "      <th>10</th>\n",
       "      <td>Västernorrlands län</td>\n",
       "      <td>Feministiskt initiativ</td>\n",
       "      <td>504</td>\n",
       "      <td>0.15</td>\n",
       "      <td>0.31</td>\n",
       "      <td>0.16</td>\n",
       "      <td>0</td>\n",
       "      <td>0</td>\n",
       "    </tr>\n",
       "    <tr>\n",
       "      <th>11</th>\n",
       "      <td>Jämtlands län</td>\n",
       "      <td>Feministiskt initiativ</td>\n",
       "      <td>248</td>\n",
       "      <td>0.14</td>\n",
       "      <td>0.30</td>\n",
       "      <td>0.16</td>\n",
       "      <td>0</td>\n",
       "      <td>0</td>\n",
       "    </tr>\n",
       "    <tr>\n",
       "      <th>12</th>\n",
       "      <td>Kronobergs län</td>\n",
       "      <td>Feministiskt initiativ</td>\n",
       "      <td>344</td>\n",
       "      <td>0.19</td>\n",
       "      <td>0.28</td>\n",
       "      <td>0.09</td>\n",
       "      <td>0</td>\n",
       "      <td>0</td>\n",
       "    </tr>\n",
       "    <tr>\n",
       "      <th>13</th>\n",
       "      <td>Norrbottens län</td>\n",
       "      <td>Feministiskt initiativ</td>\n",
       "      <td>467</td>\n",
       "      <td>0.12</td>\n",
       "      <td>0.28</td>\n",
       "      <td>0.16</td>\n",
       "      <td>0</td>\n",
       "      <td>0</td>\n",
       "    </tr>\n",
       "    <tr>\n",
       "      <th>14</th>\n",
       "      <td>Gävleborgs län</td>\n",
       "      <td>Feministiskt initiativ</td>\n",
       "      <td>524</td>\n",
       "      <td>0.15</td>\n",
       "      <td>0.28</td>\n",
       "      <td>0.13</td>\n",
       "      <td>0</td>\n",
       "      <td>0</td>\n",
       "    </tr>\n",
       "    <tr>\n",
       "      <th>15</th>\n",
       "      <td>Södermanlands län</td>\n",
       "      <td>Feministiskt initiativ</td>\n",
       "      <td>470</td>\n",
       "      <td>0.18</td>\n",
       "      <td>0.25</td>\n",
       "      <td>0.07</td>\n",
       "      <td>0</td>\n",
       "      <td>0</td>\n",
       "    </tr>\n",
       "    <tr>\n",
       "      <th>16</th>\n",
       "      <td>Kalmar län</td>\n",
       "      <td>Feministiskt initiativ</td>\n",
       "      <td>361</td>\n",
       "      <td>0.18</td>\n",
       "      <td>0.23</td>\n",
       "      <td>0.05</td>\n",
       "      <td>0</td>\n",
       "      <td>0</td>\n",
       "    </tr>\n",
       "    <tr>\n",
       "      <th>17</th>\n",
       "      <td>Hallands län</td>\n",
       "      <td>Feministiskt initiativ</td>\n",
       "      <td>458</td>\n",
       "      <td>0.15</td>\n",
       "      <td>0.21</td>\n",
       "      <td>0.06</td>\n",
       "      <td>0</td>\n",
       "      <td>0</td>\n",
       "    </tr>\n",
       "    <tr>\n",
       "      <th>18</th>\n",
       "      <td>Dalarnas län</td>\n",
       "      <td>Feministiskt initiativ</td>\n",
       "      <td>326</td>\n",
       "      <td>0.16</td>\n",
       "      <td>0.17</td>\n",
       "      <td>0.01</td>\n",
       "      <td>0</td>\n",
       "      <td>0</td>\n",
       "    </tr>\n",
       "    <tr>\n",
       "      <th>19</th>\n",
       "      <td>Jönköpings län</td>\n",
       "      <td>Feministiskt initiativ</td>\n",
       "      <td>350</td>\n",
       "      <td>0.13</td>\n",
       "      <td>0.15</td>\n",
       "      <td>0.02</td>\n",
       "      <td>0</td>\n",
       "      <td>0</td>\n",
       "    </tr>\n",
       "  </tbody>\n",
       "</table>\n",
       "</div>"
      ],
      "text/plain": [
       "                  kommun              beteckning  röster  procent_2014  \\\n",
       "0            Uppsala län  Feministiskt initiativ    2631          2.17   \n",
       "1         Stockholms län  Feministiskt initiativ   15271          2.59   \n",
       "2      Västerbottens län  Feministiskt initiativ    1460          2.13   \n",
       "3   Västra Götalands län  Feministiskt initiativ    8655          0.36   \n",
       "4              Skåne län  Feministiskt initiativ    6208          1.64   \n",
       "5          Värmlands län  Feministiskt initiativ     836          0.17   \n",
       "6           Blekinge län  Feministiskt initiativ     480          0.10   \n",
       "7      Östergötlands län  Feministiskt initiativ    1131          0.22   \n",
       "8             Örebro län  Feministiskt initiativ     726          1.23   \n",
       "9       Västmanlands län  Feministiskt initiativ     550          0.16   \n",
       "10   Västernorrlands län  Feministiskt initiativ     504          0.15   \n",
       "11         Jämtlands län  Feministiskt initiativ     248          0.14   \n",
       "12        Kronobergs län  Feministiskt initiativ     344          0.19   \n",
       "13       Norrbottens län  Feministiskt initiativ     467          0.12   \n",
       "14        Gävleborgs län  Feministiskt initiativ     524          0.15   \n",
       "15     Södermanlands län  Feministiskt initiativ     470          0.18   \n",
       "16            Kalmar län  Feministiskt initiativ     361          0.18   \n",
       "17          Hallands län  Feministiskt initiativ     458          0.15   \n",
       "18          Dalarnas län  Feministiskt initiativ     326          0.16   \n",
       "19        Jönköpings län  Feministiskt initiativ     350          0.13   \n",
       "\n",
       "    procent_2018  förändring_procent_2018_2014  mandat_2014  mandat_2018  \n",
       "0           1.08                         -1.09            0            0  \n",
       "1           1.06                         -1.53            0            0  \n",
       "2           0.83                         -1.30            0            0  \n",
       "3           0.80                          0.44            0            0  \n",
       "4           0.74                         -0.90            0            0  \n",
       "5           0.46                          0.29            0            0  \n",
       "6           0.46                          0.36            0            0  \n",
       "7           0.38                          0.16            0            0  \n",
       "8           0.37                         -0.86            0            0  \n",
       "9           0.32                          0.16            0            0  \n",
       "10          0.31                          0.16            0            0  \n",
       "11          0.30                          0.16            0            0  \n",
       "12          0.28                          0.09            0            0  \n",
       "13          0.28                          0.16            0            0  \n",
       "14          0.28                          0.13            0            0  \n",
       "15          0.25                          0.07            0            0  \n",
       "16          0.23                          0.05            0            0  \n",
       "17          0.21                          0.06            0            0  \n",
       "18          0.17                          0.01            0            0  \n",
       "19          0.15                          0.02            0            0  "
      ]
     },
     "execution_count": 14,
     "metadata": {},
     "output_type": "execute_result"
    }
   ],
   "source": [
    "muni_sorter(df,\n",
    "            elec_year=elec_year,\n",
    "            party='FI',\n",
    "            sort_variabel='procent')"
   ]
  },
  {
   "cell_type": "code",
   "execution_count": 15,
   "metadata": {
    "hidden": true
   },
   "outputs": [],
   "source": [
    "muni_sorter(df,\n",
    "            elec_year=elec_year,\n",
    "            party='FI',\n",
    "            sort_variabel='procent')\\\n",
    "    .to_excel(f\"redaktionsmaterial/valdata/CISSI_FI/4_FIs_mandat_landstinget/\\\n",
    "valresultat_FI_landstingen.xlsx\",index=False)"
   ]
  },
  {
   "cell_type": "markdown",
   "metadata": {
    "heading_collapsed": true,
    "hidden": true
   },
   "source": [
    "#### 3.8.7 Antal landsting där de finns representerade valet 2018, jämfört 2014."
   ]
  },
  {
   "cell_type": "markdown",
   "metadata": {
    "hidden": true
   },
   "source": [
    "Här kan vi använda samma funktion som i punkt 2 ovan:"
   ]
  },
  {
   "cell_type": "code",
   "execution_count": 16,
   "metadata": {
    "hidden": true
   },
   "outputs": [],
   "source": [
    "elec_years=[2014,2018]"
   ]
  },
  {
   "cell_type": "code",
   "execution_count": 17,
   "metadata": {
    "hidden": true
   },
   "outputs": [],
   "source": [
    "representation_FI(all_elec_years('L'),elec_years=elec_years,party='FI')\\\n",
    "    .to_excel(f\"redaktionsmaterial/valdata/CISSI_FI/5_FIs_representation_landstinget/\\\n",
    "alla_landsting_med_FI_{elec_years[0]}_{elec_years[1]}.xlsx\",index=False)"
   ]
  },
  {
   "cell_type": "code",
   "execution_count": 18,
   "metadata": {
    "hidden": true
   },
   "outputs": [
    {
     "data": {
      "text/html": [
       "<div>\n",
       "<style scoped>\n",
       "    .dataframe tbody tr th:only-of-type {\n",
       "        vertical-align: middle;\n",
       "    }\n",
       "\n",
       "    .dataframe tbody tr th {\n",
       "        vertical-align: top;\n",
       "    }\n",
       "\n",
       "    .dataframe thead th {\n",
       "        text-align: right;\n",
       "    }\n",
       "</style>\n",
       "<table border=\"1\" class=\"dataframe\">\n",
       "  <thead>\n",
       "    <tr style=\"text-align: right;\">\n",
       "      <th></th>\n",
       "      <th>kommun</th>\n",
       "      <th>beteckning</th>\n",
       "      <th>röster</th>\n",
       "      <th>procent_2014</th>\n",
       "      <th>procent_2018</th>\n",
       "      <th>förändring_procent_2018_2014</th>\n",
       "      <th>mandat_2014</th>\n",
       "      <th>mandat_2018</th>\n",
       "    </tr>\n",
       "  </thead>\n",
       "  <tbody>\n",
       "  </tbody>\n",
       "</table>\n",
       "</div>"
      ],
      "text/plain": [
       "Empty DataFrame\n",
       "Columns: [kommun, beteckning, röster, procent_2014, procent_2018, förändring_procent_2018_2014, mandat_2014, mandat_2018]\n",
       "Index: []"
      ]
     },
     "execution_count": 18,
     "metadata": {},
     "output_type": "execute_result"
    }
   ],
   "source": [
    "got_in_gov(val='L',elec_year=elec_year,party='FI',results='in')"
   ]
  },
  {
   "cell_type": "markdown",
   "metadata": {
    "hidden": true
   },
   "source": [
    "FI kom inte in i något landsting."
   ]
  },
  {
   "cell_type": "code",
   "execution_count": 19,
   "metadata": {
    "hidden": true
   },
   "outputs": [
    {
     "data": {
      "text/plain": [
       "0"
      ]
     },
     "execution_count": 19,
     "metadata": {},
     "output_type": "execute_result"
    }
   ],
   "source": [
    "got_in_gov(val='L',elec_year=2018,party='FI',results='in').shape[0]"
   ]
  },
  {
   "cell_type": "markdown",
   "metadata": {
    "heading_collapsed": true,
    "hidden": true
   },
   "source": [
    "#### 3.8.8 Landsting där de kommit in/åkt ut i valet 2018."
   ]
  },
  {
   "cell_type": "markdown",
   "metadata": {
    "hidden": true
   },
   "source": [
    "I punkt 6 ovan så ser vi var de kommit in, följande är var de åkte ut:"
   ]
  },
  {
   "cell_type": "code",
   "execution_count": 20,
   "metadata": {
    "hidden": true
   },
   "outputs": [
    {
     "data": {
      "text/html": [
       "<div>\n",
       "<style scoped>\n",
       "    .dataframe tbody tr th:only-of-type {\n",
       "        vertical-align: middle;\n",
       "    }\n",
       "\n",
       "    .dataframe tbody tr th {\n",
       "        vertical-align: top;\n",
       "    }\n",
       "\n",
       "    .dataframe thead th {\n",
       "        text-align: right;\n",
       "    }\n",
       "</style>\n",
       "<table border=\"1\" class=\"dataframe\">\n",
       "  <thead>\n",
       "    <tr style=\"text-align: right;\">\n",
       "      <th></th>\n",
       "      <th>kommun</th>\n",
       "      <th>beteckning</th>\n",
       "      <th>röster</th>\n",
       "      <th>procent_2014</th>\n",
       "      <th>procent_2018</th>\n",
       "      <th>förändring_procent_2018_2014</th>\n",
       "      <th>mandat_2014</th>\n",
       "      <th>mandat_2018</th>\n",
       "    </tr>\n",
       "  </thead>\n",
       "  <tbody>\n",
       "  </tbody>\n",
       "</table>\n",
       "</div>"
      ],
      "text/plain": [
       "Empty DataFrame\n",
       "Columns: [kommun, beteckning, röster, procent_2014, procent_2018, förändring_procent_2018_2014, mandat_2014, mandat_2018]\n",
       "Index: []"
      ]
     },
     "execution_count": 20,
     "metadata": {},
     "output_type": "execute_result"
    }
   ],
   "source": [
    "got_in_gov(val='L',elec_year=elec_year,party='FI',results='ut').head()"
   ]
  },
  {
   "cell_type": "markdown",
   "metadata": {
    "hidden": true
   },
   "source": [
    "De åkte inte ur någonstans då de inte satt i något landsting 2014."
   ]
  },
  {
   "cell_type": "markdown",
   "metadata": {
    "heading_collapsed": true,
    "hidden": true
   },
   "source": [
    "#### 3.8.9 Fi:s andel av rösterna i alla landsting 2018, jämfört 2014."
   ]
  },
  {
   "cell_type": "code",
   "execution_count": 21,
   "metadata": {
    "hidden": true
   },
   "outputs": [],
   "source": [
    "df = all_elec_years('L')"
   ]
  },
  {
   "cell_type": "code",
   "execution_count": 22,
   "metadata": {
    "hidden": true
   },
   "outputs": [
    {
     "data": {
      "text/html": [
       "<div>\n",
       "<style scoped>\n",
       "    .dataframe tbody tr th:only-of-type {\n",
       "        vertical-align: middle;\n",
       "    }\n",
       "\n",
       "    .dataframe tbody tr th {\n",
       "        vertical-align: top;\n",
       "    }\n",
       "\n",
       "    .dataframe thead th {\n",
       "        text-align: right;\n",
       "    }\n",
       "</style>\n",
       "<table border=\"1\" class=\"dataframe\">\n",
       "  <thead>\n",
       "    <tr style=\"text-align: right;\">\n",
       "      <th></th>\n",
       "      <th>procent_2018</th>\n",
       "      <th>röster_2018</th>\n",
       "      <th>procent_2014</th>\n",
       "      <th>röster_2014</th>\n",
       "    </tr>\n",
       "    <tr>\n",
       "      <th>parti</th>\n",
       "      <th></th>\n",
       "      <th></th>\n",
       "      <th></th>\n",
       "      <th></th>\n",
       "    </tr>\n",
       "  </thead>\n",
       "  <tbody>\n",
       "    <tr>\n",
       "      <th>C</th>\n",
       "      <td>8.2</td>\n",
       "      <td>539075</td>\n",
       "      <td>6.2</td>\n",
       "      <td>387555</td>\n",
       "    </tr>\n",
       "    <tr>\n",
       "      <th>FI</th>\n",
       "      <td>0.6</td>\n",
       "      <td>42000</td>\n",
       "      <td>1.1</td>\n",
       "      <td>66600</td>\n",
       "    </tr>\n",
       "    <tr>\n",
       "      <th>KD</th>\n",
       "      <td>7.0</td>\n",
       "      <td>457679</td>\n",
       "      <td>5.1</td>\n",
       "      <td>317270</td>\n",
       "    </tr>\n",
       "    <tr>\n",
       "      <th>L</th>\n",
       "      <td>6.2</td>\n",
       "      <td>403781</td>\n",
       "      <td>6.2</td>\n",
       "      <td>385999</td>\n",
       "    </tr>\n",
       "    <tr>\n",
       "      <th>M</th>\n",
       "      <td>19.0</td>\n",
       "      <td>1241717</td>\n",
       "      <td>21.2</td>\n",
       "      <td>1321172</td>\n",
       "    </tr>\n",
       "    <tr>\n",
       "      <th>MP</th>\n",
       "      <td>4.1</td>\n",
       "      <td>265522</td>\n",
       "      <td>7.1</td>\n",
       "      <td>442760</td>\n",
       "    </tr>\n",
       "    <tr>\n",
       "      <th>S</th>\n",
       "      <td>28.3</td>\n",
       "      <td>1850724</td>\n",
       "      <td>32.3</td>\n",
       "      <td>2020476</td>\n",
       "    </tr>\n",
       "    <tr>\n",
       "      <th>SD</th>\n",
       "      <td>12.7</td>\n",
       "      <td>828220</td>\n",
       "      <td>9.0</td>\n",
       "      <td>561611</td>\n",
       "    </tr>\n",
       "    <tr>\n",
       "      <th>V</th>\n",
       "      <td>8.5</td>\n",
       "      <td>555043</td>\n",
       "      <td>7.0</td>\n",
       "      <td>434992</td>\n",
       "    </tr>\n",
       "    <tr>\n",
       "      <th>Övr</th>\n",
       "      <td>3.9</td>\n",
       "      <td>255762</td>\n",
       "      <td>3.3</td>\n",
       "      <td>203550</td>\n",
       "    </tr>\n",
       "  </tbody>\n",
       "</table>\n",
       "</div>"
      ],
      "text/plain": [
       "       procent_2018  röster_2018  procent_2014  röster_2014\n",
       "parti                                                      \n",
       "C               8.2       539075           6.2       387555\n",
       "FI              0.6        42000           1.1        66600\n",
       "KD              7.0       457679           5.1       317270\n",
       "L               6.2       403781           6.2       385999\n",
       "M              19.0      1241717          21.2      1321172\n",
       "MP              4.1       265522           7.1       442760\n",
       "S              28.3      1850724          32.3      2020476\n",
       "SD             12.7       828220           9.0       561611\n",
       "V               8.5       555043           7.0       434992\n",
       "Övr             3.9       255762           3.3       203550"
      ]
     },
     "execution_count": 22,
     "metadata": {},
     "output_type": "execute_result"
    }
   ],
   "source": [
    "totalprocent_jämförare(df,elec_year=elec_year,elec_type='L')"
   ]
  },
  {
   "cell_type": "code",
   "execution_count": 23,
   "metadata": {
    "hidden": true
   },
   "outputs": [],
   "source": [
    "totalprocent_jämförare(df,elec_year=elec_year,elec_type='L')\\\n",
    "    .to_excel(f'redaktionsmaterial/valdata/CISSI_FI/6_FIs_röstandelar_landstinget_totalt/\\\n",
    "resultat_landstingen_{elec_year}.xlsx')"
   ]
  },
  {
   "cell_type": "markdown",
   "metadata": {
    "heading_collapsed": true,
    "hidden": true
   },
   "source": [
    "#### 3.8.10 README"
   ]
  },
  {
   "cell_type": "code",
   "execution_count": 24,
   "metadata": {
    "hidden": true
   },
   "outputs": [],
   "source": [
    "with open(\"redaktionsmaterial/valdata/CISSI_FI/README.txt\",\"w\") as f:\n",
    "    f.write(\"\"\"\\\n",
    "\n",
    "Här en kortare beskrivning på mappens innehåll:\n",
    "\n",
    "1_FIs_mandat\n",
    "\n",
    "Sammanfattning av FIs mandat i Sveriges kommuner \\\n",
    "valen 2006-2018.\n",
    "\n",
    "2_FIs_kommuner\n",
    "\n",
    "Tre filer. En med alla kommuner där FI åkte ur i valet. \\\n",
    "En med kommunerna där de kom in iom valet. En med alla \\\n",
    "kommuner där de iom valet har representation. Ifall \\\n",
    "filerna är tomma så betyder det att de inte åkte ur/kom \\\n",
    "in, eller har någon representation.\n",
    "\n",
    "3_FIs_röstandelar\n",
    "\n",
    "Rak lista på alla partiers resultat i kommunvalet \\\n",
    "i hela Sverige, inkl FI.\n",
    "\n",
    "4_mandat_landstinget\n",
    "\n",
    "Tabell på FIs valresultat i alla landsting jämfört \\\n",
    "förra valet.\n",
    "\n",
    "5_FIs_representation_landstinget\n",
    "\n",
    "Alla landsting där FI fick mandat detta och förra valet.\n",
    "\n",
    "6_röstandelar_landstinget_totalt\n",
    "\n",
    "Sammanfattat valresultat i landstingen för alla \\\n",
    "partier, inkl FI.\n",
    "\n",
    "\"\"\")\n",
    "    f.close"
   ]
  },
  {
   "cell_type": "markdown",
   "metadata": {
    "heading_collapsed": true
   },
   "source": [
    "## 3.9 De lokala partierna"
   ]
  },
  {
   "cell_type": "markdown",
   "metadata": {
    "heading_collapsed": true,
    "hidden": true
   },
   "source": [
    "#### 3.9.1 Intro"
   ]
  },
  {
   "cell_type": "markdown",
   "metadata": {
    "hidden": true
   },
   "source": [
    "Reporter: Samuel\n",
    "\n",
    "Att ta fram:\n",
    "1. De lokala partier som har störst andel röster i sin egen kommun. Ta bort de som inte fått mandat.\n",
    "\n",
    "Data:\n",
    "- Röster och totalt antal röster i alla kommuner för alla partier som inte är något av riksdagspartierna"
   ]
  },
  {
   "cell_type": "markdown",
   "metadata": {
    "hidden": true
   },
   "source": [
    "Följande partier är \"lokala\" i att de bara ställer upp i kommunvalet, men de är egentligen rikspartier och ska därför bort ur vår sammanställning."
   ]
  },
  {
   "cell_type": "markdown",
   "metadata": {
    "heading_collapsed": true,
    "hidden": true
   },
   "source": [
    "#### 3.9.2 Bearbetning"
   ]
  },
  {
   "cell_type": "code",
   "execution_count": 25,
   "metadata": {
    "hidden": true
   },
   "outputs": [],
   "source": [
    "import pandas as pd\n",
    "from util import local_parties,all_elec_years"
   ]
  },
  {
   "cell_type": "code",
   "execution_count": 26,
   "metadata": {
    "hidden": true
   },
   "outputs": [],
   "source": [
    "bort=['Landsbygdspartiet Oberoende',\n",
    " 'SPI Välfärden',\n",
    " 'Kommunistiska Partiet',\n",
    " 'Medborgerlig Samling']"
   ]
  },
  {
   "cell_type": "code",
   "execution_count": 27,
   "metadata": {
    "hidden": true
   },
   "outputs": [],
   "source": [
    "partier=pd.read_excel('data/resultat/alla_partier.xlsx')"
   ]
  },
  {
   "cell_type": "code",
   "execution_count": 28,
   "metadata": {
    "hidden": true
   },
   "outputs": [
    {
     "data": {
      "text/html": [
       "<div>\n",
       "<style scoped>\n",
       "    .dataframe tbody tr th:only-of-type {\n",
       "        vertical-align: middle;\n",
       "    }\n",
       "\n",
       "    .dataframe tbody tr th {\n",
       "        vertical-align: top;\n",
       "    }\n",
       "\n",
       "    .dataframe thead th {\n",
       "        text-align: right;\n",
       "    }\n",
       "</style>\n",
       "<table border=\"1\" class=\"dataframe\">\n",
       "  <thead>\n",
       "    <tr style=\"text-align: right;\">\n",
       "      <th></th>\n",
       "      <th>val</th>\n",
       "      <th>parti</th>\n",
       "      <th>beteckning</th>\n",
       "    </tr>\n",
       "  </thead>\n",
       "  <tbody>\n",
       "    <tr>\n",
       "      <th>0</th>\n",
       "      <td>2010K</td>\n",
       "      <td>0247</td>\n",
       "      <td>Malmöpartiet</td>\n",
       "    </tr>\n",
       "    <tr>\n",
       "      <th>1</th>\n",
       "      <td>2010K</td>\n",
       "      <td>0333</td>\n",
       "      <td>Silverfox-partiet</td>\n",
       "    </tr>\n",
       "    <tr>\n",
       "      <th>2</th>\n",
       "      <td>2010K</td>\n",
       "      <td>0339</td>\n",
       "      <td>Sveriges Nationella Demokratiska Parti</td>\n",
       "    </tr>\n",
       "    <tr>\n",
       "      <th>3</th>\n",
       "      <td>2010K</td>\n",
       "      <td>0450</td>\n",
       "      <td>Framtidspartiet Sverige</td>\n",
       "    </tr>\n",
       "    <tr>\n",
       "      <th>4</th>\n",
       "      <td>2010K</td>\n",
       "      <td>0470</td>\n",
       "      <td>Seniorpartiet</td>\n",
       "    </tr>\n",
       "  </tbody>\n",
       "</table>\n",
       "</div>"
      ],
      "text/plain": [
       "     val parti                              beteckning\n",
       "0  2010K  0247                            Malmöpartiet\n",
       "1  2010K  0333                       Silverfox-partiet\n",
       "2  2010K  0339  Sveriges Nationella Demokratiska Parti\n",
       "3  2010K  0450                 Framtidspartiet Sverige\n",
       "4  2010K  0470                           Seniorpartiet"
      ]
     },
     "execution_count": 28,
     "metadata": {},
     "output_type": "execute_result"
    }
   ],
   "source": [
    "partier.head()"
   ]
  },
  {
   "cell_type": "code",
   "execution_count": 29,
   "metadata": {
    "hidden": true
   },
   "outputs": [],
   "source": [
    "bort=partier.loc[(partier['beteckning'].isin(bort))&(partier['val']=='2018K'),'parti']"
   ]
  },
  {
   "cell_type": "code",
   "execution_count": 30,
   "metadata": {
    "hidden": true
   },
   "outputs": [],
   "source": [
    "df = all_elec_years('K')"
   ]
  },
  {
   "cell_type": "code",
   "execution_count": 31,
   "metadata": {
    "hidden": true
   },
   "outputs": [],
   "source": [
    "elec_year=2018"
   ]
  },
  {
   "cell_type": "code",
   "execution_count": 32,
   "metadata": {
    "hidden": true
   },
   "outputs": [],
   "source": [
    "test=local_parties(df,elec_year=elec_year,elec_type='K',sorter=False)"
   ]
  },
  {
   "cell_type": "code",
   "execution_count": 33,
   "metadata": {
    "hidden": true
   },
   "outputs": [
    {
     "data": {
      "text/html": [
       "<div>\n",
       "<style scoped>\n",
       "    .dataframe tbody tr th:only-of-type {\n",
       "        vertical-align: middle;\n",
       "    }\n",
       "\n",
       "    .dataframe tbody tr th {\n",
       "        vertical-align: top;\n",
       "    }\n",
       "\n",
       "    .dataframe thead th {\n",
       "        text-align: right;\n",
       "    }\n",
       "</style>\n",
       "<table border=\"1\" class=\"dataframe\">\n",
       "  <thead>\n",
       "    <tr style=\"text-align: right;\">\n",
       "      <th></th>\n",
       "      <th>kommun</th>\n",
       "      <th>beteckning</th>\n",
       "      <th>procent_2018</th>\n",
       "      <th>mandat_2018</th>\n",
       "      <th>kommunmandat_totalt</th>\n",
       "    </tr>\n",
       "  </thead>\n",
       "  <tbody>\n",
       "    <tr>\n",
       "      <th>103</th>\n",
       "      <td>Hagfors</td>\n",
       "      <td>OBEROENDE REALISTER</td>\n",
       "      <td>36.47</td>\n",
       "      <td>13.0</td>\n",
       "      <td>35</td>\n",
       "    </tr>\n",
       "    <tr>\n",
       "      <th>84</th>\n",
       "      <td>Nykvarn</td>\n",
       "      <td>Nykvarnspartiet</td>\n",
       "      <td>30.43</td>\n",
       "      <td>9.0</td>\n",
       "      <td>31</td>\n",
       "    </tr>\n",
       "    <tr>\n",
       "      <th>65</th>\n",
       "      <td>Perstorp</td>\n",
       "      <td>Perstorps Framtid</td>\n",
       "      <td>29.79</td>\n",
       "      <td>10.0</td>\n",
       "      <td>35</td>\n",
       "    </tr>\n",
       "    <tr>\n",
       "      <th>92</th>\n",
       "      <td>Vaxholm</td>\n",
       "      <td>Waxholmspartiet - borgerligt alternativ</td>\n",
       "      <td>24.67</td>\n",
       "      <td>8.0</td>\n",
       "      <td>31</td>\n",
       "    </tr>\n",
       "    <tr>\n",
       "      <th>62</th>\n",
       "      <td>Båstad</td>\n",
       "      <td>Bjärepartiet</td>\n",
       "      <td>22.21</td>\n",
       "      <td>9.0</td>\n",
       "      <td>41</td>\n",
       "    </tr>\n",
       "  </tbody>\n",
       "</table>\n",
       "</div>"
      ],
      "text/plain": [
       "       kommun                               beteckning  procent_2018  \\\n",
       "103   Hagfors                      OBEROENDE REALISTER         36.47   \n",
       "84    Nykvarn                          Nykvarnspartiet         30.43   \n",
       "65   Perstorp                        Perstorps Framtid         29.79   \n",
       "92    Vaxholm  Waxholmspartiet - borgerligt alternativ         24.67   \n",
       "62     Båstad                             Bjärepartiet         22.21   \n",
       "\n",
       "     mandat_2018 kommunmandat_totalt  \n",
       "103         13.0                  35  \n",
       "84           9.0                  31  \n",
       "65          10.0                  35  \n",
       "92           8.0                  31  \n",
       "62           9.0                  41  "
      ]
     },
     "execution_count": 33,
     "metadata": {},
     "output_type": "execute_result"
    }
   ],
   "source": [
    "test.head()"
   ]
  },
  {
   "cell_type": "code",
   "execution_count": 34,
   "metadata": {
    "hidden": true
   },
   "outputs": [],
   "source": [
    "local_parties(df,elec_year=elec_year,elec_type='K',sorter=False)\\\n",
    "    .to_excel(f\"redaktionsmaterial/valdata/SAMUEL_lokala_partier/\\\n",
    "valresultat_lokala_partier_{elec_year}.xlsx\",index=False)"
   ]
  },
  {
   "cell_type": "markdown",
   "metadata": {
    "hidden": true
   },
   "source": [
    "##### 3.9.2.1 Till grafik"
   ]
  },
  {
   "cell_type": "code",
   "execution_count": 35,
   "metadata": {
    "hidden": true
   },
   "outputs": [],
   "source": [
    "df = all_elec_years('K')"
   ]
  },
  {
   "cell_type": "code",
   "execution_count": 36,
   "metadata": {
    "hidden": true
   },
   "outputs": [],
   "source": [
    "grafik=local_parties(df,elec_year=elec_year,elec_type='K',sorter=False).head(15)"
   ]
  },
  {
   "cell_type": "code",
   "execution_count": 37,
   "metadata": {
    "hidden": true
   },
   "outputs": [],
   "source": [
    "grafik=grafik.loc[:,['kommun','beteckning',f'procent_{elec_year}']]"
   ]
  },
  {
   "cell_type": "code",
   "execution_count": 38,
   "metadata": {
    "hidden": true
   },
   "outputs": [],
   "source": [
    "grafik.rename(columns={'kommun':'Kommun',\n",
    "                       'beteckning':'Parti',\n",
    "                       f'procent_{elec_year}':'Kommunvalet, %'},inplace=True)"
   ]
  },
  {
   "cell_type": "code",
   "execution_count": 39,
   "metadata": {
    "hidden": true
   },
   "outputs": [
    {
     "data": {
      "text/html": [
       "<div>\n",
       "<style scoped>\n",
       "    .dataframe tbody tr th:only-of-type {\n",
       "        vertical-align: middle;\n",
       "    }\n",
       "\n",
       "    .dataframe tbody tr th {\n",
       "        vertical-align: top;\n",
       "    }\n",
       "\n",
       "    .dataframe thead th {\n",
       "        text-align: right;\n",
       "    }\n",
       "</style>\n",
       "<table border=\"1\" class=\"dataframe\">\n",
       "  <thead>\n",
       "    <tr style=\"text-align: right;\">\n",
       "      <th></th>\n",
       "      <th>Kommun</th>\n",
       "      <th>Parti</th>\n",
       "      <th>Kommunvalet, %</th>\n",
       "    </tr>\n",
       "  </thead>\n",
       "  <tbody>\n",
       "    <tr>\n",
       "      <th>103</th>\n",
       "      <td>Hagfors</td>\n",
       "      <td>OBEROENDE REALISTER</td>\n",
       "      <td>36.47</td>\n",
       "    </tr>\n",
       "    <tr>\n",
       "      <th>84</th>\n",
       "      <td>Nykvarn</td>\n",
       "      <td>Nykvarnspartiet</td>\n",
       "      <td>30.43</td>\n",
       "    </tr>\n",
       "    <tr>\n",
       "      <th>65</th>\n",
       "      <td>Perstorp</td>\n",
       "      <td>Perstorps Framtid</td>\n",
       "      <td>29.79</td>\n",
       "    </tr>\n",
       "    <tr>\n",
       "      <th>92</th>\n",
       "      <td>Vaxholm</td>\n",
       "      <td>Waxholmspartiet - borgerligt alternativ</td>\n",
       "      <td>24.67</td>\n",
       "    </tr>\n",
       "    <tr>\n",
       "      <th>62</th>\n",
       "      <td>Båstad</td>\n",
       "      <td>Bjärepartiet</td>\n",
       "      <td>22.21</td>\n",
       "    </tr>\n",
       "    <tr>\n",
       "      <th>148</th>\n",
       "      <td>Vadstena</td>\n",
       "      <td>Konsensus - För Vadstenas Bästa</td>\n",
       "      <td>22.11</td>\n",
       "    </tr>\n",
       "    <tr>\n",
       "      <th>124</th>\n",
       "      <td>Lysekil</td>\n",
       "      <td>Lysekilspartiet</td>\n",
       "      <td>21.02</td>\n",
       "    </tr>\n",
       "    <tr>\n",
       "      <th>43</th>\n",
       "      <td>Haparanda</td>\n",
       "      <td>Sjukvårdspartiet</td>\n",
       "      <td>19.51</td>\n",
       "    </tr>\n",
       "    <tr>\n",
       "      <th>53</th>\n",
       "      <td>Pajala</td>\n",
       "      <td>Framtid S</td>\n",
       "      <td>19.12</td>\n",
       "    </tr>\n",
       "    <tr>\n",
       "      <th>115</th>\n",
       "      <td>Sollefteå</td>\n",
       "      <td>Västra Initiativet</td>\n",
       "      <td>18.60</td>\n",
       "    </tr>\n",
       "    <tr>\n",
       "      <th>24</th>\n",
       "      <td>Åre</td>\n",
       "      <td>Västjämtlands Väl</td>\n",
       "      <td>18.55</td>\n",
       "    </tr>\n",
       "    <tr>\n",
       "      <th>108</th>\n",
       "      <td>Dorotea</td>\n",
       "      <td>Dorotea Kommunlista</td>\n",
       "      <td>18.50</td>\n",
       "    </tr>\n",
       "    <tr>\n",
       "      <th>30</th>\n",
       "      <td>Vetlanda</td>\n",
       "      <td>Vetlanda framåtanda</td>\n",
       "      <td>18.14</td>\n",
       "    </tr>\n",
       "    <tr>\n",
       "      <th>44</th>\n",
       "      <td>Jokkmokk</td>\n",
       "      <td>Framtid i Jokkmokks kommun</td>\n",
       "      <td>17.78</td>\n",
       "    </tr>\n",
       "    <tr>\n",
       "      <th>132</th>\n",
       "      <td>Ulricehamn</td>\n",
       "      <td>Nya Ulricehamn</td>\n",
       "      <td>17.57</td>\n",
       "    </tr>\n",
       "  </tbody>\n",
       "</table>\n",
       "</div>"
      ],
      "text/plain": [
       "         Kommun                                    Parti  Kommunvalet, %\n",
       "103     Hagfors                      OBEROENDE REALISTER           36.47\n",
       "84      Nykvarn                          Nykvarnspartiet           30.43\n",
       "65     Perstorp                        Perstorps Framtid           29.79\n",
       "92      Vaxholm  Waxholmspartiet - borgerligt alternativ           24.67\n",
       "62       Båstad                             Bjärepartiet           22.21\n",
       "148    Vadstena          Konsensus - För Vadstenas Bästa           22.11\n",
       "124     Lysekil                          Lysekilspartiet           21.02\n",
       "43    Haparanda                         Sjukvårdspartiet           19.51\n",
       "53       Pajala                                Framtid S           19.12\n",
       "115   Sollefteå                       Västra Initiativet           18.60\n",
       "24          Åre                        Västjämtlands Väl           18.55\n",
       "108     Dorotea                      Dorotea Kommunlista           18.50\n",
       "30     Vetlanda                      Vetlanda framåtanda           18.14\n",
       "44     Jokkmokk               Framtid i Jokkmokks kommun           17.78\n",
       "132  Ulricehamn                           Nya Ulricehamn           17.57"
      ]
     },
     "execution_count": 39,
     "metadata": {},
     "output_type": "execute_result"
    }
   ],
   "source": [
    "grafik"
   ]
  },
  {
   "cell_type": "code",
   "execution_count": 40,
   "metadata": {
    "hidden": true
   },
   "outputs": [],
   "source": [
    "grafik.to_excel(\"redaktionsmaterial/tabeller_till_grafik/de_lokala_partierna_SAMUEL/\\\n",
    "15_största_lokala_partierna.xlsx\",index=False)"
   ]
  },
  {
   "cell_type": "markdown",
   "metadata": {
    "heading_collapsed": true,
    "hidden": true
   },
   "source": [
    "#### 3.9.3 README"
   ]
  },
  {
   "cell_type": "code",
   "execution_count": 41,
   "metadata": {
    "hidden": true
   },
   "outputs": [],
   "source": [
    "with open(\"redaktionsmaterial/valdata/SAMUEL_lokala_partier/README.txt\",\"w\") as f:\n",
    "    f.write(\"\"\"\\\n",
    "\n",
    "Den här filen visar valresultatet för alla lokala partier. \\\n",
    "Endast lokala partier som fått mandat är medräknade. FI är \\\n",
    "inte med i beräkningen.\n",
    "\n",
    "\"\"\")\n",
    "    f.close"
   ]
  },
  {
   "cell_type": "markdown",
   "metadata": {
    "heading_collapsed": true
   },
   "source": [
    "## 3.10 Här lockades flest till valbåsen"
   ]
  },
  {
   "cell_type": "markdown",
   "metadata": {
    "heading_collapsed": true,
    "hidden": true
   },
   "source": [
    "#### 3.10.1 Intro"
   ]
  },
  {
   "cell_type": "markdown",
   "metadata": {
    "hidden": true
   },
   "source": [
    "Reporter: Måns\n",
    "\n",
    "Att ta fram:\n",
    "- Valdeltagande per kommun, valen 2018 och 2014\n",
    "- De tio kommuner där valdeltagandet ökat mest\n",
    "- De tio kommuner där valdeltagandet minskat mest\n"
   ]
  },
  {
   "cell_type": "markdown",
   "metadata": {
    "hidden": true
   },
   "source": [
    "Denna funktion sorterar fram data på valdeltagande för valfritt valår. Parametern 'value_sorter' bestämmer efter vilken column som den ska sorteras, efter högst/lägst valdeltagande, eller efter förändring."
   ]
  },
  {
   "cell_type": "markdown",
   "metadata": {
    "heading_collapsed": true,
    "hidden": true
   },
   "source": [
    "#### 3.10.2 Bearbetning"
   ]
  },
  {
   "cell_type": "code",
   "execution_count": 42,
   "metadata": {
    "hidden": true
   },
   "outputs": [],
   "source": [
    "import pandas as pd\n",
    "from util import particip_sorter,elec_particip,kommun_deltagande"
   ]
  },
  {
   "cell_type": "code",
   "execution_count": 43,
   "metadata": {
    "hidden": true
   },
   "outputs": [],
   "source": [
    "elec_year = 2018"
   ]
  },
  {
   "cell_type": "code",
   "execution_count": 44,
   "metadata": {
    "hidden": true
   },
   "outputs": [
    {
     "data": {
      "text/html": [
       "<div>\n",
       "<style scoped>\n",
       "    .dataframe tbody tr th:only-of-type {\n",
       "        vertical-align: middle;\n",
       "    }\n",
       "\n",
       "    .dataframe tbody tr th {\n",
       "        vertical-align: top;\n",
       "    }\n",
       "\n",
       "    .dataframe thead th {\n",
       "        text-align: right;\n",
       "    }\n",
       "</style>\n",
       "<table border=\"1\" class=\"dataframe\">\n",
       "  <thead>\n",
       "    <tr style=\"text-align: right;\">\n",
       "      <th></th>\n",
       "      <th>kommun</th>\n",
       "      <th>valdeltagande_2014</th>\n",
       "      <th>valdeltagande_2018</th>\n",
       "      <th>förändring_2014-2018</th>\n",
       "    </tr>\n",
       "  </thead>\n",
       "  <tbody>\n",
       "    <tr>\n",
       "      <th>94</th>\n",
       "      <td>Båstad</td>\n",
       "      <td>63.60</td>\n",
       "      <td>86.65</td>\n",
       "      <td>23.05</td>\n",
       "    </tr>\n",
       "    <tr>\n",
       "      <th>221</th>\n",
       "      <td>Mellerud</td>\n",
       "      <td>78.95</td>\n",
       "      <td>82.58</td>\n",
       "      <td>3.63</td>\n",
       "    </tr>\n",
       "    <tr>\n",
       "      <th>92</th>\n",
       "      <td>Malmö</td>\n",
       "      <td>75.19</td>\n",
       "      <td>78.57</td>\n",
       "      <td>3.38</td>\n",
       "    </tr>\n",
       "    <tr>\n",
       "      <th>217</th>\n",
       "      <td>Bengtsfors</td>\n",
       "      <td>78.04</td>\n",
       "      <td>81.35</td>\n",
       "      <td>3.31</td>\n",
       "    </tr>\n",
       "    <tr>\n",
       "      <th>222</th>\n",
       "      <td>Munkedal</td>\n",
       "      <td>81.27</td>\n",
       "      <td>84.51</td>\n",
       "      <td>3.24</td>\n",
       "    </tr>\n",
       "  </tbody>\n",
       "</table>\n",
       "</div>"
      ],
      "text/plain": [
       "         kommun  valdeltagande_2014  valdeltagande_2018  förändring_2014-2018\n",
       "94       Båstad               63.60               86.65                 23.05\n",
       "221    Mellerud               78.95               82.58                  3.63\n",
       "92        Malmö               75.19               78.57                  3.38\n",
       "217  Bengtsfors               78.04               81.35                  3.31\n",
       "222    Munkedal               81.27               84.51                  3.24"
      ]
     },
     "execution_count": 44,
     "metadata": {},
     "output_type": "execute_result"
    }
   ],
   "source": [
    "particip_sorter(elec_year=elec_year,elec_type='K',value_sorter='förändring',sorter=False).head()"
   ]
  },
  {
   "cell_type": "markdown",
   "metadata": {
    "hidden": true
   },
   "source": [
    "Ovan kan man se en potentiell brist som kommer genom att kolla valresultatsdata - ibland sker det omval. I detta fall så ser vi att valresultatet för 2014 i Båstad var endast 63,6 procent. Det är inte för att man sket i kommunvalet där 2014, det är för att det var ett omval i juni 2015 i Båstad för kommunfullmäktige. Det här ordnades ad hoc inför publiceringen i tidningen."
   ]
  },
  {
   "cell_type": "code",
   "execution_count": 45,
   "metadata": {
    "hidden": true
   },
   "outputs": [],
   "source": [
    "particip_sorter(elec_year=elec_year,elec_type='K',value_sorter='förändring',sorter=False)\\\n",
    "    .to_excel(f'redaktionsmaterial/valdata/MÅNS_valdeltagande/\\\n",
    "valdeltagande_{elec_year}_jämfört_{elec_year-4}.xlsx',index=False)"
   ]
  },
  {
   "cell_type": "code",
   "execution_count": 46,
   "metadata": {
    "hidden": true
   },
   "outputs": [],
   "source": [
    "pd.read_excel(f'data/meta_filer/valdeltagande/\\\n",
    "valdeltagande_{elec_year}K.xlsx')\\\n",
    ".to_excel(\"redaktionsmaterial/valdata/MÅNS_valdeltagande/grundfiler/grundfil.xlsx\",index=False)"
   ]
  },
  {
   "cell_type": "markdown",
   "metadata": {
    "hidden": true
   },
   "source": [
    "##### 3.10.2.1 Till grafik"
   ]
  },
  {
   "cell_type": "code",
   "execution_count": 47,
   "metadata": {
    "hidden": true
   },
   "outputs": [],
   "source": [
    "grafik=elec_particip('K')\n",
    "\n",
    "grafik=grafik.loc[grafik['Valår']>2010].set_index('Valår')\n",
    "\n",
    "grafik=grafik.T\n",
    "\n",
    "grafik['Differens'] = grafik[2018]-grafik[2014]"
   ]
  },
  {
   "cell_type": "code",
   "execution_count": 48,
   "metadata": {
    "hidden": true
   },
   "outputs": [
    {
     "data": {
      "text/html": [
       "<div>\n",
       "<style scoped>\n",
       "    .dataframe tbody tr th:only-of-type {\n",
       "        vertical-align: middle;\n",
       "    }\n",
       "\n",
       "    .dataframe tbody tr th {\n",
       "        vertical-align: top;\n",
       "    }\n",
       "\n",
       "    .dataframe thead th {\n",
       "        text-align: right;\n",
       "    }\n",
       "</style>\n",
       "<table border=\"1\" class=\"dataframe\">\n",
       "  <thead>\n",
       "    <tr style=\"text-align: right;\">\n",
       "      <th>Valår</th>\n",
       "      <th>2014</th>\n",
       "      <th>2018</th>\n",
       "      <th>Differens</th>\n",
       "    </tr>\n",
       "  </thead>\n",
       "  <tbody>\n",
       "    <tr>\n",
       "      <th>Valdeltagande, %</th>\n",
       "      <td>82.8</td>\n",
       "      <td>84.1</td>\n",
       "      <td>1.3</td>\n",
       "    </tr>\n",
       "  </tbody>\n",
       "</table>\n",
       "</div>"
      ],
      "text/plain": [
       "Valår             2014  2018  Differens\n",
       "Valdeltagande, %  82.8  84.1        1.3"
      ]
     },
     "execution_count": 48,
     "metadata": {},
     "output_type": "execute_result"
    }
   ],
   "source": [
    "grafik"
   ]
  },
  {
   "cell_type": "code",
   "execution_count": 49,
   "metadata": {
    "hidden": true
   },
   "outputs": [],
   "source": [
    "grafik.to_excel('redaktionsmaterial/tabeller_till_grafik/valdeltagande_MÅNS/\\\n",
    "valdeltagande_kommunvalet_totalt.xlsx')"
   ]
  },
  {
   "cell_type": "code",
   "execution_count": 50,
   "metadata": {
    "hidden": true
   },
   "outputs": [],
   "source": [
    "elec_year=2018"
   ]
  },
  {
   "cell_type": "code",
   "execution_count": 51,
   "metadata": {
    "hidden": true
   },
   "outputs": [
    {
     "data": {
      "text/html": [
       "<div>\n",
       "<style scoped>\n",
       "    .dataframe tbody tr th:only-of-type {\n",
       "        vertical-align: middle;\n",
       "    }\n",
       "\n",
       "    .dataframe tbody tr th {\n",
       "        vertical-align: top;\n",
       "    }\n",
       "\n",
       "    .dataframe thead th {\n",
       "        text-align: right;\n",
       "    }\n",
       "</style>\n",
       "<table border=\"1\" class=\"dataframe\">\n",
       "  <thead>\n",
       "    <tr style=\"text-align: right;\">\n",
       "      <th></th>\n",
       "      <th>kommun</th>\n",
       "      <th>Valdeltagande, %</th>\n",
       "      <th>Differens</th>\n",
       "    </tr>\n",
       "  </thead>\n",
       "  <tbody>\n",
       "    <tr>\n",
       "      <th>94</th>\n",
       "      <td>Båstad</td>\n",
       "      <td>86.65</td>\n",
       "      <td>23.05</td>\n",
       "    </tr>\n",
       "    <tr>\n",
       "      <th>221</th>\n",
       "      <td>Mellerud</td>\n",
       "      <td>82.58</td>\n",
       "      <td>3.63</td>\n",
       "    </tr>\n",
       "    <tr>\n",
       "      <th>92</th>\n",
       "      <td>Malmö</td>\n",
       "      <td>78.57</td>\n",
       "      <td>3.38</td>\n",
       "    </tr>\n",
       "    <tr>\n",
       "      <th>217</th>\n",
       "      <td>Bengtsfors</td>\n",
       "      <td>81.35</td>\n",
       "      <td>3.31</td>\n",
       "    </tr>\n",
       "    <tr>\n",
       "      <th>222</th>\n",
       "      <td>Munkedal</td>\n",
       "      <td>84.51</td>\n",
       "      <td>3.24</td>\n",
       "    </tr>\n",
       "    <tr>\n",
       "      <th>40</th>\n",
       "      <td>Krokom</td>\n",
       "      <td>86.45</td>\n",
       "      <td>3.22</td>\n",
       "    </tr>\n",
       "    <tr>\n",
       "      <th>121</th>\n",
       "      <td>Hörby</td>\n",
       "      <td>84.12</td>\n",
       "      <td>3.10</td>\n",
       "    </tr>\n",
       "    <tr>\n",
       "      <th>225</th>\n",
       "      <td>Strömstad</td>\n",
       "      <td>76.74</td>\n",
       "      <td>3.01</td>\n",
       "    </tr>\n",
       "    <tr>\n",
       "      <th>111</th>\n",
       "      <td>Skurup</td>\n",
       "      <td>85.41</td>\n",
       "      <td>2.81</td>\n",
       "    </tr>\n",
       "    <tr>\n",
       "      <th>110</th>\n",
       "      <td>Sjöbo</td>\n",
       "      <td>83.53</td>\n",
       "      <td>2.80</td>\n",
       "    </tr>\n",
       "  </tbody>\n",
       "</table>\n",
       "</div>"
      ],
      "text/plain": [
       "         kommun  Valdeltagande, %  Differens\n",
       "94       Båstad             86.65      23.05\n",
       "221    Mellerud             82.58       3.63\n",
       "92        Malmö             78.57       3.38\n",
       "217  Bengtsfors             81.35       3.31\n",
       "222    Munkedal             84.51       3.24\n",
       "40       Krokom             86.45       3.22\n",
       "121       Hörby             84.12       3.10\n",
       "225   Strömstad             76.74       3.01\n",
       "111      Skurup             85.41       2.81\n",
       "110       Sjöbo             83.53       2.80"
      ]
     },
     "execution_count": 51,
     "metadata": {},
     "output_type": "execute_result"
    }
   ],
   "source": [
    "kommun_deltagande(elec_year,'K',sorter=False)"
   ]
  },
  {
   "cell_type": "markdown",
   "metadata": {},
   "source": [
    "Notera dock här att anledningen till Båstads höga differens är därför att Båstad hade ett omval i kommunvalet 2015 som hade mycket lägre valdeltagande. Så diffen visar jämfört detta omval, inte resultatet i 2014 års kommunval."
   ]
  },
  {
   "cell_type": "code",
   "execution_count": 52,
   "metadata": {
    "hidden": true
   },
   "outputs": [],
   "source": [
    "kommun_deltagande(elec_year,'K',sorter=False)\\\n",
    "    .to_excel('redaktionsmaterial/tabeller_till_grafik/valdeltagande_MÅNS/\\\n",
    "störst_ökning_10_kommuner.xlsx',index=False)\n",
    "kommun_deltagande(elec_year,'K',sorter=True)\\\n",
    "    .to_excel('redaktionsmaterial/tabeller_till_grafik/valdeltagande_MÅNS/\\\n",
    "störst_minskning_10_kommuner.xlsx',index=False)"
   ]
  },
  {
   "cell_type": "markdown",
   "metadata": {
    "heading_collapsed": true,
    "hidden": true
   },
   "source": [
    "#### 3.10.3 README"
   ]
  },
  {
   "cell_type": "code",
   "execution_count": 53,
   "metadata": {
    "hidden": true
   },
   "outputs": [],
   "source": [
    "with open(\"redaktionsmaterial/valdata/MÅNS_valdeltagande/README.txt\",\"w\") as f:\n",
    "    f.write(\"\"\"\\\n",
    "\n",
    "I denna fil finner man valdeltagandet i valet, jämfört \\\n",
    "med förra. Det är sorterat efter de kommuner som hade \\\n",
    "störst ökning i valdeltagande.\n",
    "\n",
    "\"\"\")\n",
    "    f.close"
   ]
  },
  {
   "cell_type": "markdown",
   "metadata": {
    "heading_collapsed": true
   },
   "source": [
    "## 3.11 Så gick valet i storstäderna"
   ]
  },
  {
   "cell_type": "markdown",
   "metadata": {
    "heading_collapsed": true,
    "hidden": true
   },
   "source": [
    "#### 3.11.1 Intro"
   ]
  },
  {
   "cell_type": "markdown",
   "metadata": {
    "hidden": true
   },
   "source": [
    "Reporter: Påhl\n",
    "\n",
    "Att ta fram:\n",
    "- Mandatfördelning för alla partier i Stockholm, Göteborg och Malmö"
   ]
  },
  {
   "cell_type": "markdown",
   "metadata": {
    "heading_collapsed": true,
    "hidden": true
   },
   "source": [
    "#### 3.11.2 Bearbetning"
   ]
  },
  {
   "cell_type": "code",
   "execution_count": 54,
   "metadata": {
    "hidden": true
   },
   "outputs": [],
   "source": [
    "import pandas as pd\n",
    "from util import big_city_sort,storstäderna_grafik"
   ]
  },
  {
   "cell_type": "code",
   "execution_count": 55,
   "metadata": {
    "hidden": true
   },
   "outputs": [],
   "source": [
    "elec_year = 2018"
   ]
  },
  {
   "cell_type": "code",
   "execution_count": 60,
   "metadata": {
    "hidden": true
   },
   "outputs": [],
   "source": [
    "big_city_sort(elec_year=elec_year,elec_type='K')\\\n",
    "    .to_excel(f\"redaktionsmaterial/valdata/PÅHL_storstäderna/\\\n",
    "valresultat_storstäderna_{elec_year}.xlsx\",index=False)"
   ]
  },
  {
   "cell_type": "markdown",
   "metadata": {
    "heading_collapsed": true,
    "hidden": true
   },
   "source": [
    "##### 3.11.2.1 Till grafik"
   ]
  },
  {
   "cell_type": "code",
   "execution_count": 61,
   "metadata": {
    "hidden": true
   },
   "outputs": [],
   "source": [
    "grafik=big_city_sort(elec_year=elec_year,elec_type='K')"
   ]
  },
  {
   "cell_type": "code",
   "execution_count": 62,
   "metadata": {
    "hidden": true
   },
   "outputs": [],
   "source": [
    "städer=['Malmö','Stockholm','Göteborg']"
   ]
  },
  {
   "cell_type": "code",
   "execution_count": 63,
   "metadata": {
    "hidden": true
   },
   "outputs": [],
   "source": [
    "for stad in städer:\n",
    "    storstäderna_grafik(grafik,stad=stad,elec_year=elec_year)\\\n",
    "        .to_excel(f'redaktionsmaterial/tabeller_till_grafik/storstäderna_PÅHL/\\\n",
    "{stad}_mandatresultat.xlsx',index=False)"
   ]
  },
  {
   "cell_type": "markdown",
   "metadata": {
    "heading_collapsed": true,
    "hidden": true
   },
   "source": [
    "#### 3.11.3 README"
   ]
  },
  {
   "cell_type": "code",
   "execution_count": 64,
   "metadata": {
    "hidden": true
   },
   "outputs": [],
   "source": [
    "with open(\"redaktionsmaterial/valdata/PÅHL_storstäderna/README.txt\",\"w\") as f:\n",
    "    f.write(\"\"\"\\\n",
    "\n",
    "I denna excelfil finner man valresultatet i storstäderna.\n",
    "\n",
    "\"\"\")\n",
    "    f.close"
   ]
  },
  {
   "cell_type": "markdown",
   "metadata": {
    "heading_collapsed": true
   },
   "source": [
    "## 3.12 Valets förlorare"
   ]
  },
  {
   "cell_type": "markdown",
   "metadata": {
    "heading_collapsed": true,
    "hidden": true
   },
   "source": [
    "#### 3.12.1 Intro"
   ]
  },
  {
   "cell_type": "markdown",
   "metadata": {
    "hidden": true
   },
   "source": [
    "Reporter: Hans\n",
    "\n",
    "Att ta fram:\n",
    "- De tio kommuner där tappet i röstandelar för ett parti är högst i landet\n",
    "\n",
    "Data:\n",
    "1. röstandelar för varje parti i varje kommun i valen 2014 och 2018 (resultatet blir då valet 2018 minus 2014, sortera kommunerna efter störst tapp)."
   ]
  },
  {
   "cell_type": "markdown",
   "metadata": {
    "heading_collapsed": true,
    "hidden": true
   },
   "source": [
    "#### 3.12.2 Bearbetning"
   ]
  },
  {
   "cell_type": "code",
   "execution_count": 65,
   "metadata": {
    "hidden": true
   },
   "outputs": [],
   "source": [
    "from util import looser_winner,all_elec_years"
   ]
  },
  {
   "cell_type": "code",
   "execution_count": 66,
   "metadata": {
    "hidden": true
   },
   "outputs": [],
   "source": [
    "elec_year=2018"
   ]
  },
  {
   "cell_type": "code",
   "execution_count": 67,
   "metadata": {
    "hidden": true
   },
   "outputs": [],
   "source": [
    "df = all_elec_years('K')"
   ]
  },
  {
   "cell_type": "code",
   "execution_count": 68,
   "metadata": {
    "hidden": true
   },
   "outputs": [
    {
     "data": {
      "text/html": [
       "<div>\n",
       "<style scoped>\n",
       "    .dataframe tbody tr th:only-of-type {\n",
       "        vertical-align: middle;\n",
       "    }\n",
       "\n",
       "    .dataframe tbody tr th {\n",
       "        vertical-align: top;\n",
       "    }\n",
       "\n",
       "    .dataframe thead th {\n",
       "        text-align: right;\n",
       "    }\n",
       "</style>\n",
       "<table border=\"1\" class=\"dataframe\">\n",
       "  <thead>\n",
       "    <tr style=\"text-align: right;\">\n",
       "      <th></th>\n",
       "      <th>kommun</th>\n",
       "      <th>beteckning</th>\n",
       "      <th>röster_2018</th>\n",
       "      <th>procent_2014</th>\n",
       "      <th>procent_2018</th>\n",
       "      <th>diff i procentenheter 2018-2014</th>\n",
       "      <th>mandat_2014</th>\n",
       "      <th>mandat_2018</th>\n",
       "    </tr>\n",
       "  </thead>\n",
       "  <tbody>\n",
       "    <tr>\n",
       "      <th>536</th>\n",
       "      <td>Dorotea</td>\n",
       "      <td>Dorotea Kommunlista</td>\n",
       "      <td>306</td>\n",
       "      <td>38.97</td>\n",
       "      <td>18.50</td>\n",
       "      <td>-20.47</td>\n",
       "      <td>10</td>\n",
       "      <td>5</td>\n",
       "    </tr>\n",
       "    <tr>\n",
       "      <th>2046</th>\n",
       "      <td>Övertorneå</td>\n",
       "      <td>Övertorneås Fria Alternativ</td>\n",
       "      <td>90</td>\n",
       "      <td>21.76</td>\n",
       "      <td>3.23</td>\n",
       "      <td>-18.53</td>\n",
       "      <td>7</td>\n",
       "      <td>1</td>\n",
       "    </tr>\n",
       "    <tr>\n",
       "      <th>612</th>\n",
       "      <td>Åsele</td>\n",
       "      <td>Åselepartiet</td>\n",
       "      <td>306</td>\n",
       "      <td>35.16</td>\n",
       "      <td>16.86</td>\n",
       "      <td>-18.30</td>\n",
       "      <td>11</td>\n",
       "      <td>6</td>\n",
       "    </tr>\n",
       "    <tr>\n",
       "      <th>209</th>\n",
       "      <td>Pajala</td>\n",
       "      <td>Arbetarepartiet-Socialdemokraterna</td>\n",
       "      <td>1111</td>\n",
       "      <td>46.03</td>\n",
       "      <td>29.21</td>\n",
       "      <td>-16.82</td>\n",
       "      <td>15</td>\n",
       "      <td>7</td>\n",
       "    </tr>\n",
       "    <tr>\n",
       "      <th>217</th>\n",
       "      <td>Älvdalen</td>\n",
       "      <td>Arbetarepartiet-Socialdemokraterna</td>\n",
       "      <td>1362</td>\n",
       "      <td>45.51</td>\n",
       "      <td>28.84</td>\n",
       "      <td>-16.67</td>\n",
       "      <td>17</td>\n",
       "      <td>11</td>\n",
       "    </tr>\n",
       "  </tbody>\n",
       "</table>\n",
       "</div>"
      ],
      "text/plain": [
       "          kommun                          beteckning  röster_2018  \\\n",
       "536      Dorotea                 Dorotea Kommunlista          306   \n",
       "2046  Övertorneå         Övertorneås Fria Alternativ           90   \n",
       "612        Åsele                        Åselepartiet          306   \n",
       "209       Pajala  Arbetarepartiet-Socialdemokraterna         1111   \n",
       "217     Älvdalen  Arbetarepartiet-Socialdemokraterna         1362   \n",
       "\n",
       "      procent_2014  procent_2018  diff i procentenheter 2018-2014  \\\n",
       "536          38.97         18.50                           -20.47   \n",
       "2046         21.76          3.23                           -18.53   \n",
       "612          35.16         16.86                           -18.30   \n",
       "209          46.03         29.21                           -16.82   \n",
       "217          45.51         28.84                           -16.67   \n",
       "\n",
       "      mandat_2014  mandat_2018  \n",
       "536            10            5  \n",
       "2046            7            1  \n",
       "612            11            6  \n",
       "209            15            7  \n",
       "217            17           11  "
      ]
     },
     "execution_count": 68,
     "metadata": {},
     "output_type": "execute_result"
    }
   ],
   "source": [
    "looser_winner(df,elec_year=elec_year,party=None,sorter=True).head()"
   ]
  },
  {
   "cell_type": "markdown",
   "metadata": {
    "hidden": true
   },
   "source": [
    "Ovanstående är en ombyggd variant av muni_sorter(). Med parametern part=None så återges samtliga kommuner och dess partier sorterad efter hur stor skillnad det var i stöd mellan angivet val och valet innan i procent. Man kan specificera parti också med t ex party='SD'."
   ]
  },
  {
   "cell_type": "code",
   "execution_count": 69,
   "metadata": {
    "hidden": true
   },
   "outputs": [],
   "source": [
    "looser_winner(df,elec_year=elec_year,party=None,sorter=True)\\\n",
    "    .to_excel(f\"redaktionsmaterial/valdata/HANS_valförlorarna/\\\n",
    "största_tappen_{elec_years}.xlsx\",index=False)"
   ]
  },
  {
   "cell_type": "markdown",
   "metadata": {
    "heading_collapsed": true,
    "hidden": true
   },
   "source": [
    "##### 3.12.2.1 Till grafik"
   ]
  },
  {
   "cell_type": "markdown",
   "metadata": {
    "hidden": true
   },
   "source": [
    "Här sorteras de kommuner där de störst tapp av procent för ett parti (som ändock fortfarande finns representerat i KF efter valet 2018) skedde. "
   ]
  },
  {
   "cell_type": "code",
   "execution_count": 70,
   "metadata": {
    "hidden": true
   },
   "outputs": [],
   "source": [
    "df = all_elec_years('K')"
   ]
  },
  {
   "cell_type": "code",
   "execution_count": 71,
   "metadata": {
    "hidden": true
   },
   "outputs": [],
   "source": [
    "elec_year=2018"
   ]
  },
  {
   "cell_type": "code",
   "execution_count": 72,
   "metadata": {
    "hidden": true
   },
   "outputs": [],
   "source": [
    "grafik=looser_winner(df,elec_year=elec_year,party=None,sorter=True,stora_partier=False)\n",
    "\n",
    "grafik = grafik.loc[grafik[f'mandat_{elec_year}']>0].head(10)\n",
    "\n",
    "grafik=grafik.loc[:,['kommun','beteckning',f'procent_{elec_year}',f'diff i procentenheter {elec_year}-{elec_year-4}']]\n",
    "\n",
    "grafik.rename(columns={'kommun':'Kommun',\n",
    "                      'beteckning':'Parti',\n",
    "                      f'procent_{elec_year}':'Resultat',\n",
    "                      f'diff i procentenheter {elec_year}-{elec_year-4}':'Minskning'},inplace=True)"
   ]
  },
  {
   "cell_type": "code",
   "execution_count": 73,
   "metadata": {
    "hidden": true
   },
   "outputs": [
    {
     "data": {
      "text/html": [
       "<div>\n",
       "<style scoped>\n",
       "    .dataframe tbody tr th:only-of-type {\n",
       "        vertical-align: middle;\n",
       "    }\n",
       "\n",
       "    .dataframe tbody tr th {\n",
       "        vertical-align: top;\n",
       "    }\n",
       "\n",
       "    .dataframe thead th {\n",
       "        text-align: right;\n",
       "    }\n",
       "</style>\n",
       "<table border=\"1\" class=\"dataframe\">\n",
       "  <thead>\n",
       "    <tr style=\"text-align: right;\">\n",
       "      <th></th>\n",
       "      <th>Kommun</th>\n",
       "      <th>Parti</th>\n",
       "      <th>Resultat</th>\n",
       "      <th>Minskning</th>\n",
       "    </tr>\n",
       "  </thead>\n",
       "  <tbody>\n",
       "    <tr>\n",
       "      <th>536</th>\n",
       "      <td>Dorotea</td>\n",
       "      <td>Dorotea Kommunlista</td>\n",
       "      <td>18.50</td>\n",
       "      <td>-20.47</td>\n",
       "    </tr>\n",
       "    <tr>\n",
       "      <th>2046</th>\n",
       "      <td>Övertorneå</td>\n",
       "      <td>Övertorneås Fria Alternativ</td>\n",
       "      <td>3.23</td>\n",
       "      <td>-18.53</td>\n",
       "    </tr>\n",
       "    <tr>\n",
       "      <th>612</th>\n",
       "      <td>Åsele</td>\n",
       "      <td>Åselepartiet</td>\n",
       "      <td>16.86</td>\n",
       "      <td>-18.30</td>\n",
       "    </tr>\n",
       "    <tr>\n",
       "      <th>209</th>\n",
       "      <td>Pajala</td>\n",
       "      <td>Arbetarepartiet-Socialdemokraterna</td>\n",
       "      <td>29.21</td>\n",
       "      <td>-16.82</td>\n",
       "    </tr>\n",
       "    <tr>\n",
       "      <th>217</th>\n",
       "      <td>Älvdalen</td>\n",
       "      <td>Arbetarepartiet-Socialdemokraterna</td>\n",
       "      <td>28.84</td>\n",
       "      <td>-16.67</td>\n",
       "    </tr>\n",
       "    <tr>\n",
       "      <th>81</th>\n",
       "      <td>Ragunda</td>\n",
       "      <td>Arbetarepartiet-Socialdemokraterna</td>\n",
       "      <td>35.58</td>\n",
       "      <td>-15.54</td>\n",
       "    </tr>\n",
       "    <tr>\n",
       "      <th>80</th>\n",
       "      <td>Hagfors</td>\n",
       "      <td>Arbetarepartiet-Socialdemokraterna</td>\n",
       "      <td>35.67</td>\n",
       "      <td>-14.93</td>\n",
       "    </tr>\n",
       "    <tr>\n",
       "      <th>799</th>\n",
       "      <td>Eda</td>\n",
       "      <td>Hela Edas Lista</td>\n",
       "      <td>13.49</td>\n",
       "      <td>-14.25</td>\n",
       "    </tr>\n",
       "    <tr>\n",
       "      <th>313</th>\n",
       "      <td>Vimmerby</td>\n",
       "      <td>Arbetarepartiet-Socialdemokraterna</td>\n",
       "      <td>25.08</td>\n",
       "      <td>-13.47</td>\n",
       "    </tr>\n",
       "    <tr>\n",
       "      <th>413</th>\n",
       "      <td>Östra Göinge</td>\n",
       "      <td>Arbetarepartiet-Socialdemokraterna</td>\n",
       "      <td>21.71</td>\n",
       "      <td>-13.04</td>\n",
       "    </tr>\n",
       "  </tbody>\n",
       "</table>\n",
       "</div>"
      ],
      "text/plain": [
       "            Kommun                               Parti  Resultat  Minskning\n",
       "536        Dorotea                 Dorotea Kommunlista     18.50     -20.47\n",
       "2046    Övertorneå         Övertorneås Fria Alternativ      3.23     -18.53\n",
       "612          Åsele                        Åselepartiet     16.86     -18.30\n",
       "209         Pajala  Arbetarepartiet-Socialdemokraterna     29.21     -16.82\n",
       "217       Älvdalen  Arbetarepartiet-Socialdemokraterna     28.84     -16.67\n",
       "81         Ragunda  Arbetarepartiet-Socialdemokraterna     35.58     -15.54\n",
       "80         Hagfors  Arbetarepartiet-Socialdemokraterna     35.67     -14.93\n",
       "799            Eda                     Hela Edas Lista     13.49     -14.25\n",
       "313       Vimmerby  Arbetarepartiet-Socialdemokraterna     25.08     -13.47\n",
       "413   Östra Göinge  Arbetarepartiet-Socialdemokraterna     21.71     -13.04"
      ]
     },
     "execution_count": 73,
     "metadata": {},
     "output_type": "execute_result"
    }
   ],
   "source": [
    "grafik"
   ]
  },
  {
   "cell_type": "code",
   "execution_count": 74,
   "metadata": {
    "hidden": true
   },
   "outputs": [],
   "source": [
    "grafik.to_excel(\"redaktionsmaterial/tabeller_till_grafik/förlorarna_HANS/\\\n",
    "10_största_förlorarna.xlsx\",index=False)"
   ]
  },
  {
   "cell_type": "markdown",
   "metadata": {
    "heading_collapsed": true,
    "hidden": true
   },
   "source": [
    "#### 3.12.3 README"
   ]
  },
  {
   "cell_type": "code",
   "execution_count": 75,
   "metadata": {
    "hidden": true
   },
   "outputs": [],
   "source": [
    "with open(\"redaktionsmaterial/valdata/HANS_valförlorarna/README.txt\",\"w\") as f:\n",
    "    f.write(\"\"\"\\\n",
    "\n",
    "I denna excelfil hittar man alla vinnare och förlorare i \\\n",
    "enskilda kommuner i Sveriges alla kommunval. Listan är \\\n",
    "sorterad efter alla de partier som hade störst tapp i \\\n",
    "procentuellt stöd i valet. \n",
    "\n",
    "\"\"\")\n",
    "    f.close"
   ]
  },
  {
   "cell_type": "markdown",
   "metadata": {
    "heading_collapsed": true
   },
   "source": [
    "## 3.13 Lokala röstmagneter"
   ]
  },
  {
   "cell_type": "markdown",
   "metadata": {
    "heading_collapsed": true,
    "hidden": true
   },
   "source": [
    "#### 3.13.1 Intro"
   ]
  },
  {
   "cell_type": "markdown",
   "metadata": {
    "hidden": true
   },
   "source": [
    "Reporter: Anna L\n",
    "\n",
    "Att ta fram:\n",
    "- De partier som gått starkast i kommunvalet jämfört riksdagsvalet i samma kommun.\n",
    "\n",
    "Data:\n",
    "1. Röstandelar per parti i respektive kommun i kommunvalet och riksdagsvalet 2018\n"
   ]
  },
  {
   "cell_type": "markdown",
   "metadata": {
    "hidden": true
   },
   "source": [
    "Lokala röstmagneter är en koll som DS har gjort flera gånger efter val. Det kontrolleras genom att se i vilken kommun där andelen röster för ett parti i en kommun skiljer sig i kommunvalet jämfört med riksdagsvalet. Ett klassiskt exempel är KD i Markaryd där de lokalt är ett väldigt starkt fäste, men där KD inte får lika många röster i riksdagsvalet."
   ]
  },
  {
   "cell_type": "markdown",
   "metadata": {
    "heading_collapsed": true,
    "hidden": true
   },
   "source": [
    "#### 3.13.2 Bearbetning"
   ]
  },
  {
   "cell_type": "code",
   "execution_count": 76,
   "metadata": {
    "hidden": true
   },
   "outputs": [],
   "source": [
    "from util import all_elec_years,local_magnates,elec_compare"
   ]
  },
  {
   "cell_type": "code",
   "execution_count": 77,
   "metadata": {
    "hidden": true
   },
   "outputs": [
    {
     "data": {
      "text/html": [
       "<div>\n",
       "<style scoped>\n",
       "    .dataframe tbody tr th:only-of-type {\n",
       "        vertical-align: middle;\n",
       "    }\n",
       "\n",
       "    .dataframe tbody tr th {\n",
       "        vertical-align: top;\n",
       "    }\n",
       "\n",
       "    .dataframe thead th {\n",
       "        text-align: right;\n",
       "    }\n",
       "</style>\n",
       "<table border=\"1\" class=\"dataframe\">\n",
       "  <thead>\n",
       "    <tr style=\"text-align: right;\">\n",
       "      <th></th>\n",
       "      <th>kommun</th>\n",
       "      <th>parti</th>\n",
       "      <th>röster_K</th>\n",
       "      <th>procent_K</th>\n",
       "      <th>röster_R</th>\n",
       "      <th>procent_R</th>\n",
       "      <th>diff_K_jämf_R</th>\n",
       "    </tr>\n",
       "  </thead>\n",
       "  <tbody>\n",
       "    <tr>\n",
       "      <th>127</th>\n",
       "      <td>Orsa</td>\n",
       "      <td>C</td>\n",
       "      <td>1930.0</td>\n",
       "      <td>41.80</td>\n",
       "      <td>505.0</td>\n",
       "      <td>10.98</td>\n",
       "      <td>30.82</td>\n",
       "    </tr>\n",
       "    <tr>\n",
       "      <th>2442</th>\n",
       "      <td>Laxå</td>\n",
       "      <td>KD</td>\n",
       "      <td>1425.0</td>\n",
       "      <td>38.95</td>\n",
       "      <td>346.0</td>\n",
       "      <td>9.44</td>\n",
       "      <td>29.51</td>\n",
       "    </tr>\n",
       "    <tr>\n",
       "      <th>568</th>\n",
       "      <td>Mönsterås</td>\n",
       "      <td>C</td>\n",
       "      <td>3506.0</td>\n",
       "      <td>38.91</td>\n",
       "      <td>893.0</td>\n",
       "      <td>10.02</td>\n",
       "      <td>28.89</td>\n",
       "    </tr>\n",
       "    <tr>\n",
       "      <th>1693</th>\n",
       "      <td>Nordmaling</td>\n",
       "      <td>C</td>\n",
       "      <td>1996.0</td>\n",
       "      <td>42.45</td>\n",
       "      <td>632.0</td>\n",
       "      <td>13.57</td>\n",
       "      <td>28.88</td>\n",
       "    </tr>\n",
       "    <tr>\n",
       "      <th>660</th>\n",
       "      <td>Markaryd</td>\n",
       "      <td>KD</td>\n",
       "      <td>2429.0</td>\n",
       "      <td>39.32</td>\n",
       "      <td>632.0</td>\n",
       "      <td>10.58</td>\n",
       "      <td>28.74</td>\n",
       "    </tr>\n",
       "    <tr>\n",
       "      <th>1109</th>\n",
       "      <td>Landskrona</td>\n",
       "      <td>L</td>\n",
       "      <td>9377.0</td>\n",
       "      <td>34.24</td>\n",
       "      <td>1803.0</td>\n",
       "      <td>6.73</td>\n",
       "      <td>27.51</td>\n",
       "    </tr>\n",
       "    <tr>\n",
       "      <th>766</th>\n",
       "      <td>Kiruna</td>\n",
       "      <td>C</td>\n",
       "      <td>4919.0</td>\n",
       "      <td>32.89</td>\n",
       "      <td>796.0</td>\n",
       "      <td>5.38</td>\n",
       "      <td>27.51</td>\n",
       "    </tr>\n",
       "    <tr>\n",
       "      <th>1963</th>\n",
       "      <td>Dals-Ed</td>\n",
       "      <td>C</td>\n",
       "      <td>1153.0</td>\n",
       "      <td>38.70</td>\n",
       "      <td>372.0</td>\n",
       "      <td>12.67</td>\n",
       "      <td>26.03</td>\n",
       "    </tr>\n",
       "    <tr>\n",
       "      <th>2399</th>\n",
       "      <td>Degerfors</td>\n",
       "      <td>V</td>\n",
       "      <td>2310.0</td>\n",
       "      <td>35.68</td>\n",
       "      <td>653.0</td>\n",
       "      <td>10.18</td>\n",
       "      <td>25.50</td>\n",
       "    </tr>\n",
       "    <tr>\n",
       "      <th>712</th>\n",
       "      <td>Arvidsjaur</td>\n",
       "      <td>C</td>\n",
       "      <td>1428.0</td>\n",
       "      <td>34.33</td>\n",
       "      <td>390.0</td>\n",
       "      <td>9.34</td>\n",
       "      <td>24.99</td>\n",
       "    </tr>\n",
       "    <tr>\n",
       "      <th>945</th>\n",
       "      <td>Östra Göinge</td>\n",
       "      <td>M</td>\n",
       "      <td>3795.0</td>\n",
       "      <td>42.12</td>\n",
       "      <td>1587.0</td>\n",
       "      <td>18.14</td>\n",
       "      <td>23.98</td>\n",
       "    </tr>\n",
       "    <tr>\n",
       "      <th>1733</th>\n",
       "      <td>Sorsele</td>\n",
       "      <td>V</td>\n",
       "      <td>553.0</td>\n",
       "      <td>36.45</td>\n",
       "      <td>193.0</td>\n",
       "      <td>12.75</td>\n",
       "      <td>23.70</td>\n",
       "    </tr>\n",
       "    <tr>\n",
       "      <th>541</th>\n",
       "      <td>Hultsfred</td>\n",
       "      <td>C</td>\n",
       "      <td>3001.0</td>\n",
       "      <td>33.47</td>\n",
       "      <td>920.0</td>\n",
       "      <td>10.62</td>\n",
       "      <td>22.85</td>\n",
       "    </tr>\n",
       "    <tr>\n",
       "      <th>2250</th>\n",
       "      <td>Essunga</td>\n",
       "      <td>M</td>\n",
       "      <td>1615.0</td>\n",
       "      <td>42.86</td>\n",
       "      <td>771.0</td>\n",
       "      <td>20.48</td>\n",
       "      <td>22.38</td>\n",
       "    </tr>\n",
       "    <tr>\n",
       "      <th>343</th>\n",
       "      <td>Bräcke</td>\n",
       "      <td>C</td>\n",
       "      <td>1484.0</td>\n",
       "      <td>35.92</td>\n",
       "      <td>586.0</td>\n",
       "      <td>14.19</td>\n",
       "      <td>21.73</td>\n",
       "    </tr>\n",
       "  </tbody>\n",
       "</table>\n",
       "</div>"
      ],
      "text/plain": [
       "            kommun parti  röster_K  procent_K  röster_R  procent_R  \\\n",
       "127           Orsa     C    1930.0      41.80     505.0      10.98   \n",
       "2442          Laxå    KD    1425.0      38.95     346.0       9.44   \n",
       "568      Mönsterås     C    3506.0      38.91     893.0      10.02   \n",
       "1693    Nordmaling     C    1996.0      42.45     632.0      13.57   \n",
       "660       Markaryd    KD    2429.0      39.32     632.0      10.58   \n",
       "1109    Landskrona     L    9377.0      34.24    1803.0       6.73   \n",
       "766         Kiruna     C    4919.0      32.89     796.0       5.38   \n",
       "1963       Dals-Ed     C    1153.0      38.70     372.0      12.67   \n",
       "2399     Degerfors     V    2310.0      35.68     653.0      10.18   \n",
       "712     Arvidsjaur     C    1428.0      34.33     390.0       9.34   \n",
       "945   Östra Göinge     M    3795.0      42.12    1587.0      18.14   \n",
       "1733       Sorsele     V     553.0      36.45     193.0      12.75   \n",
       "541      Hultsfred     C    3001.0      33.47     920.0      10.62   \n",
       "2250       Essunga     M    1615.0      42.86     771.0      20.48   \n",
       "343         Bräcke     C    1484.0      35.92     586.0      14.19   \n",
       "\n",
       "      diff_K_jämf_R  \n",
       "127           30.82  \n",
       "2442          29.51  \n",
       "568           28.89  \n",
       "1693          28.88  \n",
       "660           28.74  \n",
       "1109          27.51  \n",
       "766           27.51  \n",
       "1963          26.03  \n",
       "2399          25.50  \n",
       "712           24.99  \n",
       "945           23.98  \n",
       "1733          23.70  \n",
       "541           22.85  \n",
       "2250          22.38  \n",
       "343           21.73  "
      ]
     },
     "execution_count": 77,
     "metadata": {},
     "output_type": "execute_result"
    }
   ],
   "source": [
    "local_magnates(elec_year=2018).head(15)"
   ]
  },
  {
   "cell_type": "code",
   "execution_count": 78,
   "metadata": {
    "hidden": true
   },
   "outputs": [],
   "source": [
    "elec_year=2018"
   ]
  },
  {
   "cell_type": "code",
   "execution_count": 79,
   "metadata": {
    "hidden": true
   },
   "outputs": [],
   "source": [
    "local_magnates(elec_year=elec_year)\\\n",
    "    .to_excel(f\"redaktionsmaterial/valdata/ANNA_L_röstmagneter/\\\n",
    "röstmagneter_KOMMUNER_{elec_year}.xlsx\",index=False)"
   ]
  },
  {
   "cell_type": "markdown",
   "metadata": {
    "hidden": true
   },
   "source": [
    "##### 3.13.2.1 Till grafik"
   ]
  },
  {
   "cell_type": "code",
   "execution_count": 80,
   "metadata": {
    "hidden": true
   },
   "outputs": [],
   "source": [
    "elec_year=2018"
   ]
  },
  {
   "cell_type": "code",
   "execution_count": 81,
   "metadata": {
    "hidden": true
   },
   "outputs": [],
   "source": [
    "grafik=local_magnates(elec_year=elec_year).head(10)\n",
    "\n",
    "grafik=grafik.loc[:,['kommun','parti','procent_R','procent_K','diff_K_jämf_R']]\n",
    "\n",
    "grafik.rename(columns={\n",
    "    'kommun':'Kommun',\n",
    "    'parti':'Parti',\n",
    "    'procent_R':'Riks',\n",
    "    'procent_K':'Kommun',\n",
    "    'diff_K_jämf_R':'Differens'\n",
    "},inplace=True)"
   ]
  },
  {
   "cell_type": "code",
   "execution_count": 82,
   "metadata": {
    "hidden": true
   },
   "outputs": [
    {
     "data": {
      "text/html": [
       "<div>\n",
       "<style scoped>\n",
       "    .dataframe tbody tr th:only-of-type {\n",
       "        vertical-align: middle;\n",
       "    }\n",
       "\n",
       "    .dataframe tbody tr th {\n",
       "        vertical-align: top;\n",
       "    }\n",
       "\n",
       "    .dataframe thead th {\n",
       "        text-align: right;\n",
       "    }\n",
       "</style>\n",
       "<table border=\"1\" class=\"dataframe\">\n",
       "  <thead>\n",
       "    <tr style=\"text-align: right;\">\n",
       "      <th></th>\n",
       "      <th>Kommun</th>\n",
       "      <th>Parti</th>\n",
       "      <th>Riks</th>\n",
       "      <th>Kommun</th>\n",
       "      <th>Differens</th>\n",
       "    </tr>\n",
       "  </thead>\n",
       "  <tbody>\n",
       "    <tr>\n",
       "      <th>127</th>\n",
       "      <td>Orsa</td>\n",
       "      <td>C</td>\n",
       "      <td>10.98</td>\n",
       "      <td>41.80</td>\n",
       "      <td>30.82</td>\n",
       "    </tr>\n",
       "    <tr>\n",
       "      <th>2442</th>\n",
       "      <td>Laxå</td>\n",
       "      <td>KD</td>\n",
       "      <td>9.44</td>\n",
       "      <td>38.95</td>\n",
       "      <td>29.51</td>\n",
       "    </tr>\n",
       "    <tr>\n",
       "      <th>568</th>\n",
       "      <td>Mönsterås</td>\n",
       "      <td>C</td>\n",
       "      <td>10.02</td>\n",
       "      <td>38.91</td>\n",
       "      <td>28.89</td>\n",
       "    </tr>\n",
       "    <tr>\n",
       "      <th>1693</th>\n",
       "      <td>Nordmaling</td>\n",
       "      <td>C</td>\n",
       "      <td>13.57</td>\n",
       "      <td>42.45</td>\n",
       "      <td>28.88</td>\n",
       "    </tr>\n",
       "    <tr>\n",
       "      <th>660</th>\n",
       "      <td>Markaryd</td>\n",
       "      <td>KD</td>\n",
       "      <td>10.58</td>\n",
       "      <td>39.32</td>\n",
       "      <td>28.74</td>\n",
       "    </tr>\n",
       "    <tr>\n",
       "      <th>1109</th>\n",
       "      <td>Landskrona</td>\n",
       "      <td>L</td>\n",
       "      <td>6.73</td>\n",
       "      <td>34.24</td>\n",
       "      <td>27.51</td>\n",
       "    </tr>\n",
       "    <tr>\n",
       "      <th>766</th>\n",
       "      <td>Kiruna</td>\n",
       "      <td>C</td>\n",
       "      <td>5.38</td>\n",
       "      <td>32.89</td>\n",
       "      <td>27.51</td>\n",
       "    </tr>\n",
       "    <tr>\n",
       "      <th>1963</th>\n",
       "      <td>Dals-Ed</td>\n",
       "      <td>C</td>\n",
       "      <td>12.67</td>\n",
       "      <td>38.70</td>\n",
       "      <td>26.03</td>\n",
       "    </tr>\n",
       "    <tr>\n",
       "      <th>2399</th>\n",
       "      <td>Degerfors</td>\n",
       "      <td>V</td>\n",
       "      <td>10.18</td>\n",
       "      <td>35.68</td>\n",
       "      <td>25.50</td>\n",
       "    </tr>\n",
       "    <tr>\n",
       "      <th>712</th>\n",
       "      <td>Arvidsjaur</td>\n",
       "      <td>C</td>\n",
       "      <td>9.34</td>\n",
       "      <td>34.33</td>\n",
       "      <td>24.99</td>\n",
       "    </tr>\n",
       "  </tbody>\n",
       "</table>\n",
       "</div>"
      ],
      "text/plain": [
       "          Kommun Parti   Riks  Kommun  Differens\n",
       "127         Orsa     C  10.98   41.80      30.82\n",
       "2442        Laxå    KD   9.44   38.95      29.51\n",
       "568    Mönsterås     C  10.02   38.91      28.89\n",
       "1693  Nordmaling     C  13.57   42.45      28.88\n",
       "660     Markaryd    KD  10.58   39.32      28.74\n",
       "1109  Landskrona     L   6.73   34.24      27.51\n",
       "766       Kiruna     C   5.38   32.89      27.51\n",
       "1963     Dals-Ed     C  12.67   38.70      26.03\n",
       "2399   Degerfors     V  10.18   35.68      25.50\n",
       "712   Arvidsjaur     C   9.34   34.33      24.99"
      ]
     },
     "execution_count": 82,
     "metadata": {},
     "output_type": "execute_result"
    }
   ],
   "source": [
    "grafik"
   ]
  },
  {
   "cell_type": "code",
   "execution_count": 83,
   "metadata": {
    "hidden": true
   },
   "outputs": [],
   "source": [
    "grafik.to_excel('redaktionsmaterial/tabeller_till_grafik/lokala_röstmagneter_ANNA_L/\\\n",
    "lokala_röstmagneter.xlsx',index=False)"
   ]
  },
  {
   "cell_type": "markdown",
   "metadata": {
    "heading_collapsed": true,
    "hidden": true
   },
   "source": [
    "#### 3.13.3 README"
   ]
  },
  {
   "cell_type": "code",
   "execution_count": 84,
   "metadata": {
    "hidden": true
   },
   "outputs": [],
   "source": [
    "with open(\"redaktionsmaterial/valdata/ANNA_L_röstmagneter/README.txt\",\"w\") as f:\n",
    "    f.write(\"\"\"\\\n",
    "\n",
    "I denna mapp finns det en fil som visar resultat i kommunerna. \n",
    "\n",
    "KOMMUNER\n",
    "\n",
    "Här kan man se i vilka kommuner ett parti har över-/\\\n",
    "underträffat det resultat partiet hade i rikesdagsvalet \\\n",
    "i samma kommun. T ex så fick KD i Markaryd ett otroligt \\\n",
    "starkt resultat jämfört med vad de fick i riksdagsvalet \\\n",
    "i samma kommun (44,9 procent i kommunvalet 2014, 7,4 i \\\n",
    "riksdagsvalet 2014).\n",
    "\n",
    "\n",
    "\"\"\")\n",
    "    f.close"
   ]
  },
  {
   "cell_type": "markdown",
   "metadata": {
    "heading_collapsed": true
   },
   "source": [
    "## 3.14 Webbtabeller till Datawrapper"
   ]
  },
  {
   "cell_type": "markdown",
   "metadata": {
    "heading_collapsed": true,
    "hidden": true
   },
   "source": [
    "#### 3.14.1 Intro"
   ]
  },
  {
   "cell_type": "markdown",
   "metadata": {
    "hidden": true
   },
   "source": [
    "Till Nicklas Larson"
   ]
  },
  {
   "cell_type": "markdown",
   "metadata": {
    "hidden": true
   },
   "source": [
    "Inför valnatten så planerades det två stycken tabeller som presenterade valresultatet i kommunvalet och i landstingsvalet. Dessa skulle publiceras på webben med hjälp av Datawrapper under morgonen måndagen efter valet. Nicklas är vår webbansvariga på redaktionen."
   ]
  },
  {
   "cell_type": "markdown",
   "metadata": {
    "heading_collapsed": true,
    "hidden": true
   },
   "source": [
    "#### 3.14.2 Bearbetning"
   ]
  },
  {
   "cell_type": "code",
   "execution_count": 85,
   "metadata": {
    "hidden": true
   },
   "outputs": [],
   "source": [
    "from util import till_datawrapper"
   ]
  },
  {
   "cell_type": "code",
   "execution_count": 86,
   "metadata": {
    "hidden": true
   },
   "outputs": [],
   "source": [
    "parties = ['M','L','C','KD','S','V','MP','SD','FI','Övr']"
   ]
  },
  {
   "cell_type": "code",
   "execution_count": 87,
   "metadata": {
    "hidden": true
   },
   "outputs": [],
   "source": [
    "elec_years=[2014,2018]"
   ]
  },
  {
   "cell_type": "code",
   "execution_count": 88,
   "metadata": {
    "hidden": true
   },
   "outputs": [],
   "source": [
    "elec_types=['K','R']"
   ]
  },
  {
   "cell_type": "code",
   "execution_count": 89,
   "metadata": {
    "hidden": true
   },
   "outputs": [],
   "source": [
    "df=till_datawrapper(elec_types=['K','R'],elec_years=elec_years)"
   ]
  },
  {
   "cell_type": "code",
   "execution_count": 90,
   "metadata": {
    "hidden": true
   },
   "outputs": [
    {
     "data": {
      "text/html": [
       "<div>\n",
       "<style scoped>\n",
       "    .dataframe tbody tr th:only-of-type {\n",
       "        vertical-align: middle;\n",
       "    }\n",
       "\n",
       "    .dataframe tbody tr th {\n",
       "        vertical-align: top;\n",
       "    }\n",
       "\n",
       "    .dataframe thead th {\n",
       "        text-align: right;\n",
       "    }\n",
       "</style>\n",
       "<table border=\"1\" class=\"dataframe\">\n",
       "  <thead>\n",
       "    <tr style=\"text-align: right;\">\n",
       "      <th>val</th>\n",
       "      <th>Parti</th>\n",
       "      <th>Resultat kommunvalen, %</th>\n",
       "      <th>Förändring jämfört 2014, %</th>\n",
       "      <th>Resultat riksdagsvalet, %</th>\n",
       "    </tr>\n",
       "  </thead>\n",
       "  <tbody>\n",
       "    <tr>\n",
       "      <th>0</th>\n",
       "      <td>C</td>\n",
       "      <td>9.7</td>\n",
       "      <td>1.8</td>\n",
       "      <td>8.6</td>\n",
       "    </tr>\n",
       "    <tr>\n",
       "      <th>1</th>\n",
       "      <td>FI</td>\n",
       "      <td>1.0</td>\n",
       "      <td>-0.3</td>\n",
       "      <td>0.5</td>\n",
       "    </tr>\n",
       "    <tr>\n",
       "      <th>2</th>\n",
       "      <td>KD</td>\n",
       "      <td>5.2</td>\n",
       "      <td>1.2</td>\n",
       "      <td>6.3</td>\n",
       "    </tr>\n",
       "    <tr>\n",
       "      <th>3</th>\n",
       "      <td>L</td>\n",
       "      <td>6.8</td>\n",
       "      <td>0.3</td>\n",
       "      <td>5.5</td>\n",
       "    </tr>\n",
       "    <tr>\n",
       "      <th>4</th>\n",
       "      <td>M</td>\n",
       "      <td>20.1</td>\n",
       "      <td>-1.5</td>\n",
       "      <td>19.8</td>\n",
       "    </tr>\n",
       "    <tr>\n",
       "      <th>5</th>\n",
       "      <td>MP</td>\n",
       "      <td>4.6</td>\n",
       "      <td>-3.1</td>\n",
       "      <td>4.4</td>\n",
       "    </tr>\n",
       "    <tr>\n",
       "      <th>6</th>\n",
       "      <td>S</td>\n",
       "      <td>27.6</td>\n",
       "      <td>-3.7</td>\n",
       "      <td>28.3</td>\n",
       "    </tr>\n",
       "    <tr>\n",
       "      <th>7</th>\n",
       "      <td>SD</td>\n",
       "      <td>12.7</td>\n",
       "      <td>3.4</td>\n",
       "      <td>17.5</td>\n",
       "    </tr>\n",
       "    <tr>\n",
       "      <th>8</th>\n",
       "      <td>V</td>\n",
       "      <td>7.7</td>\n",
       "      <td>1.2</td>\n",
       "      <td>8.0</td>\n",
       "    </tr>\n",
       "    <tr>\n",
       "      <th>9</th>\n",
       "      <td>Övr</td>\n",
       "      <td>4.7</td>\n",
       "      <td>0.6</td>\n",
       "      <td>1.1</td>\n",
       "    </tr>\n",
       "  </tbody>\n",
       "</table>\n",
       "</div>"
      ],
      "text/plain": [
       "val Parti  Resultat kommunvalen, %  Förändring jämfört 2014, %  \\\n",
       "0       C                      9.7                         1.8   \n",
       "1      FI                      1.0                        -0.3   \n",
       "2      KD                      5.2                         1.2   \n",
       "3       L                      6.8                         0.3   \n",
       "4       M                     20.1                        -1.5   \n",
       "5      MP                      4.6                        -3.1   \n",
       "6       S                     27.6                        -3.7   \n",
       "7      SD                     12.7                         3.4   \n",
       "8       V                      7.7                         1.2   \n",
       "9     Övr                      4.7                         0.6   \n",
       "\n",
       "val  Resultat riksdagsvalet, %  \n",
       "0                          8.6  \n",
       "1                          0.5  \n",
       "2                          6.3  \n",
       "3                          5.5  \n",
       "4                         19.8  \n",
       "5                          4.4  \n",
       "6                         28.3  \n",
       "7                         17.5  \n",
       "8                          8.0  \n",
       "9                          1.1  "
      ]
     },
     "execution_count": 90,
     "metadata": {},
     "output_type": "execute_result"
    }
   ],
   "source": [
    "df"
   ]
  },
  {
   "cell_type": "code",
   "execution_count": 91,
   "metadata": {
    "hidden": true
   },
   "outputs": [],
   "source": [
    "for types in ['K','L']:\n",
    "    till_datawrapper(elec_types=[types,'R'],elec_years=elec_years)\\\n",
    "        .to_excel(f\"redaktionsmaterial/valdata/NICKLAS_datawrapper/\\\n",
    "valresultat_{types}.xlsx\",index=False)"
   ]
  },
  {
   "cell_type": "markdown",
   "metadata": {
    "heading_collapsed": true
   },
   "source": [
    "## 3.15 Övrigt"
   ]
  },
  {
   "cell_type": "markdown",
   "metadata": {
    "hidden": true
   },
   "source": [
    "Följande är till researcher Gustav som tar fram valresultatet 2018: "
   ]
  },
  {
   "cell_type": "code",
   "execution_count": 3,
   "metadata": {
    "hidden": true
   },
   "outputs": [],
   "source": [
    "for elec in ['K','L','R']:\n",
    "    df = all_elec_years(elec)\n",
    "    df.loc[df['valår']==2018].to_excel(f'prelresultat_2018{elec}.xlsx',index=False)"
   ]
  }
 ],
 "metadata": {
  "kernelspec": {
   "display_name": "Python 3",
   "language": "python",
   "name": "python3"
  },
  "language_info": {
   "codemirror_mode": {
    "name": "ipython",
    "version": 3
   },
   "file_extension": ".py",
   "mimetype": "text/x-python",
   "name": "python",
   "nbconvert_exporter": "python",
   "pygments_lexer": "ipython3",
   "version": "3.7.2"
  },
  "toc": {
   "base_numbering": 1,
   "nav_menu": {
    "height": "604px",
    "width": "623px"
   },
   "number_sections": false,
   "sideBar": true,
   "skip_h1_title": false,
   "title_cell": "Table of Contents",
   "title_sidebar": "Contents",
   "toc_cell": true,
   "toc_position": {},
   "toc_section_display": true,
   "toc_window_display": true
  }
 },
 "nbformat": 4,
 "nbformat_minor": 2
}
